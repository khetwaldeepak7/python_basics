{
 "cells": [
  {
   "cell_type": "code",
   "execution_count": 3,
   "metadata": {},
   "outputs": [
    {
     "name": "stdout",
     "output_type": "stream",
     "text": [
      "this is the way by which we can define a function\n",
      "this is the way by which we can define a function\n"
     ]
    }
   ],
   "source": [
    "# definining function\n",
    "def greet():\n",
    "    print(\"this is the way by which we can define a function\")\n",
    "    \n",
    "greet()# way to call function\n",
    "greet()# we can call function many time "
   ]
  },
  {
   "cell_type": "code",
   "execution_count": 4,
   "metadata": {},
   "outputs": [
    {
     "name": "stdout",
     "output_type": "stream",
     "text": [
      "4\n"
     ]
    }
   ],
   "source": [
    "# easy way to call a function to add 2 number\\\\\n",
    "def add(a,b):\n",
    "    c=a+b\n",
    "    print(c)\n",
    "add(2,2)# the argument will passed to the add function"
   ]
  },
  {
   "cell_type": "code",
   "execution_count": 5,
   "metadata": {},
   "outputs": [
    {
     "name": "stdout",
     "output_type": "stream",
     "text": [
      "6\n",
      "20\n"
     ]
    }
   ],
   "source": [
    "def mult(a,b):#defining the function\n",
    "    d=a*b\n",
    "    print(d)\n",
    "mult(3,2)#calling the function\n",
    "mult(10,2)# calling another time !we can call it from any whether and manytimes"
   ]
  },
  {
   "cell_type": "code",
   "execution_count": 13,
   "metadata": {},
   "outputs": [
    {
     "name": "stdout",
     "output_type": "stream",
     "text": [
      "2\n"
     ]
    }
   ],
   "source": [
    "# returning the values\n",
    "def subt(a,b):\n",
    "    d=a-b  # here we are subtracting two values in storing and returning these two values an aassigning to the result variable\n",
    "    return d  #returning d values to the the function where we have called it\n",
    "result=subt(4,2)#here wwhat we are saying hey subt function subtract these 2 values in \n",
    "print(result)"
   ]
  },
  {
   "cell_type": "code",
   "execution_count": 15,
   "metadata": {},
   "outputs": [
    {
     "name": "stdout",
     "output_type": "stream",
     "text": [
      "6 2\n"
     ]
    }
   ],
   "source": [
    "# returning two values\n",
    "def add_sub(a,b):\n",
    "    add=a+b\n",
    "    sub=a-b\n",
    "    return add,sub      #direct it will return  the value  and it will return the value where we have called it\n",
    "resl1,resl2=add_sub(4,2)  # here we had called the function so it will return the values here but it is returning  two values so we need to accept it in two variable\n",
    "print(resl1,resl2)"
   ]
  },
  {
   "cell_type": "code",
   "execution_count": null,
   "metadata": {},
   "outputs": [],
   "source": []
  }
 ],
 "metadata": {
  "kernelspec": {
   "display_name": "Python 3",
   "language": "python",
   "name": "python3"
  },
  "language_info": {
   "codemirror_mode": {
    "name": "ipython",
    "version": 3
   },
   "file_extension": ".py",
   "mimetype": "text/x-python",
   "name": "python",
   "nbconvert_exporter": "python",
   "pygments_lexer": "ipython3",
   "version": "3.7.4"
  }
 },
 "nbformat": 4,
 "nbformat_minor": 2
}
