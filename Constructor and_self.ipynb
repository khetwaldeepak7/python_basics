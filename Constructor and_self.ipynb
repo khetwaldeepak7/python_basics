{
 "cells": [
  {
   "cell_type": "markdown",
   "metadata": {},
   "source": [
    "#  video 51"
   ]
  },
  {
   "cell_type": "code",
   "execution_count": 2,
   "metadata": {},
   "outputs": [
    {
     "ename": "IndentationError",
     "evalue": "expected an indented block (<ipython-input-2-b57b28b9e1de>, line 4)",
     "output_type": "error",
     "traceback": [
      "\u001b[0;36m  File \u001b[0;32m\"<ipython-input-2-b57b28b9e1de>\"\u001b[0;36m, line \u001b[0;32m4\u001b[0m\n\u001b[0;31m    d1=Deepak()\u001b[0m\n\u001b[0m     ^\u001b[0m\n\u001b[0;31mIndentationError\u001b[0m\u001b[0;31m:\u001b[0m expected an indented block\n"
     ]
    }
   ],
   "source": [
    "class Deepak:\n",
    "\n",
    "    \n",
    "d1=Deepak()\n",
    "print(id(d1))   #because we cannt keep the class empty"
   ]
  },
  {
   "cell_type": "code",
   "execution_count": 3,
   "metadata": {},
   "outputs": [
    {
     "name": "stdout",
     "output_type": "stream",
     "text": [
      "140404898537424\n"
     ]
    }
   ],
   "source": [
    "class Deepak:\n",
    "        pass  # pass is used if we want to keep anything empty. pass will pass the value\n",
    "    \n",
    "d1=Deepak()\n",
    "print(id(d1))"
   ]
  },
  {
   "cell_type": "code",
   "execution_count": 17,
   "metadata": {},
   "outputs": [
    {
     "name": "stdout",
     "output_type": "stream",
     "text": [
      "94802485425216\n",
      "94802485425248\n",
      "diiferent\n"
     ]
    }
   ],
   "source": [
    "#on the bases of id \n",
    "c=10\n",
    "b=10+1\n",
    "print(id(c))\n",
    "print(id(b))\n",
    "if(id(c)==id(b)):\n",
    "    print(\"both variable referering to the same id\")\n",
    "else:\n",
    "    print(\"diiferent\")\n"
   ]
  },
  {
   "cell_type": "code",
   "execution_count": 22,
   "metadata": {},
   "outputs": [
    {
     "name": "stdout",
     "output_type": "stream",
     "text": [
      "kaped\n"
     ]
    }
   ],
   "source": [
    "#tc=\"depak\"[::-3] # the number decide to print which position value\n",
    "tc=\"depak\"[::-1]\n",
    "print(tc)"
   ]
  },
  {
   "cell_type": "code",
   "execution_count": 6,
   "metadata": {},
   "outputs": [
    {
     "name": "stdout",
     "output_type": "stream",
     "text": [
      "140092440304592\n",
      "140092440304656\n"
     ]
    }
   ],
   "source": [
    "class D:\n",
    "     pass      #if we dont want to  declare any method inside the classs than we can simply type the pass method    d=D()\n",
    "d=D()    # one onject\n",
    "d1=D()    #another object\n",
    "print(id(d))\n",
    "print(id(d1))   #both object is pointing to the the class but the id we are getting is different\n",
    "                # because here we are creating two different object of sAME CLASS"
   ]
  },
  {
   "cell_type": "code",
   "execution_count": 8,
   "metadata": {},
   "outputs": [
    {
     "name": "stdout",
     "output_type": "stream",
     "text": [
      "140092500852176\n",
      "Deepak\n",
      "140092500852688\n",
      "Deepak\n"
     ]
    }
   ],
   "source": [
    "# when ever we create a new object of class  always a new memory will allocated to that class\n",
    "#how much size it will take? and who will allocates size to object is depend the number of variable the class contain\n",
    "class D:\n",
    "    def __init__(self):\n",
    "        self.name=\"Deepak\"\n",
    "        self.age=23\n",
    "d=D()\n",
    "d1=D()\n",
    "print(id(d))\n",
    "print(d.name)  #here we are getting the same value\n",
    "print(id(d1))   #the id number is different\n",
    "print(d1.name)  #the id is different but the values it \n"
   ]
  },
  {
   "cell_type": "code",
   "execution_count": 9,
   "metadata": {},
   "outputs": [
    {
     "name": "stdout",
     "output_type": "stream",
     "text": [
      "Deepak\n",
      "khetwal\n"
     ]
    }
   ],
   "source": [
    "# if we want to change the value \n",
    "class D:\n",
    "    def __init__(self):\n",
    "        self.name=\"Deepak\"\n",
    "        self.age=23\n",
    "d=D()  #it will directly call first the init method which is the constructor\n",
    "d1=D() \n",
    "print(d.name)  #\n",
    "d1.name=\"khetwal\"    #let change the value before printing it\n",
    "print(d1.name)  #the id is different but the values it "
   ]
  },
  {
   "cell_type": "code",
   "execution_count": 23,
   "metadata": {},
   "outputs": [
    {
     "name": "stdout",
     "output_type": "stream",
     "text": [
      "Deepak\n",
      "Deepak Khetwal\n"
     ]
    }
   ],
   "source": [
    "class D:\n",
    "    def __init__(self):\n",
    "        self.name=\"Deepak\"\n",
    "        self.age=23\n",
    "    def update(self):\n",
    "        self.name=\"Deepak Khetwal\"\n",
    "        \n",
    "d=D()\n",
    "\n",
    "d1=D()\n",
    "d1.update()\n",
    "print(d.name)  #here we are getting the same value\n",
    "\n",
    "print(d1.name)  #the id is different but the values it \n",
    "d1.update()\n"
   ]
  },
  {
   "cell_type": "code",
   "execution_count": 27,
   "metadata": {},
   "outputs": [
    {
     "name": "stdout",
     "output_type": "stream",
     "text": [
      "different age\n"
     ]
    }
   ],
   "source": [
    "class D:\n",
    "    def __init__(self):\n",
    "        self.name=\"Deepak\"\n",
    "        self.age=23\n",
    "    def compare(self,d1):   #instead of d1 we can use different variable  #here d become self and the d1 will become d1\n",
    "        if(self.age==d1.age):\n",
    "           return True\n",
    "        else:\n",
    "           return False\n",
    "        \n",
    "d=D()\n",
    "d.age=2\n",
    "d1=D()\n",
    "if d.compare(d1):   #in the compare method we are passing d1 as a paramter\n",
    "        print(\"same age\")\n",
    "else:\n",
    "           print(\"different age\")\n",
    "    \n"
   ]
  },
  {
   "cell_type": "code",
   "execution_count": null,
   "metadata": {},
   "outputs": [],
   "source": []
  }
 ],
 "metadata": {
  "kernelspec": {
   "display_name": "Python 3",
   "language": "python",
   "name": "python3"
  },
  "language_info": {
   "codemirror_mode": {
    "name": "ipython",
    "version": 3
   },
   "file_extension": ".py",
   "mimetype": "text/x-python",
   "name": "python",
   "nbconvert_exporter": "python",
   "pygments_lexer": "ipython3",
   "version": "3.7.4"
  }
 },
 "nbformat": 4,
 "nbformat_minor": 2
}
