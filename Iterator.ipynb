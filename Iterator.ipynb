{
 "cells": [
  {
   "cell_type": "code",
   "execution_count": null,
   "metadata": {},
   "outputs": [],
   "source": [
    "# iterator is used when we have to fetch single value at a paticular time"
   ]
  },
  {
   "cell_type": "code",
   "execution_count": 8,
   "metadata": {},
   "outputs": [
    {
     "name": "stdout",
     "output_type": "stream",
     "text": [
      "2\n",
      "3\n",
      "4\n",
      "5\n",
      "6\n",
      "7\n"
     ]
    }
   ],
   "source": [
    "# using index number\n",
    "n=[2,3,4,5,6,7]\n",
    "b=len(n)\n",
    "for i in range(b):   # using the length first we will calculate the length of array \n",
    "    print(n[i])"
   ]
  },
  {
   "cell_type": "code",
   "execution_count": 1,
   "metadata": {},
   "outputs": [
    {
     "name": "stdout",
     "output_type": "stream",
     "text": [
      "2\n",
      "3\n",
      "4\n"
     ]
    }
   ],
   "source": [
    "n=[2,3,4]\n",
    "for i in n:   #using for loop\n",
    "    print(i)"
   ]
  },
  {
   "cell_type": "markdown",
   "metadata": {},
   "source": [
    "# using ITERATOR we will print \n",
    "# iter is the name of function\n"
   ]
  },
  {
   "cell_type": "code",
   "execution_count": 9,
   "metadata": {},
   "outputs": [
    {
     "name": "stdout",
     "output_type": "stream",
     "text": [
      "<list_iterator object at 0x7f6de869d750>\n"
     ]
    }
   ],
   "source": [
    "#iter function will print value one by one\n",
    "n=[1,2,3,4,5,6]\n",
    "n1=iter(n)\n",
    "print(n1)   #but it will print the addres of n1"
   ]
  },
  {
   "cell_type": "code",
   "execution_count": 13,
   "metadata": {},
   "outputs": [
    {
     "name": "stdout",
     "output_type": "stream",
     "text": [
      "1\n",
      "2\n"
     ]
    }
   ],
   "source": [
    "n=[1,2,3,4,5,6]\n",
    "n1=iter(n)   #next is the in build function which we will help to get the value with the help to index number\n",
    "print(n1.__next__()) \n",
    "print(n1.__next__())"
   ]
  },
  {
   "cell_type": "code",
   "execution_count": 14,
   "metadata": {},
   "outputs": [
    {
     "name": "stdout",
     "output_type": "stream",
     "text": [
      "3\n"
     ]
    }
   ],
   "source": [
    "#another way by which we can print the values\n",
    "print(next(n1))   #this is another way by which we can print the value"
   ]
  },
  {
   "cell_type": "markdown",
   "metadata": {},
   "source": [
    "# creating our own iterators"
   ]
  },
  {
   "cell_type": "code",
   "execution_count": 21,
   "metadata": {},
   "outputs": [
    {
     "name": "stdout",
     "output_type": "stream",
     "text": [
      "<__main__.Iterators object at 0x7f6de86c41d0>\n"
     ]
    }
   ],
   "source": [
    "class Iterators:\n",
    "    def __init__(self):   \n",
    "        self.num=1\n",
    "    def __iter__(self):   #in the iterator iter and next function is compulsory to write\n",
    "        return self\n",
    "    def __next__(self):\n",
    "        self.num=self.num+1\n",
    "c=Iterators()\n",
    "print(c)"
   ]
  },
  {
   "cell_type": "code",
   "execution_count": null,
   "metadata": {},
   "outputs": [],
   "source": []
  }
 ],
 "metadata": {
  "kernelspec": {
   "display_name": "Python 3",
   "language": "python",
   "name": "python3"
  },
  "language_info": {
   "codemirror_mode": {
    "name": "ipython",
    "version": 3
   },
   "file_extension": ".py",
   "mimetype": "text/x-python",
   "name": "python",
   "nbconvert_exporter": "python",
   "pygments_lexer": "ipython3",
   "version": "3.7.4"
  }
 },
 "nbformat": 4,
 "nbformat_minor": 2
}
