{
 "cells": [
  {
   "cell_type": "code",
   "execution_count": 20,
   "metadata": {},
   "outputs": [
    {
     "name": "stdout",
     "output_type": "stream",
     "text": [
      "bmv\n",
      "swift\n"
     ]
    }
   ],
   "source": [
    "#instancve variable and class variable\n",
    "\n",
    "class Car:\n",
    "    def __init__(self):\n",
    "        self.name=\"bmv\"\n",
    "        #self.year=2019\n",
    "        self.mil=200\n",
    "    \n",
    "c1=Car()\n",
    "print(c1.name)\n",
    "c2=Car() #if i want to change the value \n",
    "c1.name=\"swift\"\n",
    "print(c1.name)\n"
   ]
  },
  {
   "cell_type": "code",
   "execution_count": 5,
   "metadata": {},
   "outputs": [
    {
     "name": "stdout",
     "output_type": "stream",
     "text": [
      "200 100\n"
     ]
    }
   ],
   "source": [
    "#instance variable   #local varibale\n",
    "\n",
    "class Car:\n",
    "    def __init__(self):      # \n",
    "        self.name=\"bmv\"\n",
    "        self.mil=100   #\n",
    "c1=Car()     #c1 is the object for car\n",
    "#print(c1.name)\n",
    "c1.mil=200    #as it is instance variable so after changing the value it will not all \n",
    "c2=Car()      #c2 is the object\n",
    "print(c1.mil,c2.mil)  #printing the value of car object\n",
    "#for instance every object hold different different values\n",
    "\n",
    "#print(c1.mil)"
   ]
  },
  {
   "cell_type": "code",
   "execution_count": 21,
   "metadata": {},
   "outputs": [
    {
     "name": "stdout",
     "output_type": "stream",
     "text": [
      "6\n"
     ]
    }
   ],
   "source": [
    "#class variable   (global variable)  #the variable outside the method but inside the class\n",
    "class Car:\n",
    "    wheels=4   #is belong to clas so to acces this variable we have to use class name\n",
    "    def __init__(self):   #self is nothing but the object of Car that is c1 \n",
    "        self.mil=6     # \n",
    "        self.name=\"audi\"\n",
    "        \n",
    "c1=Car()\n",
    "#here the value of wheels will be change\n",
    "Car.wheels=6\n",
    "c2=Car()    # c2 is the other reference variable of car\n",
    "print(Car.wheels)  #if we want to print the class variable than we weill use class and the name of variable which is inisde the car\n",
    "#the global variable is for all    #so after changing the value it will effect all the variable"
   ]
  },
  {
   "cell_type": "code",
   "execution_count": null,
   "metadata": {},
   "outputs": [],
   "source": []
  }
 ],
 "metadata": {
  "kernelspec": {
   "display_name": "Python 3",
   "language": "python",
   "name": "python3"
  },
  "language_info": {
   "codemirror_mode": {
    "name": "ipython",
    "version": 3
   },
   "file_extension": ".py",
   "mimetype": "text/x-python",
   "name": "python",
   "nbconvert_exporter": "python",
   "pygments_lexer": "ipython3",
   "version": "3.7.4"
  }
 },
 "nbformat": 4,
 "nbformat_minor": 2
}
