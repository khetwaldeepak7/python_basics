{
 "cells": [
  {
   "cell_type": "code",
   "execution_count": 4,
   "metadata": {},
   "outputs": [
    {
     "name": "stdout",
     "output_type": "stream",
     "text": [
      "deepak 1\n"
     ]
    }
   ],
   "source": [
    "class Inner:\n",
    "    def __init__(self,name,roll):   #these thing will  take from user\n",
    "    \n",
    "        self.name=name\n",
    "        self.roll=roll\n",
    "n1=Inner('deepak',1)   #made the class ojbect with n1 as a reference\n",
    "print(n1.name,n1.roll)     #this is the way to print the values\n",
    "    "
   ]
  },
  {
   "cell_type": "code",
   "execution_count": 9,
   "metadata": {},
   "outputs": [
    {
     "name": "stdout",
     "output_type": "stream",
     "text": [
      "deepak 1\n"
     ]
    }
   ],
   "source": [
    "class Inner:\n",
    "    def __init__(self,name,roll):   #these thing will  take from user\n",
    "    \n",
    "        self.name=name\n",
    "        self.roll=roll\n",
    "    def show(self):  #using funvtion (method) we will print the values\n",
    "        print(self.name,self.roll)\n",
    "n1=Inner('deepak',1)   #made the class ojbect with n1 as a reference\n",
    "#print(n1.name,n1.roll)     #this is the way to print the values\n",
    "n1.show()   "
   ]
  },
  {
   "cell_type": "markdown",
   "metadata": {},
   "source": [
    "# innerclass"
   ]
  },
  {
   "cell_type": "markdown",
   "metadata": {},
   "source": [
    "# we can create object of inner class inside the outer class"
   ]
  },
  {
   "cell_type": "code",
   "execution_count": 15,
   "metadata": {},
   "outputs": [
    {
     "name": "stdout",
     "output_type": "stream",
     "text": [
      "deepak 20\n"
     ]
    }
   ],
   "source": [
    "class Student:\n",
    "    def __init__(self,name,rollnu):  \n",
    "        self.name=name\n",
    "        self.rollnu=rollnu      #object will be created inside the outer class in the init method\n",
    "        self.l1 =self.Laptop()         #creating inner class object inside the inner class\n",
    "       # print(l1.brand,l1,ram)\n",
    "    def show(self):                \n",
    "        print(s1.name,s1.rollnu)\n",
    "    class Laptop:\n",
    "        def __init__(self):\n",
    "            self.brand=\"hp\"\n",
    "            self.ram=8 \n",
    "            \n",
    "s1=Student(\"deepak\",20)\n",
    "s1.show()"
   ]
  },
  {
   "cell_type": "code",
   "execution_count": 16,
   "metadata": {},
   "outputs": [
    {
     "name": "stdout",
     "output_type": "stream",
     "text": [
      "hp\n"
     ]
    }
   ],
   "source": [
    "# so whnever we have to use the inner class we have to use outer class plus inner class\n",
    "print(s1.l1.brand)   #s1 is the referenceof parent class n l2 is the reference of child class"
   ]
  },
  {
   "cell_type": "markdown",
   "metadata": {},
   "source": [
    "# we can create object of inner class outside the outer class"
   ]
  },
  {
   "cell_type": "code",
   "execution_count": 17,
   "metadata": {},
   "outputs": [
    {
     "name": "stdout",
     "output_type": "stream",
     "text": [
      "hp 8\n"
     ]
    }
   ],
   "source": [
    "lab1=Student.Laptop()    # creating class outside them  parent class \n",
    "print(lab1.brand,lab1.ram)"
   ]
  },
  {
   "cell_type": "code",
   "execution_count": null,
   "metadata": {},
   "outputs": [],
   "source": []
  }
 ],
 "metadata": {
  "kernelspec": {
   "display_name": "Python 3",
   "language": "python",
   "name": "python3"
  },
  "language_info": {
   "codemirror_mode": {
    "name": "ipython",
    "version": 3
   },
   "file_extension": ".py",
   "mimetype": "text/x-python",
   "name": "python",
   "nbconvert_exporter": "python",
   "pygments_lexer": "ipython3",
   "version": "3.7.4"
  }
 },
 "nbformat": 4,
 "nbformat_minor": 2
}
