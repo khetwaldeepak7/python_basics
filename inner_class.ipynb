{
 "cells": [
  {
   "cell_type": "code",
   "execution_count": 4,
   "metadata": {},
   "outputs": [
    {
     "name": "stdout",
     "output_type": "stream",
     "text": [
      "deepak 1\n"
     ]
    }
   ],
   "source": [
    "class Inner:\n",
    "    def __init__(self,name,roll):   #these thing will  take from user\n",
    "    \n",
    "        self.name=name\n",
    "        self.roll=roll\n",
    "n1=Inner('deepak',1)   #made the class ojbect with n1 as a reference\n",
    "print(n1.name,n1.roll)     #this is the way to print the values\n",
    "    "
   ]
  },
  {
   "cell_type": "code",
   "execution_count": 9,
   "metadata": {},
   "outputs": [
    {
     "name": "stdout",
     "output_type": "stream",
     "text": [
      "deepak 1\n"
     ]
    }
   ],
   "source": [
    "class Inner:\n",
    "    def __init__(self,name,roll):   #these thing will  take from user\n",
    "    \n",
    "        self.name=name\n",
    "        self.roll=roll\n",
    "    def show(self):  #using funvtion (method) we will print the values\n",
    "        print(self.name,self.roll)\n",
    "n1=Inner('deepak',1)   #made the class ojbect with n1 as a reference\n",
    "#print(n1.name,n1.roll)     #this is the way to print the values\n",
    "n1.show()   "
   ]
  },
  {
   "cell_type": "code",
   "execution_count": null,
   "metadata": {},
   "outputs": [],
   "source": []
  }
 ],
 "metadata": {
  "kernelspec": {
   "display_name": "Python 3",
   "language": "python",
   "name": "python3"
  },
  "language_info": {
   "codemirror_mode": {
    "name": "ipython",
    "version": 3
   },
   "file_extension": ".py",
   "mimetype": "text/x-python",
   "name": "python",
   "nbconvert_exporter": "python",
   "pygments_lexer": "ipython3",
   "version": "3.7.4"
  }
 },
 "nbformat": 4,
 "nbformat_minor": 2
}
