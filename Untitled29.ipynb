{
 "cells": [
  {
   "cell_type": "code",
   "execution_count": 15,
   "metadata": {},
   "outputs": [
    {
     "name": "stdout",
     "output_type": "stream",
     "text": [
      "not found\n"
     ]
    }
   ],
   "source": [
    "#but we want only the first number\n",
    "n=[12,1,18]#,21,26,30,40]\n",
    "for i in n[0:]:\n",
    "    if(i%5==0):\n",
    "        print(\"divisible  by 5 \",+i)\n",
    "        break# break is used to come out of loop\n",
    "else:# here this else is for (for)loop it means the else condition will be checked after the complition of loop\n",
    "    print(\"not found\")"
   ]
  },
  {
   "cell_type": "code",
   "execution_count": 23,
   "metadata": {},
   "outputs": [
    {
     "name": "stdout",
     "output_type": "stream",
     "text": [
      "APQR\n",
      "ABQR\n",
      "ABCR\n",
      "ABCD\n"
     ]
    }
   ],
   "source": [
    "v=65\n",
    "d=15\n",
    "for i in range(4):\n",
    "    t=0\n",
    "    v=65\n",
    "    for j in range(4):\n",
    "        if(j<=i):\n",
    "            print(chr(v),end=\"\")\n",
    "            v=v+1\n",
    "        else:\n",
    "            res=v+d-1+t\n",
    "            print(chr(res),end=\"\")\n",
    "            t=t+1\n",
    "    print()\n",
    "        "
   ]
  },
  {
   "cell_type": "code",
   "execution_count": null,
   "metadata": {},
   "outputs": [],
   "source": []
  }
 ],
 "metadata": {
  "kernelspec": {
   "display_name": "Python 3",
   "language": "python",
   "name": "python3"
  },
  "language_info": {
   "codemirror_mode": {
    "name": "ipython",
    "version": 3
   },
   "file_extension": ".py",
   "mimetype": "text/x-python",
   "name": "python",
   "nbconvert_exporter": "python",
   "pygments_lexer": "ipython3",
   "version": "3.7.4"
  }
 },
 "nbformat": 4,
 "nbformat_minor": 2
}
