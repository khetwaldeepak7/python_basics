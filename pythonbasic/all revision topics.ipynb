{
 "cells": [
  {
   "cell_type": "code",
   "execution_count": null,
   "metadata": {},
   "outputs": [],
   "source": [
    "def fun(**a):  # keyworad variable length argument\n",
    "    #print(a)\n",
    "    for i, j in a.items():\n",
    "        print(i,j)\n",
    "fun(schnlname='clms',number='20',add='chandan naka')"
   ]
  },
  {
   "cell_type": "code",
   "execution_count": 32,
   "metadata": {},
   "outputs": [
    {
     "name": "stdout",
     "output_type": "stream",
     "text": [
      "[1 2 3 4]\n"
     ]
    }
   ],
   "source": [
    "from numpy import *\n",
    "a=array([1,2,3,4],int)\n",
    "d=a.reshape(2,2)\n",
    "b=a.view()  # dependent array\n",
    "#print(b)\n",
    "#b[0]=10\n",
    "c=a.copy()   # independent array\n",
    "c[1]=200\n"
   ]
  },
  {
   "cell_type": "code",
   "execution_count": 12,
   "metadata": {},
   "outputs": [
    {
     "name": "stdout",
     "output_type": "stream",
     "text": [
      "[[1 2]\n",
      " [3 4]]\n"
     ]
    }
   ],
   "source": [
    "print(d)\n",
    "e=matrix(d) #converting to matrix"
   ]
  },
  {
   "cell_type": "code",
   "execution_count": 14,
   "metadata": {},
   "outputs": [
    {
     "name": "stdout",
     "output_type": "stream",
     "text": [
      "[[1 2]\n",
      " [3 4]]\n"
     ]
    },
    {
     "data": {
      "text/plain": [
       "numpy.matrix"
      ]
     },
     "execution_count": 14,
     "metadata": {},
     "output_type": "execute_result"
    }
   ],
   "source": [
    "print(e)\n",
    "type(e)"
   ]
  },
  {
   "cell_type": "code",
   "execution_count": 15,
   "metadata": {},
   "outputs": [],
   "source": [
    "# copy array using typecode"
   ]
  },
  {
   "cell_type": "code",
   "execution_count": 18,
   "metadata": {},
   "outputs": [
    {
     "name": "stdout",
     "output_type": "stream",
     "text": [
      "array('i', [1, 2, 3, 4, 5])\n"
     ]
    }
   ],
   "source": [
    "from array import array\n",
    "arr=array('i',[1,2,3,4,5])\n",
    "newcopy=array(arr.typecode,[newcopy for newcopy in arr])  # g esmai arr ka value newcopy mai jayega and uske baad newcopy mai assign hoga\n",
    "print(newcopy)# got the output"
   ]
  },
  {
   "cell_type": "code",
   "execution_count": 41,
   "metadata": {},
   "outputs": [
    {
     "name": "stdout",
     "output_type": "stream",
     "text": [
      "{1: None, 2: None, 3: None, 4: None, 45: None, 60: None}\n"
     ]
    }
   ],
   "source": [
    "li=[1,2,3,3,4,4,2,45,60] # finding unique element in a list\n",
    "new=dict.fromkeys(li)# dictionary mai convert karenge,agar set mai convert kia toh index value mai chanages hoga\n",
    "print(new) "
   ]
  },
  {
   "cell_type": "code",
   "execution_count": 45,
   "metadata": {},
   "outputs": [
    {
     "data": {
      "text/plain": [
       "[1, 2, 3, 4, 45, 60]"
      ]
     },
     "execution_count": 45,
     "metadata": {},
     "output_type": "execute_result"
    }
   ],
   "source": [
    "list(new)  # then convert it to list and get the unique element\n"
   ]
  },
  {
   "cell_type": "code",
   "execution_count": 51,
   "metadata": {},
   "outputs": [
    {
     "name": "stdout",
     "output_type": "stream",
     "text": [
      "k\n",
      "a\n",
      "p\n",
      "e\n",
      "e\n",
      "d\n"
     ]
    }
   ],
   "source": [
    "a=\"deepak\"\n",
    "for i in range(len(a)-1,0-1,-1):  #  using loop we will reverse\n",
    "    print(a[i])"
   ]
  },
  {
   "cell_type": "code",
   "execution_count": 52,
   "metadata": {},
   "outputs": [
    {
     "data": {
      "text/plain": [
       "'kapeed'"
      ]
     },
     "execution_count": 52,
     "metadata": {},
     "output_type": "execute_result"
    }
   ],
   "source": [
    "# direct reverse using slicing\n",
    "a='deepak'\n",
    "a[::-1]"
   ]
  },
  {
   "cell_type": "code",
   "execution_count": 55,
   "metadata": {},
   "outputs": [
    {
     "name": "stdout",
     "output_type": "stream",
     "text": [
      "a\n"
     ]
    }
   ],
   "source": [
    "a='ancd'[0]  # if we want any specific number\n",
    "print(a)"
   ]
  },
  {
   "cell_type": "code",
   "execution_count": 7,
   "metadata": {},
   "outputs": [
    {
     "name": "stdout",
     "output_type": "stream",
     "text": [
      "a is greater\n"
     ]
    }
   ],
   "source": [
    "class A:\n",
    "    def __init__(self,m1,m2):\n",
    "        self.m1=m1\n",
    "        self.m2=m2\n",
    "    def __gt__(self,other):   # operators overloading\n",
    "        m1=self.m1+self.m2\n",
    "        m2=other.m1+other.m2\n",
    "        if(m1>m2):\n",
    "            return True\n",
    "        else:\n",
    "            return False\n",
    "\n",
    "a=A(100,2000)\n",
    "ab=A(200,100) \n",
    "if a>ab:   #------->>bec a and ab are the refernce of class A.and inside class A we dont have the method > greater than, because greater than is a method inside the class int.so\n",
    "    ###---------->>>>>>>> so to take the method in our classes we have to do operators overloading\n",
    "    print(\"a is greater\")\n",
    "else:\n",
    "    print(\"b is greater\")"
   ]
  },
  {
   "cell_type": "markdown",
   "metadata": {},
   "source": [
    "# printing multiple time string,list and tuple,, wecannot perform slicing and multiple time printing method on set and on dictionary"
   ]
  },
  {
   "cell_type": "code",
   "execution_count": 74,
   "metadata": {},
   "outputs": [
    {
     "data": {
      "text/plain": [
       "'stringstring'"
      ]
     },
     "execution_count": 74,
     "metadata": {},
     "output_type": "execute_result"
    }
   ],
   "source": [
    "2*\"string\"   # --->printing multiple time string"
   ]
  },
  {
   "cell_type": "code",
   "execution_count": 75,
   "metadata": {},
   "outputs": [
    {
     "data": {
      "text/plain": [
       "[1, 2, 3, 1, 2, 3]"
      ]
     },
     "execution_count": 75,
     "metadata": {},
     "output_type": "execute_result"
    }
   ],
   "source": [
    "2*[1,2,3]  # multiple time list"
   ]
  },
  {
   "cell_type": "code",
   "execution_count": 76,
   "metadata": {},
   "outputs": [
    {
     "data": {
      "text/plain": [
       "(1, 2, 3, 4, 1, 2, 3, 4)"
      ]
     },
     "execution_count": 76,
     "metadata": {},
     "output_type": "execute_result"
    }
   ],
   "source": [
    "2*(1,2,3,4)  # multiple time tuple"
   ]
  },
  {
   "cell_type": "markdown",
   "metadata": {},
   "source": [
    "# how to define 1 value inside the tuple"
   ]
  },
  {
   "cell_type": "code",
   "execution_count": 82,
   "metadata": {},
   "outputs": [
    {
     "data": {
      "text/plain": [
       "tuple"
      ]
     },
     "execution_count": 82,
     "metadata": {},
     "output_type": "execute_result"
    }
   ],
   "source": [
    "a=(1,)   # this is how the 1 value inside the tuple will define\n",
    "type(a)"
   ]
  },
  {
   "cell_type": "code",
   "execution_count": 81,
   "metadata": {},
   "outputs": [
    {
     "name": "stdout",
     "output_type": "stream",
     "text": [
      "(1,)\n"
     ]
    }
   ],
   "source": [
    "print(a)"
   ]
  },
  {
   "cell_type": "code",
   "execution_count": null,
   "metadata": {},
   "outputs": [],
   "source": []
  },
  {
   "cell_type": "code",
   "execution_count": null,
   "metadata": {},
   "outputs": [],
   "source": []
  },
  {
   "cell_type": "code",
   "execution_count": null,
   "metadata": {},
   "outputs": [],
   "source": []
  },
  {
   "cell_type": "code",
   "execution_count": 16,
   "metadata": {},
   "outputs": [],
   "source": [
    "def c(**a):\n",
    "    print(a)\n",
    "    for i,j in a.items():\n",
    "        if(i=='surname'):\n",
    "            break\n",
    "        print(i,j)\n"
   ]
  },
  {
   "cell_type": "code",
   "execution_count": 17,
   "metadata": {},
   "outputs": [
    {
     "name": "stdout",
     "output_type": "stream",
     "text": [
      "{'customer_d': '1', 'name': 'deepak', 'surname': 'khetwal'}\n",
      "customer_d 1\n",
      "name deepak\n"
     ]
    }
   ],
   "source": [
    "c(customer_d='1',name='deepak',surname='khetwal')"
   ]
  },
  {
   "cell_type": "code",
   "execution_count": 2,
   "metadata": {},
   "outputs": [
    {
     "name": "stdout",
     "output_type": "stream",
     "text": [
      "1234\n",
      "234\n",
      "34\n",
      "4\n",
      "\n"
     ]
    }
   ],
   "source": [
    "for i in range(0,5):\n",
    "    for j in range(i+1,5):\n",
    "        print(j,end=\"\")\n",
    "\n",
    "    print()\n",
    "        "
   ]
  },
  {
   "cell_type": "code",
   "execution_count": 6,
   "metadata": {},
   "outputs": [
    {
     "name": "stdout",
     "output_type": "stream",
     "text": [
      "      1        \n",
      "    2 1 2      \n",
      "  3 2 1 2 3    \n",
      "4 3 2 1 2 3 4  \n"
     ]
    }
   ],
   "source": [
    "for i in range(1,5):\n",
    "    t=i\n",
    "    for j in range(1,8):\n",
    "        if (i==1):\n",
    "            if(j==4):\n",
    "                print(i,end=' ')\n",
    "            else:\n",
    "                print(' ',end=' ')\n",
    "        else:\n",
    "            if(j>=5-i and j<=3+i):\n",
    "                if(j>=1 and j>=4):\n",
    "                    print(t,end=' ')\n",
    "                    t=t+1  \n",
    "                \n",
    "                else:\n",
    "                    print(t,end=' ')\n",
    "                    t=t-1\n",
    "            else:\n",
    "                print(' ',end=' ')\n",
    "    print(' ')"
   ]
  },
  {
   "cell_type": "code",
   "execution_count": 13,
   "metadata": {},
   "outputs": [
    {
     "name": "stdout",
     "output_type": "stream",
     "text": [
      "1              \n",
      "1 2            \n",
      "1 2 3          \n",
      "1 2 3 4        \n"
     ]
    }
   ],
   "source": [
    "for i in range(1,5):\n",
    "    for j in range(1,8):\n",
    "        if (i>=j):\n",
    "                print(j,end=' ')\n",
    "    \n",
    "        else:\n",
    "            print(' ',end=' ')\n",
    "    print(' ')"
   ]
  },
  {
   "cell_type": "code",
   "execution_count": 16,
   "metadata": {},
   "outputs": [
    {
     "name": "stdout",
     "output_type": "stream",
     "text": [
      "      1  \n",
      "    2 1  \n",
      "  3 2 1  \n",
      "4 3 2 1  \n"
     ]
    }
   ],
   "source": [
    "t=4\n",
    "for i in range(1,5):\n",
    "    k=i\n",
    "    for j in range(1,5):\n",
    "        if(j>=t):\n",
    "            print(k,end=' ')\n",
    "            k=k-1\n",
    "        else:\n",
    "            print(' ',end=' ')\n",
    "    print(' ')\n",
    "    t=t-1\n",
    "        "
   ]
  },
  {
   "cell_type": "code",
   "execution_count": null,
   "metadata": {},
   "outputs": [],
   "source": [
    "# hackwer rank solve problem with the help of function"
   ]
  },
  {
   "cell_type": "code",
   "execution_count": 27,
   "metadata": {},
   "outputs": [],
   "source": [
    "def fun(res):\n",
    "    \n",
    "    print(res)\n",
    "    \n",
    "    # abhi duplicate nikalunga,as we know how to remove duplicates from the list,using dict funtion\n",
    "       \n",
    "    res12=dict.fromkeys(res)\n",
    "    #print(res12)\n",
    "    #now again convert dictionary to list\n",
    "    res1=list(res12)    \n",
    "    print(res1)\n",
    "    k=len(res1)-2  # res=list aya  ::::   [1,2,2,3,4,45]-2\n",
    "    return res1[k]\n",
    "    "
   ]
  },
  {
   "cell_type": "code",
   "execution_count": 28,
   "metadata": {},
   "outputs": [
    {
     "name": "stdout",
     "output_type": "stream",
     "text": [
      "[1, 2, 2, 3, 4, 45, 59]\n",
      "[1, 2, 2, 3, 4, 45, 59]\n",
      "[1, 2, 3, 4, 45, 59]\n",
      "45\n"
     ]
    }
   ],
   "source": [
    "a=[1,4,2,45,2,3,59]\n",
    "for i in range(len(a)):\n",
    "    for j in range(i+1,len(a)):\n",
    "        if(a[i]>a[j]):\n",
    "            temp=a[j]\n",
    "            a[j]=a[i]\n",
    "            a[i]=temp\n",
    "print(a)\n",
    "# but agar duplicate higa toh duplicate value remove karenebe na,q ki duplicate remove nhi kia toh,fir 2 highest mai prbl higa\n",
    "# wah mai ek function ke andar karunga\n",
    "result=fun(a)\n",
    "print(result)"
   ]
  },
  {
   "cell_type": "code",
   "execution_count": 33,
   "metadata": {},
   "outputs": [
    {
     "name": "stdout",
     "output_type": "stream",
     "text": [
      "----c----\n",
      "--c-c-c--\n",
      "c-c-c-c-c\n",
      "----c----\n",
      "c-c-c-c-c\n"
     ]
    }
   ],
   "source": [
    "for i in range(1,6):\n",
    "    for j in range(1,10):\n",
    "        if(i==1):\n",
    "            if(j==5):\n",
    "                print(\"c\",end=\"\")\n",
    "            else:\n",
    "                print(\"-\",end=\"\")\n",
    "        else:\n",
    "            if(i%2==0):\n",
    "                if(j%2!=0 and j>i and j<=9-i):\n",
    "                    print(\"c\",end=\"\")\n",
    "                else:\n",
    "                    print(\"-\",end=\"\")\n",
    "            else:\n",
    "                if(j%2!=0):\n",
    "                    print(\"c\",end=\"\")\n",
    "                \n",
    "                else:\n",
    "                    print(\"-\",end=\"\")\n",
    "    print()"
   ]
  },
  {
   "cell_type": "code",
   "execution_count": null,
   "metadata": {},
   "outputs": [],
   "source": []
  },
  {
   "cell_type": "code",
   "execution_count": null,
   "metadata": {},
   "outputs": [],
   "source": []
  }
 ],
 "metadata": {
  "kernelspec": {
   "display_name": "Python 3",
   "language": "python",
   "name": "python3"
  },
  "language_info": {
   "codemirror_mode": {
    "name": "ipython",
    "version": 3
   },
   "file_extension": ".py",
   "mimetype": "text/x-python",
   "name": "python",
   "nbconvert_exporter": "python",
   "pygments_lexer": "ipython3",
   "version": "3.7.6"
  }
 },
 "nbformat": 4,
 "nbformat_minor": 4
}
