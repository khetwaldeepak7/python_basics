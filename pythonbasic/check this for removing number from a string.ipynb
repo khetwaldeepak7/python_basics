{
 "cells": [
  {
   "cell_type": "code",
   "execution_count": 1,
   "metadata": {},
   "outputs": [
    {
     "data": {
      "text/plain": [
       "'2zbcd223'"
      ]
     },
     "execution_count": 1,
     "metadata": {},
     "output_type": "execute_result"
    }
   ],
   "source": [
    "a=\"121zbcd2123\"\n",
    "dk=list(map(str,a))\n",
    "a.replace(\"1\",'')"
   ]
  },
  {
   "cell_type": "code",
   "execution_count": 22,
   "metadata": {},
   "outputs": [
    {
     "name": "stdout",
     "output_type": "stream",
     "text": [
      "['1', '2', '1', 'z', 'b', 'c', 'd', '2', '1', '2', '3']\n"
     ]
    }
   ],
   "source": [
    "print(dk)\n"
   ]
  },
  {
   "cell_type": "code",
   "execution_count": 25,
   "metadata": {},
   "outputs": [],
   "source": [
    "jo=''.join(dk) #to join the string\n",
    "b=jo.replace('2','')\n",
    "print(jo)"
   ]
  },
  {
   "cell_type": "code",
   "execution_count": 9,
   "metadata": {},
   "outputs": [
    {
     "name": "stdout",
     "output_type": "stream",
     "text": [
      "deoaml\n"
     ]
    }
   ],
   "source": [
    "# if given any string ,and from that string if you want to remove some digit than used this concept\n",
    "a=\"111deoaml\"\n",
    "a1=a.replace('1','')\n",
    "print(a1)\n",
    "\n"
   ]
  },
  {
   "cell_type": "code",
   "execution_count": 32,
   "metadata": {},
   "outputs": [
    {
     "name": "stdout",
     "output_type": "stream",
     "text": [
      "11zbcd13\n"
     ]
    },
    {
     "data": {
      "text/plain": [
       "'zbcd3'"
      ]
     },
     "execution_count": 32,
     "metadata": {},
     "output_type": "execute_result"
    }
   ],
   "source": [
    "print(b)\n",
    "b.replace('1','')"
   ]
  },
  {
   "cell_type": "code",
   "execution_count": 33,
   "metadata": {},
   "outputs": [
    {
     "data": {
      "text/plain": [
       "37547105395"
      ]
     },
     "execution_count": 33,
     "metadata": {},
     "output_type": "execute_result"
    }
   ],
   "source": [
    "37547105395"
   ]
  },
  {
   "cell_type": "code",
   "execution_count": 2,
   "metadata": {},
   "outputs": [
    {
     "name": "stdout",
     "output_type": "stream",
     "text": [
      "['s', 'b', 'i', 'n', '0', '0', '6', '0', '4', '5', '7']\n",
      "['s', 'b', 'i', 'n']\n"
     ]
    }
   ],
   "source": [
    "dk=\"sbin0060457\"\n",
    "lk=list(map(str,dk))\n",
    "print(lk)\n",
    "pk=[]\n",
    "for i in range(len(lk)):\n",
    "    if(lk[i] == '0' or lk[i]=='1'or lk[i]=='2'or lk[i]=='3'or lk[i]=='4'or lk[i]=='5'or lk[i]=='6'or lk[i]=='7'or lk[i]=='8'):\n",
    "        lk.remove\n",
    "    else:\n",
    "        pk.append(lk[i])\n",
    "print(pk)"
   ]
  },
  {
   "cell_type": "code",
   "execution_count": 66,
   "metadata": {},
   "outputs": [
    {
     "name": "stdout",
     "output_type": "stream",
     "text": [
      "200\n",
      "different\n",
      "hell 100 200\n"
     ]
    }
   ],
   "source": [
    "class A:\n",
    "    def __init__(self):\n",
    "        self.m1=100\n",
    "        self.m2=200\n",
    "        if (self.m1==self.m2):\n",
    "            print(\"same\")\n",
    "            print(self.m1)\n",
    "        else:\n",
    "            print(self.m2)\n",
    "            print(\"different\")\n",
    "    def ms1(self):\n",
    "        print(\"hell0\",self.m1,self.m2)\n",
    "a=A()\n",
    "a.ms1()"
   ]
  },
  {
   "cell_type": "code",
   "execution_count": 68,
   "metadata": {},
   "outputs": [],
   "source": [
    "a=[1,2,3,\"1232add\",123,'rdef']\n",
    "a1=list(map(str,a))"
   ]
  },
  {
   "cell_type": "code",
   "execution_count": 76,
   "metadata": {},
   "outputs": [
    {
     "name": "stdout",
     "output_type": "stream",
     "text": [
      "['1', '2', '3', '1232add', '123', 'rdef']\n",
      "1231232add123rdef\n",
      "1313add13rdef\n"
     ]
    }
   ],
   "source": [
    "print(a1)\n",
    "\n",
    "\n",
    "jo=''.join(a1)\n",
    "print(jo)\n",
    "\n",
    "dl=jo.replace('2','')\n",
    "print(dl)"
   ]
  },
  {
   "cell_type": "code",
   "execution_count": null,
   "metadata": {},
   "outputs": [],
   "source": []
  },
  {
   "cell_type": "code",
   "execution_count": 2,
   "metadata": {},
   "outputs": [
    {
     "name": "stdout",
     "output_type": "stream",
     "text": [
      "['1', '2', '3', 'deepak']\n"
     ]
    }
   ],
   "source": [
    "a=[1,2,3,'deepak']\n",
    "dk=list(map(str,a))\n",
    "print(dk)"
   ]
  },
  {
   "cell_type": "code",
   "execution_count": 5,
   "metadata": {},
   "outputs": [
    {
     "name": "stdout",
     "output_type": "stream",
     "text": [
      "123deepak\n"
     ]
    }
   ],
   "source": [
    "class A:\n",
    "    def __init__(self):\n",
    "        print(\"hi\")\n",
    "        "
   ]
  },
  {
   "cell_type": "code",
   "execution_count": 4,
   "metadata": {},
   "outputs": [
    {
     "name": "stdout",
     "output_type": "stream",
     "text": [
      "hi\n",
      "bye\n"
     ]
    }
   ],
   "source": [
    "# this is also possible,by this way we can call the decorators function\n",
    "def a():\n",
    "    print(\"bye\")\n",
    "def b(a):  # b ney a ko inheritage kia ,barobar,so b mai a ke sabh metod aayeh\n",
    "    #def child():\n",
    "        print(\"hi\")\n",
    "        return a()\n",
    "    #return child()\n",
    "b(a)"
   ]
  },
  {
   "cell_type": "code",
   "execution_count": null,
   "metadata": {},
   "outputs": [],
   "source": []
  },
  {
   "cell_type": "code",
   "execution_count": null,
   "metadata": {},
   "outputs": [],
   "source": []
  },
  {
   "cell_type": "code",
   "execution_count": null,
   "metadata": {},
   "outputs": [],
   "source": []
  },
  {
   "cell_type": "code",
   "execution_count": null,
   "metadata": {},
   "outputs": [],
   "source": []
  }
 ],
 "metadata": {
  "kernelspec": {
   "display_name": "Python 3",
   "language": "python",
   "name": "python3"
  },
  "language_info": {
   "codemirror_mode": {
    "name": "ipython",
    "version": 3
   },
   "file_extension": ".py",
   "mimetype": "text/x-python",
   "name": "python",
   "nbconvert_exporter": "python",
   "pygments_lexer": "ipython3",
   "version": "3.7.6"
  }
 },
 "nbformat": 4,
 "nbformat_minor": 4
}
