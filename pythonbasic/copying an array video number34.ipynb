{
 "cells": [
  {
   "cell_type": "markdown",
   "metadata": {},
   "source": [
    "# simply we have 3 different type by which we can copy 2 array\n",
    "#1 simplest way:a=[1,2,3]  :b=a   #by this way we can copy one array to another array but the problem is the addres or the location of the array will be same\n",
    "#2 shallow copy ,dependent array,:for that use view()funtion.but the prbl is one array will be depedent on another array,n both address wil be different\n",
    "#3 deep copy.independentarray: copy()function is used for this.in this both array will be independent.mean i make any change on one array it wil not affect the second"
   ]
  },
  {
   "cell_type": "markdown",
   "metadata": {},
   "source": [
    "# simple example we have a array we have to add 5 to each"
   ]
  },
  {
   "cell_type": "code",
   "execution_count": 2,
   "metadata": {},
   "outputs": [
    {
     "name": "stdout",
     "output_type": "stream",
     "text": [
      "6\n",
      "7\n",
      "8\n",
      "9\n",
      "10\n"
     ]
    }
   ],
   "source": [
    "# kabhi kisi ney bola ki maine ek list dia hai , n tu ek naya list bna n haar value mai apna 5 ,5 extra add kar\n",
    "# so hum direct for loopmai v kar skate hai\n",
    "from numpy import *\n",
    "a=array([1,2,3,4,5])   # adding 5 value to each number\n",
    "###########@@@@@@@@@@@@@@@@@@@@@@@@@@@@@@@@@@@@@@@@@@@@@@@@@@@@@@@@@@@@@@@\n",
    "for i in a+5:   ####     only possible in numpy\n",
    "#$$$$$$$$$$$$$$$$$$$$$$$$$$$$$$$$$$$$$$$$$$$$$$$$$$$$$$$$$$$$$$$$$$$$$$4$\n",
    "    print(i)"
   ]
  },
  {
   "cell_type": "code",
   "execution_count": 45,
   "metadata": {},
   "outputs": [
    {
     "name": "stdout",
     "output_type": "stream",
     "text": [
      "[ 6  7  8  9 10]\n"
     ]
    }
   ],
   "source": [
    "# ##########################     simply we can add\n",
    "#this happen only in numpy package\n",
    "#@@@@@@@@@@@@@@@@@@@@@@@@@@@@@@@@@@@@@@@@@@@@@@@\n",
    "\n",
    "from numpy import *\n",
    "a=array([1,2,3,4,5])\n",
    "a=a+5   # simplest way to add\n",
    "print(a)"
   ]
  },
  {
   "cell_type": "code",
   "execution_count": 2,
   "metadata": {},
   "outputs": [
    {
     "name": "stdout",
     "output_type": "stream",
     "text": [
      "[35  4  6  8]\n"
     ]
    }
   ],
   "source": [
    "# adding two array\n",
    "from numpy import *\n",
    "a=array([1,2,3,4])\n",
    "b=array([34,2,3,4])\n",
    "c=a+b\n",
    "print(c)   #simply we canadd 2 array"
   ]
  },
  {
   "cell_type": "code",
   "execution_count": 3,
   "metadata": {},
   "outputs": [],
   "source": [
    "# if we have a array and we want the sum of array ,we can directly call the sum function,it is in numpy.num it mean number"
   ]
  },
  {
   "cell_type": "markdown",
   "metadata": {},
   "source": [
    "# some function in a array."
   ]
  },
  {
   "cell_type": "code",
   "execution_count": 48,
   "metadata": {},
   "outputs": [
    {
     "name": "stdout",
     "output_type": "stream",
     "text": [
      "53\n"
     ]
    }
   ],
   "source": [
    "c=array([35,  4,  6,  8])\n",
    "print(sum(c))  # as we got the sum of all number inside the sum"
   ]
  },
  {
   "cell_type": "code",
   "execution_count": 49,
   "metadata": {},
   "outputs": [
    {
     "name": "stdout",
     "output_type": "stream",
     "text": [
      "4\n"
     ]
    }
   ],
   "source": [
    "print(min(c))   #"
   ]
  },
  {
   "cell_type": "code",
   "execution_count": 50,
   "metadata": {},
   "outputs": [
    {
     "name": "stdout",
     "output_type": "stream",
     "text": [
      "35\n"
     ]
    }
   ],
   "source": [
    "print(max(c))"
   ]
  },
  {
   "cell_type": "code",
   "execution_count": 51,
   "metadata": {},
   "outputs": [
    {
     "name": "stdout",
     "output_type": "stream",
     "text": [
      "[4, 6, 8, 35]\n"
     ]
    }
   ],
   "source": [
    "print(sorted(c)) # to get in sorted form"
   ]
  },
  {
   "cell_type": "markdown",
   "metadata": {},
   "source": [
    "# we can concatenate two array\n",
    "#simply by calling concatenate function"
   ]
  },
  {
   "cell_type": "code",
   "execution_count": 4,
   "metadata": {},
   "outputs": [
    {
     "name": "stdout",
     "output_type": "stream",
     "text": [
      "[ 1  2  3  4 34  2  3  4]\n"
     ]
    }
   ],
   "source": [
    "print(concatenate([a,b]))     # as we can concatenate two array,means both the array wil join and form a single big array"
   ]
  },
  {
   "cell_type": "markdown",
   "metadata": {},
   "source": [
    "# copy one array to another"
   ]
  },
  {
   "cell_type": "code",
   "execution_count": 53,
   "metadata": {},
   "outputs": [
    {
     "name": "stdout",
     "output_type": "stream",
     "text": [
      "[1 2 3 4]\n",
      "[1 2 3 4]\n"
     ]
    }
   ],
   "source": [
    "from numpy import *\n",
    "arr1=array([1,2,3,4])\n",
    "arr2=arr1    # easiest way to copy one array value to another array\n",
    "print(arr1)\n",
    "print(arr2)"
   ]
  },
  {
   "cell_type": "markdown",
   "metadata": {},
   "source": [
    "# # idar copy toh huwa but donu array ka location ekhi hai.so ek hi object bana array ka"
   ]
  },
  {
   "cell_type": "code",
   "execution_count": 54,
   "metadata": {},
   "outputs": [
    {
     "name": "stdout",
     "output_type": "stream",
     "text": [
      "63760048\n",
      "63760048\n"
     ]
    }
   ],
   "source": [
    "#but by using above crieteria the both variable will we in the stored in the same address\n",
    "# as we know the data hold the same value ,are stored in the sme address\n",
    "print(id(arr1))\n",
    "print(id(arr2))"
   ]
  },
  {
   "cell_type": "markdown",
   "metadata": {},
   "source": [
    "# but if we want different address for both array  # use a function name is view"
   ]
  },
  {
   "cell_type": "code",
   "execution_count": 55,
   "metadata": {},
   "outputs": [
    {
     "name": "stdout",
     "output_type": "stream",
     "text": [
      "[1 2 3 4]\n",
      "[1 2 3 4]\n",
      "63758808\n",
      "63759208\n"
     ]
    }
   ],
   "source": [
    "from numpy import *\n",
    "arr1=array([1,2,3,4])\n",
    "arr2=arr1.view()    # using view function w can copy one array to another but if different location\n",
    "print(arr1)\n",
    "print(arr2)\n",
    "print(id(arr1))   \n",
    "print(id(arr2))"
   ]
  },
  {
   "cell_type": "markdown",
   "metadata": {},
   "source": [
    "# there are two different way by which we caN COPY the array\n",
    "#1) SHALLOW\n",
    "#2)DEEP"
   ]
  },
  {
   "cell_type": "markdown",
   "metadata": {},
   "source": [
    "#SHALLOW=ONE ARRAY IS DEPENDENT ON ANOTHER ARRAY\n",
    "#2)DEEP=BOTH ARRAY ARE INDEPENDENT"
   ]
  },
  {
   "cell_type": "markdown",
   "metadata": {},
   "source": [
    "# SHALLOW"
   ]
  },
  {
   "cell_type": "code",
   "execution_count": 1,
   "metadata": {},
   "outputs": [
    {
     "name": "stdout",
     "output_type": "stream",
     "text": [
      "53755680\n",
      "53755720\n",
      "[1 2 3 4]\n",
      "[1 2 3 4]\n"
     ]
    }
   ],
   "source": [
    "from numpy import *\n",
    "a=array([1,2,3,4])\n",
    "b=a.view()  \n",
    "print(id(a))  # both having  A different id\n",
    "print(id(b))     #both having  A different id\n",
    "print(a)\n",
    "print(b)"
   ]
  },
  {
   "cell_type": "markdown",
   "metadata": {},
   "source": [
    "# if i change the value in any of the array ,it will effect the both array"
   ]
  },
  {
   "cell_type": "code",
   "execution_count": 38,
   "metadata": {},
   "outputs": [
    {
     "name": "stdout",
     "output_type": "stream",
     "text": [
      "[1 2 5 4]\n",
      "[1 2 5 4]\n"
     ]
    }
   ],
   "source": [
    "b[2]=5      #ek array mai change kia toh donu array mai changes huwa\n",
    "print(a)    # dekha donu mai changes huwa\n",
    "print(b)"
   ]
  },
  {
   "cell_type": "markdown",
   "metadata": {},
   "source": [
    "# DEEP COPY"
   ]
  },
  {
   "cell_type": "markdown",
   "metadata": {},
   "source": [
    "# FOR THIS WE WILL USE THE FUNCTION NAME COPY.SO BY USING THIS FUNCTION NAME,we will get the copy ,n both the array will be independt to each other"
   ]
  },
  {
   "cell_type": "code",
   "execution_count": 39,
   "metadata": {},
   "outputs": [],
   "source": [
    "# so if i make any change to array .it will not effect the second array\n",
    "from numpy import *\n",
    "d1=array([1,2,3,4])\n",
    "d2=d1.copy()"
   ]
  },
  {
   "cell_type": "code",
   "execution_count": 42,
   "metadata": {},
   "outputs": [
    {
     "name": "stdout",
     "output_type": "stream",
     "text": [
      "[1 2 3 4]\n",
      "[1 5 3 4]\n"
     ]
    }
   ],
   "source": [
    "d2[1]=5   # look i make change in the d2 array 1 index so it only affect the 2 nd array not the first\n",
    "print(d1)\n",
    "print(d2)"
   ]
  },
  {
   "cell_type": "code",
   "execution_count": 9,
   "metadata": {},
   "outputs": [
    {
     "name": "stdout",
     "output_type": "stream",
     "text": [
      "[1 2 3 4]\n",
      "67550048\n",
      "58487616\n"
     ]
    }
   ],
   "source": [
    "from numpy import *\n",
    "a=array([1,2,3,4])\n",
    "b=a.copy()\n",
    "print(b)\n",
    "print(id(a)) # id wil be different but both will be dependent\n",
    "print(id(b))"
   ]
  },
  {
   "cell_type": "code",
   "execution_count": 10,
   "metadata": {},
   "outputs": [
    {
     "name": "stdout",
     "output_type": "stream",
     "text": [
      "[ 1  2 20  4]\n",
      "[1 2 3 4]\n"
     ]
    }
   ],
   "source": [
    "a[2]=20\n",
    "print(a)  # a ka change huwa b mai nhi\n",
    "print(b)"
   ]
  },
  {
   "cell_type": "code",
   "execution_count": 12,
   "metadata": {},
   "outputs": [
    {
     "name": "stdout",
     "output_type": "stream",
     "text": [
      "[12.   3.4  4.   5. ]\n"
     ]
    }
   ],
   "source": []
  },
  {
   "cell_type": "code",
   "execution_count": 14,
   "metadata": {},
   "outputs": [
    {
     "name": "stdout",
     "output_type": "stream",
     "text": [
      "array('i', [1, 2, 3, 4])\n"
     ]
    }
   ],
   "source": [
    "from array import *  # this took place inside the array package\n",
    "a=array('i',[1,2,3,4])\n",
    "b=array(a.typecode,[b for b in a])\n",
    "print(b)"
   ]
  },
  {
   "cell_type": "code",
   "execution_count": 17,
   "metadata": {},
   "outputs": [
    {
     "name": "stdout",
     "output_type": "stream",
     "text": [
      "array('i', [1, 2, 3, 4])\n",
      "array('i', [1, 10, 3, 4])\n"
     ]
    }
   ],
   "source": [
    "b[1]=10\n",
    "print(a)\n",
    "print(b)"
   ]
  },
  {
   "cell_type": "code",
   "execution_count": 5,
   "metadata": {},
   "outputs": [],
   "source": [
    "from numpy import *\n",
    "a=array([1,2,3,4])\n",
    "a1=a+4"
   ]
  },
  {
   "cell_type": "code",
   "execution_count": 6,
   "metadata": {},
   "outputs": [
    {
     "name": "stdout",
     "output_type": "stream",
     "text": [
      "[5 6 7 8]\n"
     ]
    }
   ],
   "source": [
    "print(a1)"
   ]
  },
  {
   "cell_type": "code",
   "execution_count": null,
   "metadata": {},
   "outputs": [],
   "source": []
  },
  {
   "cell_type": "code",
   "execution_count": 6,
   "metadata": {},
   "outputs": [
    {
     "name": "stdout",
     "output_type": "stream",
     "text": [
      "11\n",
      "12\n",
      "13\n",
      "14\n"
     ]
    }
   ],
   "source": [
    "from numpy import *\n",
    "a=array([1,2,3,4])\n",
    "for i in a+10: #  this is only perform in a numpy\n",
    "    print(i)"
   ]
  },
  {
   "cell_type": "code",
   "execution_count": 31,
   "metadata": {},
   "outputs": [],
   "source": [
    "from numpy import *\n",
    "a=array([20,30,40,50])  # array  in a numpy\n",
    "#  $$$$$$------->>>>>>>>  this only perform on numpy array  <<<<<<<<<<<<<<<<<#$$$$$######\n",
    "a=a+20"
   ]
  },
  {
   "cell_type": "code",
   "execution_count": 32,
   "metadata": {},
   "outputs": [
    {
     "name": "stdout",
     "output_type": "stream",
     "text": [
      "[40 50 60 70]\n"
     ]
    }
   ],
   "source": [
    "print(a)"
   ]
  },
  {
   "cell_type": "code",
   "execution_count": 33,
   "metadata": {},
   "outputs": [
    {
     "name": "stdout",
     "output_type": "stream",
     "text": [
      "[40 50 60 70]\n"
     ]
    }
   ],
   "source": [
    "b=a.copy()\n",
    "# view is a method inside the numpy package of array class \n",
    "print(b)\n"
   ]
  },
  {
   "cell_type": "code",
   "execution_count": null,
   "metadata": {},
   "outputs": [],
   "source": []
  },
  {
   "cell_type": "code",
   "execution_count": null,
   "metadata": {},
   "outputs": [],
   "source": []
  },
  {
   "cell_type": "code",
   "execution_count": null,
   "metadata": {},
   "outputs": [],
   "source": []
  }
 ],
 "metadata": {
  "kernelspec": {
   "display_name": "Python 3",
   "language": "python",
   "name": "python3"
  },
  "language_info": {
   "codemirror_mode": {
    "name": "ipython",
    "version": 3
   },
   "file_extension": ".py",
   "mimetype": "text/x-python",
   "name": "python",
   "nbconvert_exporter": "python",
   "pygments_lexer": "ipython3",
   "version": "3.7.6"
  }
 },
 "nbformat": 4,
 "nbformat_minor": 4
}
