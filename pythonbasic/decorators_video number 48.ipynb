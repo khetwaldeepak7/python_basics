{
 "cells": [
  {
   "cell_type": "code",
   "execution_count": 44,
   "metadata": {},
   "outputs": [
    {
     "name": "stdout",
     "output_type": "stream",
     "text": [
      "2.0\n"
     ]
    }
   ],
   "source": [
    "def fun(a1,b1):\n",
    "    if(a1<b1):\n",
    "        a1,b1=b1,a1\n",
    "        c=a1/b1\n",
    "        print(c)\n",
    "a=2\n",
    "b=4\n",
    "fun(a,b)"
   ]
  },
  {
   "cell_type": "markdown",
   "metadata": {},
   "source": [
    "#  if supopose we dont have this code,and we want to make changes in the code at that we used decorators"
   ]
  },
  {
   "cell_type": "code",
   "execution_count": 45,
   "metadata": {},
   "outputs": [],
   "source": [
    "# agar tumko code mai changes karna hai without disturbing the code that written before"
   ]
  },
  {
   "cell_type": "code",
   "execution_count": 1,
   "metadata": {},
   "outputs": [],
   "source": [
    "# with the help of decorator we can add some extra features on the existing function"
   ]
  },
  {
   "cell_type": "code",
   "execution_count": 49,
   "metadata": {},
   "outputs": [],
   "source": [
    "# jidhr decorator function banayega, wah jisfunction mai changes karna hai usko as a parameter leyga\n",
    "# inside this function we will create  another function which wil take same arguament of A funtion ,which i have to change\n",
    "# jis function mai operation perform karna hai utna same parameter yeh leyga\n",
    "# purane function ko call hi nhi karenge"
   ]
  },
  {
   "cell_type": "code",
   "execution_count": 1,
   "metadata": {},
   "outputs": [
    {
     "name": "stdout",
     "output_type": "stream",
     "text": [
      "3\n",
      "6\n",
      "2.0\n"
     ]
    }
   ],
   "source": [
    "def fun(a1,b1):  # yeh wale function ko hath hi nhi laga hai.\n",
    "    print(a1/b1)   # yeh function mai abh decorator ki madat sey change hoga\n",
    "#esmi decorator operation perform karenge ,hum naya function bnayenge.n esmia ji function mai changes karna hai us function ko as a argument denge##\n",
    "def new_fun(fun):     \n",
    "    def one_more(a1,b1):   # ek or function bnayenge ,jismai hum,wah wale functionke argument pass karenge jo pehle wale function mai hai,,jisko change karna hai\n",
    "        if(a1<b1):  #one more functiion is inside the new function ,so we can call this function inside from inside\n",
    "            a1,b1=b1,a1   #bhar sey esko call mhi kardaktey\n",
    "        return fun(a1,b1)  # actually simply we are calling here the fun(a1,b1)function and returning the value     \n",
    "    a=int(input())\n",
    "    b=int(input())\n",
    "    return one_more(a,b) #inner function return karenge, q ki usmai hi operation kia haisabh\n",
    "fun1=new_fun(fun)        \n",
    "#fun1(2,4) # value we have to assign to the new define function"
   ]
  },
  {
   "cell_type": "code",
   "execution_count": null,
   "metadata": {},
   "outputs": [],
   "source": []
  },
  {
   "cell_type": "code",
   "execution_count": 1,
   "metadata": {},
   "outputs": [
    {
     "name": "stdout",
     "output_type": "stream",
     "text": [
      "@@@@@@\n",
      "deepak\n",
      "#########\n",
      "helo\n"
     ]
    }
   ],
   "source": [
    "def name():\n",
    "    print(\"#########\")\n",
    "    return \"helo\"  # \n",
    "#@@@@@@@@@@@@@@@@@@@@@@@@@@#  so first we will make a new function ,and in that function we will pass the argument as afunction in which i have to make a changes\n",
    "#@@@@@@@@@@@@#$$$$$$$$$$$$$$$$$$$$$$$$$$$$$$$$$$$$$$$$$$$$$\n",
    "def another(name):   # 1 idhar aayega ,program q ki hume another()kocall kia hai   \n",
    "    def inside():  #  esko define kia haicall nhi eslia eske andar nhi jayega \n",
    "        print(\"deepak\") # 4 fir yeh print kareyga n\n",
    "        return name()  # 5 mai yeh wla function jo function mai add karna hai .usfunction   ko call kareyga\n",
    "    print(\"@@@@@@\")  # 2 idhr aayega ,andar wale function ko call hi hnhi kia hai ,eslia idhr aeyga\n",
    "    return inside()   # 3 idhr AAYEGA and fir inside function ko cal kareyga\n",
    "dk=another(name)# we have to make another function ,which will take that function as a argument\n",
    "print(dk)"
   ]
  },
  {
   "cell_type": "code",
   "execution_count": null,
   "metadata": {},
   "outputs": [],
   "source": []
  },
  {
   "cell_type": "code",
   "execution_count": null,
   "metadata": {},
   "outputs": [],
   "source": [
    "# def function bas define karta hai, wah function ka body tabh takh excute nhi hoga jabh takh usko call nhi kia jayeh"
   ]
  },
  {
   "cell_type": "code",
   "execution_count": 27,
   "metadata": {},
   "outputs": [
    {
     "name": "stdout",
     "output_type": "stream",
     "text": [
      "hello\n",
      "from here i will made a call to the inside function,bec it is inside the function newname function\n",
      "operation perform\n",
      "-1\n"
     ]
    }
   ],
   "source": [
    "def name(a,b):\n",
    "    #a,b=10,20\n",
    "    c=a-b\n",
    "    print(c)\n",
    "def newname(name): ### pehle esko call kareyga\n",
    "    def working(n1,n2):  # jabh newname function ko call kia yeh function uske andar define hai bas,so eska method execute nhi hoga,so eske bhar jayega , with the help of  return method this function will get call\n",
    "        if(n1<n2):\n",
    "            print (\"operation perform\")   # fir inside wale function ko cal jayega\n",
    "            return name(n1,n2)\n",
    "##################################################$$$$$$$$$$$$$$$$$$$##########################$$$$$$$$$$$$$$$$$$$$        \n",
    "    print(\"from here i will made a call to the inside function,bec it is inside the function newname function\")\n",
    "    return working(4,5) #@@@@@@@@@@@@@@@@@@@@@@@@@@@@@@@@@@@#########@@@@@@@####\n",
    "############################################################     \n",
    "print(\"hello\")\n",
    "n1=newname(name)  # maine pehle yeh function ko call kia,.dir uske andar ek oe function bas define hai,jis function mai chages karnahai\n",
    "############################################################"
   ]
  },
  {
   "cell_type": "code",
   "execution_count": null,
   "metadata": {},
   "outputs": [],
   "source": []
  },
  {
   "cell_type": "markdown",
   "metadata": {},
   "source": [
    "# decorators"
   ]
  },
  {
   "cell_type": "code",
   "execution_count": 3,
   "metadata": {},
   "outputs": [
    {
     "name": "stdout",
     "output_type": "stream",
     "text": [
      "first this line will get execute\n",
      "2  this will be called\n",
      "this is the office policy\n"
     ]
    }
   ],
   "source": [
    "def deepak():\n",
    "    print(\"this is the office policy\")\n",
    "    \n",
    "def changing(deepak):  # naya function bnaya,jismai wah function ko as a argument pas kia ,jismai changes karna hai\n",
    "    def child():  # function bas define kia hai ,toh eska andar ka body execute nhi hoga\n",
    "        print(\"2  this will be called\")\n",
    "        return deepak()  # at last from here the main function wil get called\n",
    "    print(\"first this line will get execute\")\n",
    "    return child()  # abh child function ko callkia hai,so child functionmai jayega\n",
    "    \n",
    "changing(deepak)"
   ]
  },
  {
   "cell_type": "code",
   "execution_count": 17,
   "metadata": {},
   "outputs": [
    {
     "name": "stdout",
     "output_type": "stream",
     "text": [
      "first this line will get execute\n",
      "2  this will be called\n",
      "3 good try\n",
      "this is the office policy\n"
     ]
    }
   ],
   "source": [
    "def deepak():\n",
    "    print(\"this is the office policy\")\n",
    "    \n",
    "def changing(deepak):  # naya function bnaya,jismai wah function ko as a argument pas kia ,jismai changes karna hai\n",
    "    def child():  # function bas define kia hai ,toh eska andar ka body execute nhi hoga\n",
    "        def another_child():# nested function\n",
    "            print(\"3 good try\")\n",
    "            return deepak()\n",
    "        print(\"2  this will be called\")\n",
    "        return another_child()   # with the help of return function another_child()get called\n",
    "    print(\"first this line will get execute\")\n",
    "    #another_child()\n",
    "    return child()  # abh child function ko callkia hai,so child functionmai jayega\n",
    "    \n",
    "changing(deepak)"
   ]
  },
  {
   "cell_type": "code",
   "execution_count": null,
   "metadata": {},
   "outputs": [],
   "source": []
  },
  {
   "cell_type": "markdown",
   "metadata": {},
   "source": [
    "# NESTED FUNCTION CALLING"
   ]
  },
  {
   "cell_type": "code",
   "execution_count": 2,
   "metadata": {},
   "outputs": [
    {
     "name": "stdout",
     "output_type": "stream",
     "text": [
      "@@@@@@@@@\n",
      "nested\n"
     ]
    },
    {
     "data": {
      "text/plain": [
       "2.0"
      ]
     },
     "execution_count": 2,
     "metadata": {},
     "output_type": "execute_result"
    }
   ],
   "source": [
    "def deepak(a,b):\n",
    "    return(a/b)\n",
    "\n",
    "def new_function(deepak):\n",
    "    \n",
    "    def hi():\n",
    "        \n",
    "        print(\"nested\")\n",
    "        \n",
    "        def child(a1,b1):  # function just define kia hai,toh eske andar ka method execute tabh takh nho hoga,jabh takh function ko call na kare\n",
    "            if(a1<b1):\n",
    "                a1,b1=b1,a1\n",
    "                \n",
    "            return deepak(a1,b1)\n",
    "        \n",
    "        return child(4,2)\n",
    "    \n",
    "    print(\"@@@@@@@@@\")\n",
    "    \n",
    "    return hi()\n",
    "\n",
    "new_function(deepak)"
   ]
  },
  {
   "cell_type": "code",
   "execution_count": 2,
   "metadata": {},
   "outputs": [],
   "source": [
    "def deepak():\n",
    "    print(\" hi world\")"
   ]
  },
  {
   "cell_type": "code",
   "execution_count": 3,
   "metadata": {},
   "outputs": [
    {
     "name": "stdout",
     "output_type": "stream",
     "text": [
      "hello world hi world\n"
     ]
    }
   ],
   "source": [
    "\n",
    "def new_function(hello):\n",
    "    print(\"hello world\",end=\"\")\n",
    "    return deepak()\n",
    "\n",
    "new_function(deepak)"
   ]
  },
  {
   "cell_type": "code",
   "execution_count": 15,
   "metadata": {},
   "outputs": [
    {
     "name": "stdout",
     "output_type": "stream",
     "text": [
      "30\n"
     ]
    }
   ],
   "source": [
    "class A:\n",
    "    def add(self,a,b):\n",
    "        print(a+b)\n",
    "class B:\n",
    "    def m2(self,other):  # jidhr v us class ke method ko call karna hai udhr us class ka object ka  refernce daal do;\n",
    "        other.add(10,20)\n",
    "a=A() \n",
    "b=B()\n",
    "b.m2(a)   "
   ]
  },
  {
   "cell_type": "code",
   "execution_count": null,
   "metadata": {},
   "outputs": [],
   "source": []
  },
  {
   "cell_type": "code",
   "execution_count": null,
   "metadata": {},
   "outputs": [],
   "source": []
  }
 ],
 "metadata": {
  "kernelspec": {
   "display_name": "Python 3",
   "language": "python",
   "name": "python3"
  },
  "language_info": {
   "codemirror_mode": {
    "name": "ipython",
    "version": 3
   },
   "file_extension": ".py",
   "mimetype": "text/x-python",
   "name": "python",
   "nbconvert_exporter": "python",
   "pygments_lexer": "ipython3",
   "version": "3.7.6"
  }
 },
 "nbformat": 4,
 "nbformat_minor": 4
}
