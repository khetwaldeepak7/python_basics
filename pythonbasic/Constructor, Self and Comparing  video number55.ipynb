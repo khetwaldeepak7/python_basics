{
 "cells": [
  {
   "cell_type": "code",
   "execution_count": 1,
   "metadata": {},
   "outputs": [],
   "source": [
    "# the object of clss is stored in the HEAP memory"
   ]
  },
  {
   "cell_type": "code",
   "execution_count": 2,
   "metadata": {},
   "outputs": [],
   "source": [
    "#the object of class is created when we create a object of class"
   ]
  },
  {
   "cell_type": "code",
   "execution_count": 5,
   "metadata": {},
   "outputs": [
    {
     "name": "stdout",
     "output_type": "stream",
     "text": [
      "53732256\n",
      "53732304\n"
     ]
    }
   ],
   "source": [
    "class A:\n",
    "    pass\n",
    "a=A()\n",
    "a1=A()\n",
    "print(id(a))\n",
    "print(id(a1))"
   ]
  },
  {
   "cell_type": "code",
   "execution_count": 16,
   "metadata": {},
   "outputs": [
    {
     "name": "stdout",
     "output_type": "stream",
     "text": [
      "hi\n",
      "123\n",
      "1234\n"
     ]
    }
   ],
   "source": [
    "# how to declare variable inside the function\n",
    "class Demo:\n",
    "    def __init__(self):\n",
    "        self.name=\"Deepak\"\n",
    "        self.password=\"123\"\n",
    "\n",
    "D=Demo()    # the object of class got created   \n",
    "\n",
    "D1=Demo()  # the another reference of class created\n",
    "\n",
    "D.name=\"hi\"\n",
    "D1.age=\"1234\"\n",
    " \n",
    "# as we know the __init__method will called automatically\n",
    "\n",
    "print(D.name)   \n",
    "\n",
    "\n",
    "print(D.password)\n",
    "print(D1.age)\n"
   ]
  },
  {
   "cell_type": "markdown",
   "metadata": {},
   "source": [
    "# comparing two object by defining our own function"
   ]
  },
  {
   "cell_type": "code",
   "execution_count": 2,
   "metadata": {},
   "outputs": [
    {
     "name": "stdout",
     "output_type": "stream",
     "text": [
      "same age\n",
      "Deepak\n"
     ]
    }
   ],
   "source": [
    "class Demo:\n",
    "    def __init__(self):\n",
    "        self.name=\"Deepak\"\n",
    "        self.age=\"123\"\n",
    "    def compares(self,D1): # in this we will check age between two both, so first i had passed aobject #now the object of another clas wil pas\n",
    "        if(self.age==D1.age):\n",
    "            return True\n",
    "        else:\n",
    "            return False\n",
    "    \n",
    "    \n",
    "\n",
    "D=Demo()    \n",
    "D1=Demo()  \n",
    "# another way of writing is \n",
    "# Demo.compares(D,D1)   # demo class mai compares is the method\n",
    "if(D.compares(D1)):  # so here it is saying hie,i am comparing a D with D1\n",
    "    print(\"same age\")\n",
    "else:\n",
    "    print(\"different age\")\n",
    "print(D.name)\n"
   ]
  },
  {
   "cell_type": "code",
   "execution_count": null,
   "metadata": {},
   "outputs": [],
   "source": []
  },
  {
   "cell_type": "code",
   "execution_count": 1,
   "metadata": {},
   "outputs": [
    {
     "name": "stdout",
     "output_type": "stream",
     "text": [
      "deepak\n",
      "prince\n"
     ]
    }
   ],
   "source": [
    "class Yahoo:\n",
    "    def __init__(self,name,password):\n",
    "        self.name=name\n",
    "        self.password=password\n",
    "        \n",
    "y=Yahoo(\"deepak\",1234)\n",
    "y2=Yahoo(\"prince\",123)\n",
    "print(y.name)\n",
    "print(y2.name)\n",
    "        "
   ]
  }
 ],
 "metadata": {
  "kernelspec": {
   "display_name": "Python 3",
   "language": "python",
   "name": "python3"
  },
  "language_info": {
   "codemirror_mode": {
    "name": "ipython",
    "version": 3
   },
   "file_extension": ".py",
   "mimetype": "text/x-python",
   "name": "python",
   "nbconvert_exporter": "python",
   "pygments_lexer": "ipython3",
   "version": "3.7.6"
  }
 },
 "nbformat": 4,
 "nbformat_minor": 4
}
