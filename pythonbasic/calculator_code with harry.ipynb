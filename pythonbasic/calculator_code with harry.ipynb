{
 "cells": [
  {
   "cell_type": "code",
   "execution_count": 34,
   "metadata": {},
   "outputs": [
    {
     "name": "stdout",
     "output_type": "stream",
     "text": [
      "Deepak\n",
      "hello sir welcome to the \"Deepak\" shop\n",
      "plz start your shopping\n",
      "10\n",
      "enter product name:milk\n",
      "name of product is milk and the price is 10\n",
      "20\n",
      "enter product name:sugar\n",
      "name of product is sugar and the price is 30\n",
      "30\n",
      "enter product name:honey\n",
      "name of product is honey and the price is 60\n",
      "q\n",
      "Thank you for shopping in  Deepak shop and your total amount is 60 and plz visit again\n"
     ]
    }
   ],
   "source": [
    "add=0\n",
    "file=\"shopcalculation.csv\"   # made a csv file\n",
    "f=open(file,'w')      # open a csv file in a write mode\n",
    "#headers=\"shopping list\\n\"\n",
    "name=input()\n",
    "print(f\"hello sir welcome to the \\\"{name}\\\" shop\")\n",
    "print(\"plz start your shopping\")\n",
    "while(True):\n",
    "    user_input=input()\n",
    "    if(user_input!='q'):\n",
    "        name_product=input(\"enter product name:\")\n",
    "        x=int(user_input)\n",
    "        add=add+x\n",
    "        print(f\"name of product is {name_product} and the price is {add}\")\n",
    "        st=str(add)\n",
    "        f.write(\"name\"+name_product)\n",
    "        f.write(\" price \"+st+\",\"+\"\\n\")\n",
    "        \n",
    "    else:\n",
    "        print(f\"Thank you for shopping in  {name} shop and your total amount is {add} and plz visit again\")\n",
    "        f.write(\"total is\"+st+\",\"+\"\\n\")\n",
    "        f.close()\n",
    "        break\n",
    "    "
   ]
  },
  {
   "cell_type": "markdown",
   "metadata": {},
   "source": [
    "# (in python)if u want to acces the value of variable,use the {} brackets,use (f) in the starting of string"
   ]
  },
  {
   "cell_type": "code",
   "execution_count": null,
   "metadata": {},
   "outputs": [],
   "source": []
  },
  {
   "cell_type": "code",
   "execution_count": 1,
   "metadata": {},
   "outputs": [
    {
     "name": "stdout",
     "output_type": "stream",
     "text": [
      "the value of depak\n"
     ]
    }
   ],
   "source": [
    "a=\"depak\"\n",
    "print(f\"the value of {a}\")  # ------->>>> as we have done here to the get the value of varibale-------"
   ]
  },
  {
   "cell_type": "code",
   "execution_count": 3,
   "metadata": {},
   "outputs": [
    {
     "name": "stdout",
     "output_type": "stream",
     "text": [
      "deepak\n",
      "welcome to our deepak shop\n"
     ]
    }
   ],
   "source": [
    "a=input()\n",
    "print(f\"welcome to our {a} shop\")"
   ]
  },
  {
   "cell_type": "code",
   "execution_count": null,
   "metadata": {},
   "outputs": [],
   "source": []
  },
  {
   "cell_type": "code",
   "execution_count": 11,
   "metadata": {},
   "outputs": [
    {
     "name": "stdout",
     "output_type": "stream",
     "text": [
      "53\n",
      "hi this is my first projrct,and happy for deliver you   0\n",
      "hi this is my first projrct,and happy for deliver you   1\n",
      "hi this is my first projrct,and happy for deliver you   2\n",
      "hi this is my first projrct,and happy for deliver you   3\n",
      "hi this is my first projrct,and happy for deliver you   4\n",
      "hi this is my first projrct,and happy for deliver you   5\n",
      "hi this is my first projrct,and happy for deliver you   6\n",
      "hi this is my first projrct,and happy for deliver you   7\n",
      "hi this is my first projrct,and happy for deliver you   8\n",
      "hi this is my first projrct,and happy for deliver you   9\n",
      "hi this is my first projrct,and happy for deliver you   10\n",
      "hi this is my first projrct,and happy for deliver you   11\n",
      "hi this is my first projrct,and happy for deliver you   12\n",
      "hi this is my first projrct,and happy for deliver you   13\n",
      "hi this is my first projrct,and happy for deliver you   14\n",
      "hi this is my first projrct,and happy for deliver you   15\n",
      "hi this is my first projrct,and happy for deliver you   16\n",
      "hi this is my first projrct,and happy for deliver you   17\n",
      "hi this is my first projrct,and happy for deliver you   18\n",
      "hi this is my first projrct,and happy for deliver you   19\n",
      "hi this is my first projrct,and happy for deliver you   20\n",
      "hi this is my first projrct,and happy for deliver you   21\n",
      "hi this is my first projrct,and happy for deliver you   22\n",
      "hi this is my first projrct,and happy for deliver you   23\n",
      "hi this is my first projrct,and happy for deliver you   24\n",
      "hi this is my first projrct,and happy for deliver you   25\n",
      "hi this is my first projrct,and happy for deliver you   26\n",
      "hi this is my first projrct,and happy for deliver you   27\n",
      "hi this is my first projrct,and happy for deliver you   28\n",
      "hi this is my first projrct,and happy for deliver you   29\n",
      "hi this is my first projrct,and happy for deliver you   30\n",
      "hi this is my first projrct,and happy for deliver you   31\n",
      "hi this is my first projrct,and happy for deliver you   32\n",
      "hi this is my first projrct,and happy for deliver you   33\n",
      "hi this is my first projrct,and happy for deliver you   34\n",
      "hi this is my first projrct,and happy for deliver you   35\n",
      "hi this is my first projrct,and happy for deliver you   36\n",
      "hi this is my first projrct,and happy for deliver you   37\n",
      "hi this is my first projrct,and happy for deliver you   38\n",
      "hi this is my first projrct,and happy for deliver you   39\n",
      "hi this is my first projrct,and happy for deliver you   40\n",
      "hi this is my first projrct,and happy for deliver you   41\n",
      "hi this is my first projrct,and happy for deliver you   42\n",
      "hi this is my first projrct,and happy for deliver you   43\n",
      "hi this is my first projrct,and happy for deliver you   44\n",
      "hi this is my first projrct,and happy for deliver you   45\n",
      "hi this is my first projrct,and happy for deliver you   46\n",
      "hi this is my first projrct,and happy for deliver you   47\n",
      "hi this is my first projrct,and happy for deliver you   48\n",
      "hi this is my first projrct,and happy for deliver you   49\n",
      "hi this is my first projrct,and happy for deliver you   50\n",
      "hi this is my first projrct,and happy for deliver you   51\n",
      "hi this is my first projrct,and happy for deliver you   52\n"
     ]
    }
   ],
   "source": [
    "k=\"hi this is my first projrct,and happy for deliver you\"\n",
    "print(len(k))\n",
    "count=0\n",
    "for i in k:\n",
    "    print(k,\" \",count)\n",
    "    count=count+1"
   ]
  },
  {
   "cell_type": "code",
   "execution_count": null,
   "metadata": {},
   "outputs": [],
   "source": []
  }
 ],
 "metadata": {
  "kernelspec": {
   "display_name": "Python 3",
   "language": "python",
   "name": "python3"
  },
  "language_info": {
   "codemirror_mode": {
    "name": "ipython",
    "version": 3
   },
   "file_extension": ".py",
   "mimetype": "text/x-python",
   "name": "python",
   "nbconvert_exporter": "python",
   "pygments_lexer": "ipython3",
   "version": "3.7.6"
  }
 },
 "nbformat": 4,
 "nbformat_minor": 4
}
