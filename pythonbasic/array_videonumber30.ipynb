{
 "cells": [
  {
   "cell_type": "code",
   "execution_count": 10,
   "metadata": {},
   "outputs": [
    {
     "name": "stdout",
     "output_type": "stream",
     "text": [
      "array('i', [1, 2, 3])\n"
     ]
    }
   ],
   "source": [
    "import array # in this we are calling and importing array\n",
    "k=array.array('i',[1,2,3])\n",
    "print(k)"
   ]
  },
  {
   "cell_type": "code",
   "execution_count": 9,
   "metadata": {},
   "outputs": [],
   "source": [
    "def fan(lis):\n",
    "    print(li)"
   ]
  },
  {
   "cell_type": "code",
   "execution_count": 10,
   "metadata": {},
   "outputs": [
    {
     "name": "stdout",
     "output_type": "stream",
     "text": [
      "array('i', [1, 2, 3, 4, 5])\n",
      "[1, 2, 3, 4, 5, 6]\n"
     ]
    }
   ],
   "source": [
    "from array import array\n",
    "a=array('i',[1,2,3,4,5])\n",
    "b=array(a.typecode,[b for b in a])\n",
    "print(b)\n",
    "li=[1,2,3,4,5,6]\n",
    "fan(li)"
   ]
  },
  {
   "cell_type": "markdown",
   "metadata": {},
   "source": [
    "# signed value=it allow both positive as well as negative value"
   ]
  },
  {
   "cell_type": "markdown",
   "metadata": {},
   "source": [
    "# unsigned value= it wil only store the positive values"
   ]
  },
  {
   "cell_type": "code",
   "execution_count": 12,
   "metadata": {},
   "outputs": [],
   "source": [
    "import array\n",
    "dk=array.array('B',[1,2,3,4])  # 'B ' capital b is for unsigned values, so it will take only positive values"
   ]
  },
  {
   "cell_type": "code",
   "execution_count": 13,
   "metadata": {},
   "outputs": [
    {
     "name": "stdout",
     "output_type": "stream",
     "text": [
      "array('B', [1, 2, 3, 4])\n"
     ]
    }
   ],
   "source": [
    "print(dk)"
   ]
  },
  {
   "cell_type": "markdown",
   "metadata": {},
   "source": [
    "# now i m trying to give a negative value to unsigned\n"
   ]
  },
  {
   "cell_type": "code",
   "execution_count": 16,
   "metadata": {},
   "outputs": [
    {
     "ename": "OverflowError",
     "evalue": "unsigned byte integer is less than minimum",
     "output_type": "error",
     "traceback": [
      "\u001b[1;31m---------------------------------------------------------------------------\u001b[0m",
      "\u001b[1;31mOverflowError\u001b[0m                             Traceback (most recent call last)",
      "\u001b[1;32m<ipython-input-16-24fe76811a9d>\u001b[0m in \u001b[0;36m<module>\u001b[1;34m\u001b[0m\n\u001b[0;32m      1\u001b[0m \u001b[1;32mimport\u001b[0m \u001b[0marray\u001b[0m\u001b[1;33m\u001b[0m\u001b[1;33m\u001b[0m\u001b[0m\n\u001b[1;32m----> 2\u001b[1;33m \u001b[0mdk\u001b[0m\u001b[1;33m=\u001b[0m\u001b[0marray\u001b[0m\u001b[1;33m.\u001b[0m\u001b[0marray\u001b[0m\u001b[1;33m(\u001b[0m\u001b[1;34m'B'\u001b[0m\u001b[1;33m,\u001b[0m\u001b[1;33m[\u001b[0m\u001b[1;36m1\u001b[0m\u001b[1;33m,\u001b[0m\u001b[1;36m2\u001b[0m\u001b[1;33m,\u001b[0m\u001b[1;36m3\u001b[0m\u001b[1;33m,\u001b[0m\u001b[1;36m4\u001b[0m\u001b[1;33m,\u001b[0m\u001b[1;33m-\u001b[0m\u001b[1;36m23\u001b[0m\u001b[1;33m,\u001b[0m\u001b[1;36m2\u001b[0m\u001b[1;33m,\u001b[0m\u001b[1;33m-\u001b[0m\u001b[1;36m2\u001b[0m\u001b[1;33m]\u001b[0m\u001b[1;33m)\u001b[0m\u001b[1;33m\u001b[0m\u001b[1;33m\u001b[0m\u001b[0m\n\u001b[0m",
      "\u001b[1;31mOverflowError\u001b[0m: unsigned byte integer is less than minimum"
     ]
    }
   ],
   "source": [
    "import array\n",
    "dk=array.array('B',[1,2,3,4,-23,2,-2])    # as i tried to assign a negative value to it so i got a array"
   ]
  },
  {
   "cell_type": "markdown",
   "metadata": {},
   "source": [
    "# using buffer_info method to get the addres and the size of array"
   ]
  },
  {
   "cell_type": "code",
   "execution_count": 5,
   "metadata": {},
   "outputs": [
    {
     "data": {
      "text/plain": [
       "(52683768, 5)"
      ]
     },
     "execution_count": 5,
     "metadata": {},
     "output_type": "execute_result"
    }
   ],
   "source": [
    "from array import array \n",
    "dk=array('i',[1,2,3,4,-4])\n",
    "dk.buffer_info()   # here we got thr addres and the size of array"
   ]
  },
  {
   "cell_type": "markdown",
   "metadata": {},
   "source": [
    "# using index number we can print the value one by one"
   ]
  },
  {
   "cell_type": "code",
   "execution_count": 27,
   "metadata": {},
   "outputs": [
    {
     "name": "stdout",
     "output_type": "stream",
     "text": [
      "1\n",
      "2\n",
      "3\n",
      "4\n",
      "-4\n"
     ]
    }
   ],
   "source": [
    "le=len(dk)\n",
    "i=0\n",
    "while i<le:\n",
    "    print(dk[i])  # using index number itteration we can get the value ,one by one \n",
    "    i=i+1\n",
    "    \n"
   ]
  },
  {
   "cell_type": "markdown",
   "metadata": {},
   "source": [
    "# we can reverse the array"
   ]
  },
  {
   "cell_type": "markdown",
   "metadata": {},
   "source": [
    "# 1 method is slicing\n",
    "# 2 method is by calling reverse function of array"
   ]
  },
  {
   "cell_type": "code",
   "execution_count": 29,
   "metadata": {},
   "outputs": [
    {
     "data": {
      "text/plain": [
       "array('i', [-4, 4, 3, 2, 1])"
      ]
     },
     "execution_count": 29,
     "metadata": {},
     "output_type": "execute_result"
    }
   ],
   "source": [
    "dk[::-1]   # using slicing we can reverse the array,,as we know slicing can be perform on all the data type except the set and dictionary"
   ]
  },
  {
   "cell_type": "code",
   "execution_count": 1,
   "metadata": {},
   "outputs": [
    {
     "name": "stdout",
     "output_type": "stream",
     "text": [
      "array('i', [-4, 4, 3, 2, 1])\n"
     ]
    }
   ],
   "source": [
    "from array import array\n",
    "dk=array('i',[1,2,3,4,-4])\n",
    "dk.reverse()  # because revserse function you had perform on dk,so dk ko jabh print kareyga tabhi hoga,and \n",
    "#------->>>>> n jaise dusre variable mai store kareyga toh ,wah change nhi hoga\n",
    "#      k=dk.reverse()     #---->>>>.. jaise maine kia\n",
    "#      print(k)  # jaise humne k mai store kia toh value none ,huwa,eslia\n",
    "print(dk)"
   ]
  },
  {
   "cell_type": "code",
   "execution_count": 31,
   "metadata": {},
   "outputs": [
    {
     "name": "stdout",
     "output_type": "stream",
     "text": [
      "-4\n",
      "4\n",
      "3\n",
      "2\n",
      "1\n"
     ]
    }
   ],
   "source": [
    "dk1=dk[::-1] \n",
    "for i in dk1:\n",
    "    print(i)"
   ]
  },
  {
   "cell_type": "markdown",
   "metadata": {},
   "source": [
    "# copy value of one array to another"
   ]
  },
  {
   "cell_type": "code",
   "execution_count": 9,
   "metadata": {},
   "outputs": [
    {
     "name": "stdout",
     "output_type": "stream",
     "text": [
      "1\n",
      "4\n",
      "9\n",
      "16\n",
      "25\n"
     ]
    }
   ],
   "source": [
    "# copy one array value to another array\n",
    "from array import array\n",
    "a=array('i',[1,2,3,4,5])\n",
    "b=array(a.typecode,(b for b in a))   # copying array to another array\n",
    "#a.typecode(it will tell that we dont know the type of array,so please assume that new array type is same as previous array)\n",
    "#now we will take one by one value from previous array,and and take in b ,on the same time we will store that value to our assign variable B\n",
    "#now it will print the value one by one\n",
    "for e in b:\n",
    "    print(e)"
   ]
  },
  {
   "cell_type": "markdown",
   "metadata": {},
   "source": [
    "# using while loop we will print the value"
   ]
  },
  {
   "cell_type": "code",
   "execution_count": 1,
   "metadata": {},
   "outputs": [
    {
     "name": "stdout",
     "output_type": "stream",
     "text": [
      "1\n",
      "2\n",
      "3\n",
      "4\n",
      "5\n"
     ]
    }
   ],
   "source": [
    "import array\n",
    "num1=array.array('i',[1,2,3,4,5])\n",
    "num2=array.array(num1.typecode,( num2 for num2 in num1))\n",
    "i=0\n",
    "while(i<len(num2)):\n",
    "    print(num2[i])\n",
    "    i=i+1"
   ]
  },
  {
   "cell_type": "markdown",
   "metadata": {},
   "source": [
    "# user input "
   ]
  },
  {
   "cell_type": "code",
   "execution_count": 9,
   "metadata": {},
   "outputs": [
    {
     "name": "stdout",
     "output_type": "stream",
     "text": [
      "enter the length of array3\n",
      "enter the number12\n",
      "enter the number32\n",
      "enter the number4\n",
      "array('i', [12, 32, 4])\n"
     ]
    },
    {
     "data": {
      "text/plain": [
       "array('i', [4, 32, 12])"
      ]
     },
     "execution_count": 9,
     "metadata": {},
     "output_type": "execute_result"
    }
   ],
   "source": [
    "from array import array\n",
    "a=array('i',[])\n",
    "length=int(input(\"enter the length of array\"))\n",
    "for i in range(length):\n",
    "    y=int(input(\"enter the number\"))\n",
    "    a.append(y)\n",
    "print(a)\n",
    "a[::-1]  # reversing the array"
   ]
  },
  {
   "cell_type": "code",
   "execution_count": 10,
   "metadata": {},
   "outputs": [
    {
     "data": {
      "text/plain": [
       "(53675520, 3)"
      ]
     },
     "execution_count": 10,
     "metadata": {},
     "output_type": "execute_result"
    }
   ],
   "source": [
    "a.buffer_info()"
   ]
  },
  {
   "cell_type": "code",
   "execution_count": 13,
   "metadata": {},
   "outputs": [
    {
     "name": "stdout",
     "output_type": "stream",
     "text": [
      "12\n",
      "32\n",
      "4\n"
     ]
    }
   ],
   "source": [
    "dk=array(a.typecode,[dk for dk in a])   # copying one array values to another\n",
    "for e in dk:\n",
    "    print(e)"
   ]
  },
  {
   "cell_type": "markdown",
   "metadata": {},
   "source": [
    "\n",
    "# simple way to copy"
   ]
  },
  {
   "cell_type": "code",
   "execution_count": 12,
   "metadata": {},
   "outputs": [
    {
     "name": "stdout",
     "output_type": "stream",
     "text": [
      "array('i', [1, 2, 3])\n",
      "array('i', [1, 2, 3])\n"
     ]
    }
   ],
   "source": [
    "from array import array\n",
    "a=array('i',[1,2,3])\n",
    "b=a\n",
    "print(a)\n",
    "print(b)"
   ]
  },
  {
   "cell_type": "markdown",
   "metadata": {},
   "source": [
    "# but in array we dont have a function name as view and copy, as these function we had on numpy"
   ]
  },
  {
   "cell_type": "code",
   "execution_count": null,
   "metadata": {},
   "outputs": [],
   "source": []
  },
  {
   "cell_type": "code",
   "execution_count": 1,
   "metadata": {},
   "outputs": [
    {
     "name": "stdout",
     "output_type": "stream",
     "text": [
      "enter the lengthof array4\n",
      "enter the number 232\n",
      "enter the number 43\n",
      "enter the number 1\n",
      "enter the number 3\n",
      "array('i', [232, 43, 1, 3])\n"
     ]
    }
   ],
   "source": [
    "from array import array\n",
    "a=array('i',[])\n",
    "length=int(input(\"enter the lengthof array\"))\n",
    "for i in range(length):\n",
    "    y=int(input(\"enter the number \"))\n",
    "    a.append(y)\n",
    "print(a)\n"
   ]
  },
  {
   "cell_type": "code",
   "execution_count": 2,
   "metadata": {},
   "outputs": [
    {
     "data": {
      "text/plain": [
       "[1, 3, 43, 232]"
      ]
     },
     "execution_count": 2,
     "metadata": {},
     "output_type": "execute_result"
    }
   ],
   "source": [
    "sorted(a)  # calling sorted function in a array\n",
    "#type(a)"
   ]
  },
  {
   "cell_type": "markdown",
   "metadata": {},
   "source": [
    "# using this concept of copying value in array we will get the different addres of location"
   ]
  },
  {
   "cell_type": "code",
   "execution_count": 2,
   "metadata": {},
   "outputs": [
    {
     "name": "stdout",
     "output_type": "stream",
     "text": [
      "1\n",
      "2\n",
      "3\n",
      "5\n",
      "6\n",
      "7\n",
      "array('i', [1, 2, 3, 5, 6, 7])\n"
     ]
    }
   ],
   "source": [
    "from array import array\n",
    "a=array('i',[1,2,3])\n",
    "a.extend([5,6,7])\n",
    "g=array(a.typecode,(g for g in a))   #simply a ki value g mai ek ek karke ayega suing for loop, humne for sey pehle ek g use kia hai,wah as a variable use hoga,jismai value assign hoga, n wah value ko fir hum ek ekkarke usek karenge\n",
    "for e in g:\n",
    "    print(e)\n",
    "print(g)"
   ]
  },
  {
   "cell_type": "code",
   "execution_count": 3,
   "metadata": {},
   "outputs": [
    {
     "name": "stdout",
     "output_type": "stream",
     "text": [
      "array('i', [1, 2, 3, 5, 6, 7])\n"
     ]
    }
   ],
   "source": [
    " print(a)"
   ]
  },
  {
   "cell_type": "code",
   "execution_count": 4,
   "metadata": {},
   "outputs": [
    {
     "name": "stdout",
     "output_type": "stream",
     "text": [
      "52653920\n"
     ]
    }
   ],
   "source": [
    "print(id(a))     # using this concept the value are same but the addres or the storage location of both the variable is different"
   ]
  },
  {
   "cell_type": "code",
   "execution_count": 5,
   "metadata": {},
   "outputs": [
    {
     "name": "stdout",
     "output_type": "stream",
     "text": [
      "52653184\n"
     ]
    }
   ],
   "source": [
    "print(id(g))  # as i address is different"
   ]
  },
  {
   "cell_type": "markdown",
   "metadata": {},
   "source": [
    "# copy value of one array to another variable but with the different address of location"
   ]
  },
  {
   "cell_type": "code",
   "execution_count": 8,
   "metadata": {},
   "outputs": [
    {
     "name": "stdout",
     "output_type": "stream",
     "text": [
      "1\n",
      "2\n",
      "3\n",
      "array('i', [1, 2, 3])\n"
     ]
    },
    {
     "data": {
      "text/plain": [
       "array('i', [3, 2, 1])"
      ]
     },
     "execution_count": 8,
     "metadata": {},
     "output_type": "execute_result"
    }
   ],
   "source": [
    "import array\n",
    "a=array.array('i',[1,2,3])\n",
    "b=array.array(a.typecode,[b for b in a])\n",
    "for i in b:\n",
    "    print(i)\n",
    "print(b)  # b aaya usko reverse karna hai slicing kar do\n",
    "b[::-1]   # perform slicing"
   ]
  },
  {
   "cell_type": "code",
   "execution_count": 1,
   "metadata": {},
   "outputs": [
    {
     "data": {
      "text/plain": [
       "(2+0j)"
      ]
     },
     "execution_count": 1,
     "metadata": {},
     "output_type": "execute_result"
    }
   ],
   "source": [
    "a=2\n",
    "complex(a)    # thi is how to convert it into the complex"
   ]
  },
  {
   "cell_type": "code",
   "execution_count": 18,
   "metadata": {},
   "outputs": [],
   "source": [
    "import array\n",
    "a=array.array('i',[1,2,3,4])\n",
    "b=array.array(a.typecode,[b for b in a])   # idhar b mai sabh value assign ho gya,so now we can print the value"
   ]
  },
  {
   "cell_type": "code",
   "execution_count": 19,
   "metadata": {},
   "outputs": [
    {
     "name": "stdout",
     "output_type": "stream",
     "text": [
      "55737920\n",
      "55736832\n",
      "array('i', [1, 2, 3, 4])\n"
     ]
    }
   ],
   "source": [
    "print(id(a))\n",
    "print(id(b))\n",
    "\n",
    "print(b) #  the value of b we got"
   ]
  },
  {
   "cell_type": "markdown",
   "metadata": {},
   "source": [
    "# this is how to input value in the array"
   ]
  },
  {
   "cell_type": "code",
   "execution_count": 12,
   "metadata": {},
   "outputs": [
    {
     "name": "stdout",
     "output_type": "stream",
     "text": [
      "12 \n",
      "2\n",
      "1\n",
      "array('i', [12, 2, 1])\n"
     ]
    },
    {
     "data": {
      "text/plain": [
       "array('i', [1, 2, 12])"
      ]
     },
     "execution_count": 12,
     "metadata": {},
     "output_type": "execute_result"
    }
   ],
   "source": [
    "from array import array\n",
    "a=array('i',[])\n",
    "for i in range(3):\n",
    "    y=int(input())\n",
    "    a.append(y)\n",
    "print(a)\n",
    "a[::-1]  # printing reverse the array"
   ]
  },
  {
   "cell_type": "code",
   "execution_count": 1,
   "metadata": {},
   "outputs": [
    {
     "name": "stdout",
     "output_type": "stream",
     "text": [
      "array('i', [1, 2, 3, 4, 5, 6])\n"
     ]
    }
   ],
   "source": [
    "import array\n",
    "c=array.array('i',[1,2,3,4,5,6])  # \n",
    "print(c)"
   ]
  },
  {
   "cell_type": "raw",
   "metadata": {},
   "source": []
  },
  {
   "cell_type": "code",
   "execution_count": 4,
   "metadata": {},
   "outputs": [
    {
     "name": "stdout",
     "output_type": "stream",
     "text": [
      "array('i', [1, 2, 3, 4, 5, 6])\n"
     ]
    }
   ],
   "source": [
    "d=array.array(c.typecode,[d for d in c])\n",
    "print(d)"
   ]
  },
  {
   "cell_type": "markdown",
   "metadata": {},
   "source": [
    "# finding the maximum value in the array"
   ]
  },
  {
   "cell_type": "code",
   "execution_count": 7,
   "metadata": {},
   "outputs": [
    {
     "name": "stdout",
     "output_type": "stream",
     "text": [
      "the maximun value is: 234\n"
     ]
    }
   ],
   "source": [
    "import array\n",
    "a=array.array('i',[1,234,3,4,5])\n",
    "max=a[0]\n",
    "for i in range(1,len(a)):\n",
    "    if(max<a[i]):\n",
    "        max=a[i]\n",
    "    \n",
    "print(\"the maximun value is:\",+max)"
   ]
  },
  {
   "cell_type": "code",
   "execution_count": 1,
   "metadata": {},
   "outputs": [
    {
     "name": "stdout",
     "output_type": "stream",
     "text": [
      "12\n",
      "32\n",
      "43\n",
      "2\n",
      "33\n",
      "array('i', [12, 32, 43, 2, 33])\n"
     ]
    }
   ],
   "source": [
    "import array\n",
    "a=array.array('i',[])\n",
    "for i in range(5):\n",
    "    y=int(input())\n",
    "    a.append(y)\n",
    "l=a\n"
   ]
  },
  {
   "cell_type": "code",
   "execution_count": 5,
   "metadata": {},
   "outputs": [
    {
     "name": "stdout",
     "output_type": "stream",
     "text": [
      "3\n"
     ]
    }
   ],
   "source": [
    "i=a.index(2)\n",
    "print(i)"
   ]
  },
  {
   "cell_type": "code",
   "execution_count": 10,
   "metadata": {},
   "outputs": [],
   "source": [
    "# find the 2 largest value,by sorted function"
   ]
  },
  {
   "cell_type": "code",
   "execution_count": 9,
   "metadata": {},
   "outputs": [
    {
     "name": "stdout",
     "output_type": "stream",
     "text": [
      "[1, 2, 3, 3, 4, 4, 5, 5, 334]\n",
      "5\n"
     ]
    }
   ],
   "source": [
    "a=[1,2,3,4,334,5,3,4,5]\n",
    "k=sorted(a)\n",
    "print(k)\n",
    "l=len(k)-2   # length function mai length of a mileyga,a is list\n",
    "print(k[l])"
   ]
  },
  {
   "cell_type": "markdown",
   "metadata": {},
   "source": [
    "# perform sorting manually"
   ]
  },
  {
   "cell_type": "code",
   "execution_count": 13,
   "metadata": {},
   "outputs": [
    {
     "name": "stdout",
     "output_type": "stream",
     "text": [
      "[1, 2, 3, 3, 4, 4, 5, 5, 334]\n"
     ]
    }
   ],
   "source": [
    "a=[1,2,3,4,334,5,3,4,5]\n",
    "for i in range(len(a)):\n",
    "    for j in range(i+1,len(a)):\n",
    "        if(a[i]>a[j]):\n",
    "            temp=a[i]\n",
    "            a[i]=a[j]\n",
    "            a[j]=temp\n",
    "        \n",
    "        \n",
    "print(a)            "
   ]
  },
  {
   "cell_type": "code",
   "execution_count": null,
   "metadata": {},
   "outputs": [],
   "source": []
  },
  {
   "cell_type": "code",
   "execution_count": null,
   "metadata": {},
   "outputs": [],
   "source": []
  }
 ],
 "metadata": {
  "kernelspec": {
   "display_name": "Python 3",
   "language": "python",
   "name": "python3"
  },
  "language_info": {
   "codemirror_mode": {
    "name": "ipython",
    "version": 3
   },
   "file_extension": ".py",
   "mimetype": "text/x-python",
   "name": "python",
   "nbconvert_exporter": "python",
   "pygments_lexer": "ipython3",
   "version": "3.7.6"
  }
 },
 "nbformat": 4,
 "nbformat_minor": 4
}
