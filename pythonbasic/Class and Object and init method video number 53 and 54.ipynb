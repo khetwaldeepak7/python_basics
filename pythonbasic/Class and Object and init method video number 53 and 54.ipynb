{
 "cells": [
  {
   "cell_type": "code",
   "execution_count": 2,
   "metadata": {},
   "outputs": [],
   "source": [
    "# create a class:--------2 thing we can mention inside the class\n",
    "# 1 ATTRIBUTES----VARIABLES\n",
    "# 2 BEHAVIOUR------METHOD[FUNCTION]\n",
    "# 3 inside the class while defining the function,used self"
   ]
  },
  {
   "cell_type": "code",
   "execution_count": 11,
   "metadata": {},
   "outputs": [
    {
     "ename": "NameError",
     "evalue": "name 'B' is not defined",
     "output_type": "error",
     "traceback": [
      "\u001b[1;31m---------------------------------------------------------------------------\u001b[0m",
      "\u001b[1;31mNameError\u001b[0m                                 Traceback (most recent call last)",
      "\u001b[1;32m<ipython-input-11-1547888c8eca>\u001b[0m in \u001b[0;36m<module>\u001b[1;34m\u001b[0m\n\u001b[1;32m----> 1\u001b[1;33m \u001b[1;32mclass\u001b[0m \u001b[0mB\u001b[0m\u001b[1;33m:\u001b[0m\u001b[1;33m\u001b[0m\u001b[1;33m\u001b[0m\u001b[0m\n\u001b[0m\u001b[0;32m      2\u001b[0m     \u001b[0mschoolname\u001b[0m\u001b[1;33m=\u001b[0m\u001b[1;34m\"d\"\u001b[0m\u001b[1;33m\u001b[0m\u001b[1;33m\u001b[0m\u001b[0m\n\u001b[0;32m      3\u001b[0m     \u001b[1;32mdef\u001b[0m \u001b[0mm1\u001b[0m\u001b[1;33m(\u001b[0m\u001b[0mself\u001b[0m\u001b[1;33m,\u001b[0m\u001b[0mname\u001b[0m\u001b[1;33m,\u001b[0m\u001b[0mage\u001b[0m\u001b[1;33m)\u001b[0m\u001b[1;33m:\u001b[0m\u001b[1;33m\u001b[0m\u001b[1;33m\u001b[0m\u001b[0m\n\u001b[0;32m      4\u001b[0m         \u001b[1;31m##self.name=name\u001b[0m\u001b[1;33m\u001b[0m\u001b[1;33m\u001b[0m\u001b[1;33m\u001b[0m\u001b[0m\n\u001b[0;32m      5\u001b[0m        \u001b[1;31m# self.age=age\u001b[0m\u001b[1;33m\u001b[0m\u001b[1;33m\u001b[0m\u001b[1;33m\u001b[0m\u001b[0m\n",
      "\u001b[1;32m<ipython-input-11-1547888c8eca>\u001b[0m in \u001b[0;36mB\u001b[1;34m()\u001b[0m\n\u001b[0;32m      5\u001b[0m        \u001b[1;31m# self.age=age\u001b[0m\u001b[1;33m\u001b[0m\u001b[1;33m\u001b[0m\u001b[1;33m\u001b[0m\u001b[0m\n\u001b[0;32m      6\u001b[0m         \u001b[0mprint\u001b[0m\u001b[1;33m(\u001b[0m\u001b[0mname\u001b[0m\u001b[1;33m,\u001b[0m\u001b[0mage\u001b[0m\u001b[1;33m)\u001b[0m\u001b[1;33m\u001b[0m\u001b[1;33m\u001b[0m\u001b[0m\n\u001b[1;32m----> 7\u001b[1;33m     \u001b[0mprint\u001b[0m\u001b[1;33m(\u001b[0m\u001b[0mB\u001b[0m\u001b[1;33m.\u001b[0m\u001b[0mschoolname\u001b[0m\u001b[1;33m)\u001b[0m \u001b[1;31m#but first time ek baar run karna padeyga first ,pehle A ka object baneyga uske baad yeh use hoga\u001b[0m\u001b[1;33m\u001b[0m\u001b[1;33m\u001b[0m\u001b[0m\n\u001b[0m\u001b[0;32m      8\u001b[0m \u001b[0ma\u001b[0m \u001b[1;33m=\u001b[0m \u001b[0mB\u001b[0m\u001b[1;33m(\u001b[0m\u001b[1;33m)\u001b[0m  \u001b[1;31m# jaise object baneyga class ka waise andar jayega,andar dekha ki ek function define kia hai,so jabh takh function ko cal nhi kareyga,tabh takhuske andar ka bidy execute nhi hoga,eslia\u001b[0m\u001b[1;33m\u001b[0m\u001b[1;33m\u001b[0m\u001b[0m\n\u001b[0;32m      9\u001b[0m \u001b[1;31m# eslia a ke andar jayega and function ke bhar aayega,n fir dekh ki bhar toh print statemnet hai ,eslia uske baad abh print execute kareyga\u001b[0m\u001b[1;33m\u001b[0m\u001b[1;33m\u001b[0m\u001b[1;33m\u001b[0m\u001b[0m\n",
      "\u001b[1;31mNameError\u001b[0m: name 'B' is not defined"
     ]
    }
   ],
   "source": [
    "class B:\n",
    "    schoolname=\"d\"\n",
    "    def m1(self,name,age):\n",
    "        ##self.name=name\n",
    "       # self.age=age\n",
    "        print(name,age)\n",
    "    print(B.schoolname) #but first time ek baar run karna padeyga first ,pehle B ka object baneyga uske baad yeh use hoga\n",
    "a = B()  # jaise object baneyga class ka waise andar jayega,andar dekha ki ek function define kia hai,so jabh takh function ko cal nhi kareyga,tabh takhuske andar ka bidy execute nhi hoga,eslia \n",
    "# eslia a ke andar jayega and function ke bhar aayega,n fir dekh ki bhar toh print statemnet hai ,eslia uske baad abh print execute kareyga\n",
    "a.m1('deepak',24)\n"
   ]
  },
  {
   "cell_type": "code",
   "execution_count": null,
   "metadata": {},
   "outputs": [],
   "source": [
    "# above error solve hoga jabh hum,pehle B ka constructor call karenge,tabh takh B sey method jidhr call ho rha hai uskoa comment kare \n",
    "# denge,n uske baad jaise ek baar method call huwa , b ka object ban gya uske bad apun b ko call kar skahte hai"
   ]
  },
  {
   "cell_type": "code",
   "execution_count": 13,
   "metadata": {},
   "outputs": [
    {
     "name": "stdout",
     "output_type": "stream",
     "text": [
      "deepak 24\n"
     ]
    }
   ],
   "source": [
    "class B:\n",
    "    schoolname=\"d\"\n",
    "    def m1(self,name,age):\n",
    "        ##self.name=name\n",
    "       # self.age=age\n",
    "        print(name,age)\n",
    "    #print(B.schoolname) #but first time ek baar run karna padeyga first ,pehle A ka object baneyga uske baad yeh use hoga\n",
    "#----->>upar wala statement uncomment kar do\n",
    "#-----3-3-3->>>abh run hoga upar wala v,n jaise eske pehle prgm mai error aaya na idhr nhi ayega\n",
    "a = B()    # abh ek baar ojbect ban gya abh b ko call kar sakhte hia\n",
    "\n",
    "a.m1('deepak',24)\n"
   ]
  },
  {
   "cell_type": "code",
   "execution_count": 8,
   "metadata": {},
   "outputs": [],
   "source": [
    "# while describing function inside the class .self is compulsory to passed as a argument"
   ]
  },
  {
   "cell_type": "code",
   "execution_count": 25,
   "metadata": {},
   "outputs": [
    {
     "name": "stdout",
     "output_type": "stream",
     "text": [
      "jk\n"
     ]
    }
   ],
   "source": [
    "class A:\n",
    "    def m1(self):\n",
    "        print(\"jk\")\n",
    "a=A()\n",
    "a.m1()"
   ]
  },
  {
   "cell_type": "code",
   "execution_count": 26,
   "metadata": {},
   "outputs": [
    {
     "name": "stdout",
     "output_type": "stream",
     "text": [
      "not possible\n"
     ]
    }
   ],
   "source": [
    "class Computer:\n",
    "    def features(self):\n",
    "        print(\"not possible\")\n",
    "\n",
    "cm=Computer()\n",
    "Computer.features(cm)   # this is how we can also called  ,# the msin reason in the defining of function we used a self argumen\n",
    "# because function ko lagta hi ki class a object v pas kia hai"
   ]
  },
  {
   "cell_type": "code",
   "execution_count": 1,
   "metadata": {},
   "outputs": [
    {
     "name": "stdout",
     "output_type": "stream",
     "text": [
      "bye\n"
     ]
    }
   ],
   "source": [
    "class A:\n",
    "    def m1(self):\n",
    "        print(\"hi\")\n",
    "class B:\n",
    "    def m2(self,a):   #duck typing \n",
    "        a.m1\n",
    "        print(\"bye\")\n",
    "a=A()\n",
    "b=B()\n",
    "B.m2(b,a)   #------->>>>classname.methodname(refernce,argument)  this is how it work,that is why we used self,while definig the method\n",
    "        "
   ]
  },
  {
   "cell_type": "code",
   "execution_count": 27,
   "metadata": {},
   "outputs": [],
   "source": [
    "  # using special function,name __init__ "
   ]
  },
  {
   "cell_type": "code",
   "execution_count": 28,
   "metadata": {},
   "outputs": [],
   "source": [
    "# mainly we do init to initalized the variable"
   ]
  },
  {
   "cell_type": "markdown",
   "metadata": {},
   "source": [
    "# init method get called automatically, during the creation of class object"
   ]
  },
  {
   "cell_type": "code",
   "execution_count": 1,
   "metadata": {},
   "outputs": [
    {
     "name": "stdout",
     "output_type": "stream",
     "text": [
      "this will get called automatically\n",
      "hello deepak\n"
     ]
    }
   ],
   "source": [
    "class A:\n",
    "    def __init__(self):    # like in the above code i wrote,and pass a refrence varibale .as same i did\n",
    "        print(\"this will get called automatically\")\n",
    "    def m1(self):\n",
    "        print(\"hello deepak\")\n",
    "a=A()#  as we know init method will get called automatically,we dont need to call init method,because the system will call automatically\n",
    "\n",
    "\n",
    "a.m1()"
   ]
  },
  {
   "cell_type": "markdown",
   "metadata": {},
   "source": [
    "\n",
    "\n",
    "# how to pass a argument inside the method\n"
   ]
  },
  {
   "cell_type": "code",
   "execution_count": 33,
   "metadata": {},
   "outputs": [
    {
     "name": "stdout",
     "output_type": "stream",
     "text": [
      "30\n",
      "270\n"
     ]
    }
   ],
   "source": [
    "class Deepak:\n",
    "    def __init__(self,a,b):\n",
    "        c=a+b\n",
    "        print(c)\n",
    "d=Deepak(10,20)\n",
    "d1=Deepak(40,230)"
   ]
  },
  {
   "cell_type": "code",
   "execution_count": 3,
   "metadata": {},
   "outputs": [
    {
     "name": "stdout",
     "output_type": "stream",
     "text": [
      "config is : intel 4 nvidia\n",
      "config is : amd 16 amd\n"
     ]
    }
   ],
   "source": [
    "class Computer:\n",
    "    def __init__(self,cpu,ram,graphic):\n",
    "        self.cpu=cpu\n",
    "        self.ram=ram\n",
    "        self.graphic=graphic\n",
    "    def config(self):\n",
    "        print(\"config is :\",self.cpu,self.ram,self.graphic)\n",
    "c=Computer(\"intel\",4,\"nvidia\")   # this is how to intiliased a value\n",
    "c1=Computer(\"amd\",16,\"amd\")\n",
    "c.config()\n",
    "c1.config()"
   ]
  },
  {
   "cell_type": "code",
   "execution_count": 2,
   "metadata": {},
   "outputs": [
    {
     "name": "stdout",
     "output_type": "stream",
     "text": [
      "5\n"
     ]
    }
   ],
   "source": [
    "class A:\n",
    "    wheels=4\n",
    "\n",
    "    def __init__(self,m1,m2):\n",
    "        self.m1=m1\n",
    "        self.m2=m2\n",
    "        #print(m1)\n",
    "    def m(cls):\n",
    "        print(self.m1,self.m2)\n",
    "a=A(10,20)\n",
    "#print.m()\n",
    "a.wheels=5\n",
    "\n",
    "print(a.wheels)\n"
   ]
  },
  {
   "cell_type": "code",
   "execution_count": null,
   "metadata": {},
   "outputs": [],
   "source": []
  },
  {
   "cell_type": "code",
   "execution_count": 16,
   "metadata": {},
   "outputs": [
    {
     "name": "stdout",
     "output_type": "stream",
     "text": [
      "100\n",
      "10\n",
      "10\n"
     ]
    }
   ],
   "source": [
    "class A:\n",
    "    mac=100\n",
    "    def m1(self):\n",
    "        global k\n",
    "        k=10\n",
    "        print(k)\n",
    "a=A()\n",
    "print(a.mac) # this is how to use the class variable .with the classs name\n",
    "a.m1()\n",
    "print(k)"
   ]
  },
  {
   "cell_type": "code",
   "execution_count": 2,
   "metadata": {},
   "outputs": [
    {
     "name": "stdout",
     "output_type": "stream",
     "text": [
      "10\n",
      "10\n"
     ]
    }
   ],
   "source": [
    "def m1():\n",
    "    global a\n",
    "    a=10\n",
    "    print(a)\n",
    "m1()\n",
    "print(a)"
   ]
  },
  {
   "cell_type": "code",
   "execution_count": 14,
   "metadata": {},
   "outputs": [
    {
     "name": "stdout",
     "output_type": "stream",
     "text": [
      "hello\n",
      "deepak 23\n",
      "10\n"
     ]
    }
   ],
   "source": [
    "k=10   # variable is outside the class so direct we can access that varibale\n",
    "class A:\n",
    "#    k=10         # yeh variable inside the class hai,so to acces this varibale we required the name of class(.)variable name\n",
    "    def __init__(self):\n",
    "        print(\"hello\")\n",
    "    def m1(self,name,age):\n",
    "        self.name=name\n",
    "        self.age=age\n",
    "        \n",
    "    def show(self):\n",
    "        print(self.name,self.age)\n",
    "    \n",
    "a=A()    \n",
    "A.m1(a,\"deepak\",23)\n",
    "a.show()\n",
    "print(k)"
   ]
  },
  {
   "cell_type": "code",
   "execution_count": null,
   "metadata": {},
   "outputs": [],
   "source": []
  }
 ],
 "metadata": {
  "kernelspec": {
   "display_name": "Python 3",
   "language": "python",
   "name": "python3"
  },
  "language_info": {
   "codemirror_mode": {
    "name": "ipython",
    "version": 3
   },
   "file_extension": ".py",
   "mimetype": "text/x-python",
   "name": "python",
   "nbconvert_exporter": "python",
   "pygments_lexer": "ipython3",
   "version": "3.7.6"
  }
 },
 "nbformat": 4,
 "nbformat_minor": 4
}
