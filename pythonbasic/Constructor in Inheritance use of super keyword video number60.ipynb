{
 "cells": [
  {
   "cell_type": "code",
   "execution_count": 1,
   "metadata": {},
   "outputs": [],
   "source": [
    "# super keyword is only used when we have a inheritace any  class \n",
    "\n",
    "# jabh parent class hoga na d child class hoga\n",
    "\n",
    "# with the help of super  keyword we can acces all the method of super clas\n",
    "\n",
    "# or in other word if can call all the method of super class"
   ]
  },
  {
   "cell_type": "code",
   "execution_count": 2,
   "metadata": {},
   "outputs": [],
   "source": [
    "# suppose we have two class,n as we know the init method will be there by default inside the both the class "
   ]
  },
  {
   "cell_type": "code",
   "execution_count": 1,
   "metadata": {},
   "outputs": [
    {
     "name": "stdout",
     "output_type": "stream",
     "text": [
      "10\n"
     ]
    }
   ],
   "source": [
    "# how to acces the global varibale inside the function\n",
    "class A:\n",
    "    m=10      #we can acces the global variale inside the local method\n",
    "    def m1(self):\n",
    "        print(self.m)\n",
    "\n",
    "a=A()\n",
    "\n",
    "a.m1()      "
   ]
  },
  {
   "cell_type": "markdown",
   "metadata": {},
   "source": [
    "# use of super keyword"
   ]
  },
  {
   "cell_type": "code",
   "execution_count": 2,
   "metadata": {},
   "outputs": [
    {
     "name": "stdout",
     "output_type": "stream",
     "text": [
      "this is the child clas\n",
      "self.m2\n",
      "self.m1\n"
     ]
    }
   ],
   "source": [
    "class A:\n",
    "    def __init__(self):\n",
    "        print(\"this is the parent clas\")\n",
    "    def m1(self):\n",
    "        print(\"self.m1\")\n",
    "class B(A):\n",
    "    def __init__(self):\n",
    "        #super().__init__()\n",
    "        print(\"this is the child clas\")\n",
    "    def m1(self):\n",
    "        print(\"self.m2\")\n",
    "        super().m1()\n",
    "\n",
    "# as we know ki b child class hai ,so uske andar sabh parent class ka method aa jayega,but problem\n",
    "# donu class mai init method hai ,so jabh b ka constructor bnayega toh b ka init method call hoga na ,nice mai dekho\n",
    " \n",
    "\n",
    "b=B()   # jaise maine b ka constructor bnaya ,so b ka init mehtod call huwa\n",
    "b.m1()\n"
   ]
  },
  {
   "cell_type": "markdown",
   "metadata": {},
   "source": [
    "# why to used super keyword\n",
    "# if we want to acces any super class method ,that time we can used super keyword"
   ]
  },
  {
   "cell_type": "code",
   "execution_count": 1,
   "metadata": {},
   "outputs": [
    {
     "name": "stdout",
     "output_type": "stream",
     "text": [
      "this is the parent clas\n",
      "this is the child clas\n",
      "self.m1\n"
     ]
    }
   ],
   "source": [
    "# but agar mujhko init method of A chahiyeh so\n",
    "# at that time we will used the super keyword\n",
    "\n",
    "class A:\n",
    "    def __init__(self):\n",
    "        print(\"this is the parent clas\")\n",
    "    def m1(self):\n",
    "        print(\"self.m1\")\n",
    "        \n",
    "class B(A):\n",
    "    def __init__(self):\n",
    "        super().__init__()  # eska matlabki B ka jo super class hai uska  init method call karo\n",
    "       \n",
    "    # so first init ke andar aateh hi super ke init ko cal kia n uske andar ka body executed huwa.uska e\n",
    "    #execute hone ke baad child class ka init method mai aayega\n",
    "    \n",
    "        print(\"this is the child clas\")\n",
    "        \n",
    "        \n",
    "    def m2(self):\n",
    "        print(\"self.m2\")\n",
    "\n",
    "\n",
    "b=B()   # jaise maine b ka constructor bnaya ,so b ka init mehtod call huwa ,so b ke init method mai andar jayega,n and starting mai andar gusteh hi usko superclass wala kaam ayega\n",
    "\n",
    "b.m1()"
   ]
  },
  {
   "cell_type": "markdown",
   "metadata": {},
   "source": [
    "## mro  is stand for method resolution order,,esmai left side ko jada priority di jati hai\n",
    "# for example niche ley lo,Cney A and B donu ko inheritage kia\n",
    "# jabh mai super sey init ya koe v method bulaunga C mai sey toh wah A ka method hi cll kareyga,bec A left side mai hai"
   ]
  },
  {
   "cell_type": "code",
   "execution_count": 11,
   "metadata": {},
   "outputs": [],
   "source": [
    "# suppose we have multiple inheritance\n",
    "# as we know the concept of multiple inheritance\n",
    "# esmai a b,do class hoga n c wil inhertiage these borh class"
   ]
  },
  {
   "cell_type": "code",
   "execution_count": 2,
   "metadata": {},
   "outputs": [
    {
     "name": "stdout",
     "output_type": "stream",
     "text": [
      "this is the parent clas\n",
      "this is the super-child clas\n",
      "self.m2\n",
      "self.m3\n"
     ]
    }
   ],
   "source": [
    "class A:\n",
    "    def __init__(self):\n",
    "        print(\"this is the parent clas\")   # first yeh print hoga\n",
    "    def m1(self):\n",
    "        print(\"self.m1\")\n",
    "class B():\n",
    "    def __init__(self):\n",
    "        print(\"this is the child clas\")\n",
    "    def m2(self):\n",
    "        print(\"self.m2\")   # than yeh execute hoga\n",
    "class C(A,B):\n",
    "    def __init__(self):\n",
    "        super().__init__()  # pehla yeh execute hoga\n",
    "        print(\"this is the super-child clas\")\n",
    "      #  super().__init__()  \n",
    "    def m2(self):\n",
    "        super().m2()   # anothr super class example\n",
    "        print(\"self.m3\")\n",
    "c=C()# tune c ka constructor cll kia toh direct c ke andar gya ,but usphel mujhko super class ka init print karna hai\n",
    "# so dekho as per rule left mai A hai toh a ka init method cal hoga\n",
    "c.m2()"
   ]
  },
  {
   "cell_type": "markdown",
   "metadata": {},
   "source": [
    "# agar class ke khud ke pass wah method nhi hai toh wah parents class ke method ko use kareyga\n"
   ]
  },
  {
   "cell_type": "code",
   "execution_count": 3,
   "metadata": {},
   "outputs": [
    {
     "name": "stdout",
     "output_type": "stream",
     "text": [
      "this is the parent clas\n"
     ]
    }
   ],
   "source": [
    "class A:\n",
    "    def __init__(self):\n",
    "        print(\"this is the parent clas\")\n",
    "    def m1(self):\n",
    "        print(\"self.m1\")\n",
    "class B(A):\n",
    "    #def __init__(self):\n",
    "        #super().__init__()\n",
    "        #print(\"this is the child clas\")\n",
    "    def m1(self):\n",
    "        print(\"self.m2\")\n",
    "\n",
    "#agar khud ke pass init method nhi hai toh parent ke method ko cal kareta hai\n",
    "\n",
    "b=B()   # jaise maine b ka constructor bnaya ,so b ka init mehtod call huwabut b mai init method nhi tha ,eslia usne a ke init method ko cal ,kia\n"
   ]
  },
  {
   "cell_type": "code",
   "execution_count": 5,
   "metadata": {},
   "outputs": [
    {
     "name": "stdout",
     "output_type": "stream",
     "text": [
      "hello\n",
      "30\n"
     ]
    }
   ],
   "source": [
    "class A:\n",
    "    def m1(self):\n",
    "        a=10\n",
    "        b=20\n",
    "        print(a+b)\n",
    "class B(A):\n",
    "    def __init__(self):\n",
    "        print(\"hello\")\n",
    "        #super().m1()\n",
    "b=B()\n",
    "b.m1()\n",
    "        \n",
    "    "
   ]
  },
  {
   "cell_type": "code",
   "execution_count": 5,
   "metadata": {},
   "outputs": [
    {
     "name": "stdout",
     "output_type": "stream",
     "text": [
      "heelo\n",
      "bye\n"
     ]
    },
    {
     "data": {
      "text/plain": [
       "<__main__.B at 0x3987f10>"
      ]
     },
     "execution_count": 5,
     "metadata": {},
     "output_type": "execute_result"
    }
   ],
   "source": [
    "class A:\n",
    "    print(\"heelo\")\n",
    "class B(A):\n",
    "    print(\"bye\")\n",
    "B()"
   ]
  },
  {
   "cell_type": "code",
   "execution_count": null,
   "metadata": {},
   "outputs": [],
   "source": []
  }
 ],
 "metadata": {
  "kernelspec": {
   "display_name": "Python 3",
   "language": "python",
   "name": "python3"
  },
  "language_info": {
   "codemirror_mode": {
    "name": "ipython",
    "version": 3
   },
   "file_extension": ".py",
   "mimetype": "text/x-python",
   "name": "python",
   "nbconvert_exporter": "python",
   "pygments_lexer": "ipython3",
   "version": "3.7.6"
  }
 },
 "nbformat": 4,
 "nbformat_minor": 4
}
