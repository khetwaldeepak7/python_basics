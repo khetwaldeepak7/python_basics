{
 "cells": [
  {
   "cell_type": "code",
   "execution_count": 9,
   "metadata": {},
   "outputs": [
    {
     "name": "stdout",
     "output_type": "stream",
     "text": [
      "hello\n",
      "bye\n"
     ]
    }
   ],
   "source": [
    "if True:# true is used when the condition will be true\n",
    "  print (\"hello\")\n",
    "print(\"bye\")"
   ]
  },
  {
   "cell_type": "code",
   "execution_count": 21,
   "metadata": {},
   "outputs": [
    {
     "name": "stdout",
     "output_type": "stream",
     "text": [
      "enter the number8\n",
      "even\n"
     ]
    }
   ],
   "source": [
    "#even or odd\n",
    "a=int(input(\"enter the number\"))\n",
    "r=a%2\n",
    "if (r==0):\n",
    "    print (\"even\") \n",
    "if(r==1):\n",
    "    print(\"odd\")"
   ]
  },
  {
   "cell_type": "code",
   "execution_count": 24,
   "metadata": {},
   "outputs": [
    {
     "name": "stdout",
     "output_type": "stream",
     "text": [
      "enter the number10\n",
      "even\n"
     ]
    }
   ],
   "source": [
    "#using of else block\n",
    "a=int(input(\"enter the number\"))\n",
    "r=a%2\n",
    "if (r==0):\n",
    "    print (\"even\") \n",
    "else:\n",
    "    print(\"odd\")"
   ]
  },
  {
   "cell_type": "code",
   "execution_count": 28,
   "metadata": {},
   "outputs": [
    {
     "name": "stdout",
     "output_type": "stream",
     "text": [
      "enter the namedee\n",
      "yes\n"
     ]
    }
   ],
   "source": [
    "name=input(\"enter the name\")\n",
    "if(name==\"dee\"):# if this condition will be true than it wil be move to another if block otherwise the loop will be terminated\n",
    "    print(\"yes\")\n",
    "    if(name==\"khetwal\"):\n",
    "        print(\"yes\")\n",
    "else:\n",
    "    print(\"wrong\")\n"
   ]
  },
  {
   "cell_type": "code",
   "execution_count": 43,
   "metadata": {},
   "outputs": [
    {
     "data": {
      "text/plain": [
       "[0, 1, 2, 6, 7, 8, 9, 10, 11, 12, 13, 14, 15, 16, 17, 18, 19]"
      ]
     },
     "execution_count": 43,
     "metadata": {},
     "output_type": "execute_result"
    }
   ],
   "source": [
    "range(10)\n",
    "a=list(range(20))\n",
    "#a.insert(3,100)# it is used to insert value on bases of index number\n",
    "del a[3:6]# it will delete the value starting from index 3 to 6-1\n",
    "a\n"
   ]
  },
  {
   "cell_type": "code",
   "execution_count": 46,
   "metadata": {},
   "outputs": [
    {
     "name": "stdout",
     "output_type": "stream",
     "text": [
      "enter the 1 value4\n",
      "enter the 2 value5\n",
      "enter the 3 value1\n",
      "greatest value is 2\n"
     ]
    }
   ],
   "source": [
    "#finding the greatest number\n",
    "a=int(input(\"enter the 1 value\"))\n",
    "b=int(input(\"enter the 2 value\"))\n",
    "c=int(input(\"enter the 3 value\"))\n",
    "if(a>b & a>c):\n",
    "    print(\"greatest value is 1\")\n",
    "elif(b>a & b>c):\n",
    "    print(\"greatest value is 2\")\n",
    "else:\n",
    "    print(\"3\")"
   ]
  },
  {
   "cell_type": "code",
   "execution_count": null,
   "metadata": {},
   "outputs": [],
   "source": []
  }
 ],
 "metadata": {
  "kernelspec": {
   "display_name": "Python 3",
   "language": "python",
   "name": "python3"
  },
  "language_info": {
   "codemirror_mode": {
    "name": "ipython",
    "version": 3
   },
   "file_extension": ".py",
   "mimetype": "text/x-python",
   "name": "python",
   "nbconvert_exporter": "python",
   "pygments_lexer": "ipython3",
   "version": "3.7.4"
  }
 },
 "nbformat": 4,
 "nbformat_minor": 2
}
