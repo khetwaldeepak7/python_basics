{
 "cells": [
  {
   "cell_type": "code",
   "execution_count": 4,
   "metadata": {},
   "outputs": [],
   "source": [
    "import mysql.connector    #this module is used to import the sql connector\n",
    "db=mysql.connector.connect(user=\"root\",passwd=\"Intelli$123\")    \n",
    "# root is the user  inside which we have created our database and table \n",
    "# user=root because the root name was created at the starting of the sql, and the root \n",
    "# while creating the sql i used root as a name in which i had created  Data base"
   ]
  },
  {
   "cell_type": "code",
   "execution_count": 6,
   "metadata": {},
   "outputs": [],
   "source": [
    "# in the above code we have enter n made a connection with database\n",
    "# there is a method cursor . which is used to point to the database ,\n",
    "# we can image the cursor to the pointer which is used to point to the paticular location"
   ]
  },
  {
   "cell_type": "code",
   "execution_count": 5,
   "metadata": {},
   "outputs": [
    {
     "name": "stdout",
     "output_type": "stream",
     "text": [
      "<class 'mysql.connector.cursor.MySQLCursor'>\n"
     ]
    }
   ],
   "source": [
    "# now we have enter in the database , now we have to used cursor method to point toward a  paticular database\n",
    "import mysql.connector    #this module is used to import the sql connector\n",
    "db=mysql.connector.connect(user=\"root\",passwd=\"Intelli$123\") \n",
    "mycursor=db.cursor()  # here we have called a cursor method .\n",
    "mycursor.execute(\"show databases\")       #execute is a method inside which we will fire all query\n",
    "# now if we have to print all database than we wil used query, show database"
   ]
  },
  {
   "cell_type": "code",
   "execution_count": 9,
   "metadata": {},
   "outputs": [],
   "source": [
    "# using execute method we have fire the query , show database\n",
    "# all the data are stored in the mycursor variable ,now we have to print the data one by one,because mycursor variable is type of box,in which all data is stored, so to fetch data one by one\n",
    "# we wil used for loop"
   ]
  },
  {
   "cell_type": "code",
   "execution_count": 10,
   "metadata": {},
   "outputs": [
    {
     "name": "stdout",
     "output_type": "stream",
     "text": [
      "(u'deepak',)\n",
      "(u'hello',)\n",
      "(u'information_schema',)\n",
      "(u'mysql',)\n",
      "(u'performance_schema',)\n",
      "(u'sys',)\n"
     ]
    }
   ],
   "source": [
    "for i in mycursor:\n",
    "    print(i)"
   ]
  },
  {
   "cell_type": "code",
   "execution_count": 11,
   "metadata": {},
   "outputs": [],
   "source": [
    "# in the abive code we have made a connection with database in python\n",
    "# now i will fetch a data from database"
   ]
  },
  {
   "cell_type": "code",
   "execution_count": 27,
   "metadata": {},
   "outputs": [
    {
     "name": "stdout",
     "output_type": "stream",
     "text": [
      "(1, u'priyanka', u'mira road')\n",
      "(2, u'deepak', u'nalasopara')\n",
      "(3, u'prapunj', u'virar')\n"
     ]
    }
   ],
   "source": [
    "# to fetch data from a paticular database\n",
    "import mysql.connector;\n",
    "#now we have to make a connection with database, so we will used the name of database\n",
    "database=mysql.connector.connect(user=\"root\",passwd=\"Intelli$123\",database=\"deepak\") # inside the mysql.connectore there is method with connect,, # in this extra we have to mention the name of database\n",
    "mycursor=database.cursor()   # with the help to cursor we will point to the paticular  data\n",
    "mycursor.execute(\"select * from deepak\")    # execute is the method which is used to execute or fire the query\n",
    "for i in mycursor:\n",
    "   # print(type(i))\n",
    "    print(i)\n"
   ]
  },
  {
   "cell_type": "code",
   "execution_count": 26,
   "metadata": {},
   "outputs": [
    {
     "name": "stdout",
     "output_type": "stream",
     "text": [
      "(1, u'priyanka', u'mira road')\n",
      "(2, u'deepak', u'nalasopara')\n",
      "(3, u'prapunj', u'virar')\n"
     ]
    }
   ],
   "source": [
    "# if we  want to fetch data n stored in other variable than we wil used fetch\n",
    "import mysql.connector     # \n",
    "variable=mysql.connector.connect(user=\"root\",passwd=\"Intelli$123\",database=\"deepak\")  #here we will make a connection\n",
    "mycursor=variable.cursor()     #now we will used cursor to point to the database, variable is the name i used while making the connection\n",
    "mycursor.execute(\"select * from deepak\")  #with the help of cursor we will used execute method and query\n",
    "result=mycursor.fetchall()    # to store in the a data\n",
    "for i in result:\n",
    "    print(i)\n"
   ]
  },
  {
   "cell_type": "code",
   "execution_count": 28,
   "metadata": {},
   "outputs": [],
   "source": [
    "# we want to fetch only one data than we can used fetchone method\n"
   ]
  },
  {
   "cell_type": "code",
   "execution_count": 29,
   "metadata": {},
   "outputs": [
    {
     "name": "stdout",
     "output_type": "stream",
     "text": [
      "1\n",
      "priyanka\n",
      "mira road\n"
     ]
    }
   ],
   "source": [
    "import mysql.connector     # \n",
    "variable=mysql.connector.connect(user=\"root\",passwd=\"Intelli$123\",database=\"deepak\")  #here we will make a connection\n",
    "mycursor=variable.cursor()     #now we will used cursor to point to the database, variable is the name i used while making the connection\n",
    "mycursor.execute(\"select * from deepak\")  #with the help of cursor we will used execute method and query\n",
    "result=mycursor.fetchone()    # to store in the a data\n",
    "for i in result:\n",
    "    print(i)\n"
   ]
  },
  {
   "cell_type": "code",
   "execution_count": 30,
   "metadata": {},
   "outputs": [],
   "source": [
    "# using alias we can subsitued the mysql.connector"
   ]
  },
  {
   "cell_type": "code",
   "execution_count": 13,
   "metadata": {},
   "outputs": [
    {
     "name": "stdout",
     "output_type": "stream",
     "text": [
      "(1, u'priyanka', u'mira road')\n",
      "(3, u'prapunj', u'virar')\n",
      "(2, u'deepak', u'nalasopara')\n"
     ]
    }
   ],
   "source": [
    "import mysql.connector as ms;\n",
    "#now we have to make a connection with database, so we will used the name of database\n",
    "database=ms.connect(user=\"root\",passwd=\"Intelli$123\",database=\"deepak\") # inside the mysql.connectore there is method with connect,, # in this extra we have to mention the name of database\n",
    "mycursor=database.cursor()   # with the help to cursor we will point to the paticular  data\n",
    "mycursor.execute(\"select * from deepak order by name desc\")    # execute is the method which is used to execute or fire the query\n",
    "#myresult = mycursor.fetchall()\n",
    "for i in mycursor:\n",
    "   # print(type(i))\n",
    "    print(i)\n"
   ]
  },
  {
   "cell_type": "code",
   "execution_count": 2,
   "metadata": {},
   "outputs": [
    {
     "data": {
      "text/plain": [
       "<mysql.connector.connection.MySQLConnection at 0x7fd1c416bed0>"
      ]
     },
     "execution_count": 2,
     "metadata": {},
     "output_type": "execute_result"
    }
   ],
   "source": [
    "import mysql.connector\n",
    "mysql.connector.connect(user=\"root\",passwd=\"Intelli$123\",database='hello')"
   ]
  },
  {
   "cell_type": "code",
   "execution_count": null,
   "metadata": {},
   "outputs": [],
   "source": []
  },
  {
   "cell_type": "code",
   "execution_count": 14,
   "metadata": {},
   "outputs": [
    {
     "name": "stdout",
     "output_type": "stream",
     "text": [
      "(1, u'priyanka', u'mira road')\n"
     ]
    }
   ],
   "source": [
    "import mysql.connector as ms;\n",
    "#now we have to make a connection with database, so we will used the name of database\n",
    "database=ms.connect(user=\"root\",passwd=\"Intelli$123\",database=\"deepak\") # inside the mysql.connectore there is method with connect,, # in this extra we have to mention the name of database\n",
    "mycursor=database.cursor()   # with the help to cursor we will point to the paticular  data\n",
    "sql = \"select * from deepak\"\n",
    "mycursor.execute(sql)    # execute is the method which is used to execute or fire the query\n",
    "#myresult = mycursor.fetchall()\n",
    "#database.commit()\n",
    "#print(mycursor.rowcount, \"record(s) deleted\")\n",
    "for i in mycursor:\n",
    "   # print(type(i))\n",
    "    print(i)"
   ]
  }
 ],
 "metadata": {
  "kernelspec": {
   "display_name": "Python 2",
   "language": "python",
   "name": "python2"
  },
  "language_info": {
   "codemirror_mode": {
    "name": "ipython",
    "version": 2
   },
   "file_extension": ".py",
   "mimetype": "text/x-python",
   "name": "python",
   "nbconvert_exporter": "python",
   "pygments_lexer": "ipython2",
   "version": "2.7.15"
  }
 },
 "nbformat": 4,
 "nbformat_minor": 2
}
