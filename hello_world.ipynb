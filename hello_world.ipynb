{
 "cells": [
  {
   "cell_type": "code",
   "execution_count": null,
   "metadata": {},
   "outputs": [],
   "source": [
    "print ('hello world')"
   ]
  },
  {
   "cell_type": "code",
   "execution_count": 13,
   "metadata": {},
   "outputs": [
    {
     "name": "stdout",
     "output_type": "stream",
     "text": [
      "[[10], [10, 'deepak', 20.4]]\n"
     ]
    }
   ],
   "source": [
    "a=[10,20,30,40,50,50]\n",
    "b=[10,'deepak',20.4]\n",
    "c=[a,b]#merging two array\n",
    "#print(c)\n",
    "#a.insert(2,10)#in this we have to mention the index number and the value\n",
    "#b.remove(10)# it will remove the value\n",
    "#a.pop(3)\n",
    "# a.extend([100,200]) it is used to add multiple value\n",
    "#print (len (a))\n",
    "#to delete the multiple value on the bases of index\n",
    "del a[1:]\n",
    "print(c)\n",
    "\n",
    "\n"
   ]
  },
  {
   "cell_type": "code",
   "execution_count": null,
   "metadata": {},
   "outputs": [],
   "source": []
  }
 ],
 "metadata": {
  "kernelspec": {
   "display_name": "Python 3",
   "language": "python",
   "name": "python3"
  },
  "language_info": {
   "codemirror_mode": {
    "name": "ipython",
    "version": 3
   },
   "file_extension": ".py",
   "mimetype": "text/x-python",
   "name": "python",
   "nbconvert_exporter": "python",
   "pygments_lexer": "ipython3",
   "version": "3.7.4"
  }
 },
 "nbformat": 4,
 "nbformat_minor": 2
}
