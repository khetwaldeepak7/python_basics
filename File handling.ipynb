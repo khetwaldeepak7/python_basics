{
 "cells": [
  {
   "cell_type": "code",
   "execution_count": 1,
   "metadata": {},
   "outputs": [
    {
     "name": "stdout",
     "output_type": "stream",
     "text": [
      "<_io.TextIOWrapper name='aa.txt' mode='r' encoding='UTF-8'>\n"
     ]
    }
   ],
   "source": [
    " d=open('aa.txt','r')\n",
    "print(d)   #it showing that file name aa.txt is wrapped in d"
   ]
  },
  {
   "cell_type": "code",
   "execution_count": 2,
   "metadata": {},
   "outputs": [
    {
     "name": "stdout",
     "output_type": "stream",
     "text": [
      "allen + roth® Home Décor\n",
      "Armstrong Flooring\n",
      "American Standard\n",
      "Ariens Outdoor Power Equipment\n",
      "American Olean Tile\n",
      "A. O. Smith Water Heaters &amp; Water Treatment\n",
      "Amana\n",
      "Briggs &amp; Stratton\n",
      "BernzOmatic: Torches, Kits &amp; More\n",
      "Bona\n",
      "Bosch Power Tools\n",
      "BLACK+DECKER Tools and Outdoor Equipment\n",
      "BISSELL at Lowe's\n",
      "Belgard\n",
      "Big Ass Fans\t\n",
      "Bosch Appliances\n",
      "BROIL KING\n",
      "Brainerd\n",
      "BLUE RHINO\n",
      "Bostitch\n",
      "Bounty at Lowe's: Paper Towels, Napkins and More\n",
      "ClosetMaid\n",
      "Clorox®\n",
      "CRAFTSMAN\n",
      "Coleman\n",
      "Cat Portable Generators\n",
      "Char-Broil\n",
      "Cabot Stain &amp; Sealer\n",
      "Chamberlain Garage Door Openers &amp; Accessories\n",
      "Clorox<sup>®</sup> Pool&amp;Spa<sup>™</sup>\n",
      "Café Appliances\n",
      "Charmin Toilet Paper at Lowe's: Ultra Soft, Mega Roll &amp; More\n",
      "Deckorators\n",
      "DreamLine Shower Doors &amp; Bathtub Doors\n",
      "Diamond at Lowe's\n",
      "Delta Kitchen &amp; Bathroom Faucets\n",
      "Dremel\n",
      "Dyson\n",
      "DEWALT Tools &amp; Outdoor Power Equipment\n",
      "Dow GREAT STUFF\n",
      "Energizer Batteries\n",
      "Electrolux Appliances\n",
      "Frigidaire\n",
      "Filtrete Air Filters\n",
      "Fanimation\n",
      "Freedom Outdoor Living\n",
      "Formica Brand Laminate Countertops\n",
      "Febreze Air Freshener\n",
      "GE Appliances\n",
      "GROHE\n",
      "Generac\n",
      "Greenworks Outdoor Power Equipment\n",
      "Gladiator GarageWorks\n",
      "GE Lighting\n",
      "Google Home\n",
      "Hustler Turf at Lowe's\n",
      "Haier\n",
      "Hunter Fans at Lowe's: Ceiling Fans, Fan Parts &amp; More\n",
      "Husqvarna\n",
      "Hitachi\n",
      "HGTV HOME™ by Sherwin-Williams\n",
      "Honeywell Wi-Fi Thermostats, Air Purifiers and More at Lowe's\n",
      "InSinkErator\n",
      "iRobot Vacuums\n",
      "Iris\n",
      "IRWIN: Vise Grips, Pliers, Drill Bits and More\n",
      "JELD-WEN Windows &amp; Doors\n",
      "John Deere at Lowe's\n",
      "Jacuzzi<sup>®</sup>\n",
      "Johns Manville Roofing &amp; Insulation\n",
      "Kreg\n",
      "KraftMaid at Lowe's\n",
      "KitchenAid\n",
      "Kobalt®\n",
      "Kichler\n",
      "KOHLER Kitchen &amp; Bathroom\n",
      "Krylon Spray Paint\n",
      "Kwikset\n",
      "Leatherman\n",
      "LARSON Doors &amp; Windows\n",
      "Legrand\n",
      "LEVOLOR Window Treatments\n",
      "LG Appliances\n",
      "LP® SmartSide® Trim &amp; Siding\n",
      "Lithonia Lighting\n",
      "Lutron: Dimmers, Switches &amp; More\n",
      "Little Giant Ladder Systems\n",
      "LENOX Tools &amp; Accessories\n",
      "Maytag Appliances\n",
      "Monrovia Plants\n",
      "Moen\n",
      "Minwax®\n",
      "Mohawk\n",
      "Metabo HPT\n",
      "Nest: Thermostats, Cameras, Smoke Detectors &amp; More\n",
      "NewAge Products\n",
      "OVE Decors\n",
      "Olympic Paint &amp; Stain\n",
      "Owens Corning<sup>®</sup>\n",
      "Oxygenics Shower Heads\n",
      "Peerless Faucets\n",
      "Pergo® Flooring\n",
      "Purdy\n",
      "Progress Lighting\n",
      "Pfister Faucets &amp; Parts\n",
      "Pella Windows &amp; Doors\n",
      "PORTER CABLE Tools &amp; Accessories\n",
      "Quoizel Lighting \n",
      "RotoZip\n",
      "Rubbermaid Storage at Lowe's\n",
      "Rust-Oleum\n",
      "Root Farm Hydroponic Gardening Supplies at Lowe's\t\n",
      "ReliaBilt Doors &amp; Windows\n",
      "Ring Doorbells &amp; Home Security\n",
      "ROCKWOOL\n",
      "Resolve at Lowe's: Carpet Cleaners, Stain Removers &amp; More\n",
      "Swiffer\n",
      "Sunbrella Fabric, Patio Furniture &amp; Accessories \n",
      "Sta-Green\n",
      "Schuler Cabinetry\n",
      "Shenandoah Cabinetry\n",
      "Sterling: a KOHLER Company\n",
      "SYLVANIA Lighting\t\n",
      "Shark Vacuums &amp; Floor Cleaners\n",
      "Safavieh Home Furnishings\n",
      "Samsung Appliances &amp; Smart Home\n",
      "STAINMASTER<sup>®</sup> at Lowe's\n",
      "Scotts Lawn Care\n",
      "Schlage\n",
      "Samsung SmartThings ADT\n",
      "Samsung Connected Appliances\n",
      "Samsung SmartThings\n",
      "Shop SMARTCORE Flooring at Lowes.com\n",
      "Trex Decking\n",
      "Thermacell\n",
      "TIKI Torches &amp; Fuel\n",
      "Tide Detergent\n",
      "The Mine\n",
      "Therma-Tru Doors\n",
      "Troy-Bilt at Lowe's\n",
      "TOTO Toilets at Lowe's \n",
      "Thompson's WaterSeal\n",
      "Treated Lumber at Lowe's\n",
      "VILLA BATH\n",
      "Valspar\n",
      "WORX Outdoor Power Equipment\n",
      "Whirlpool Appliances\n",
      "Whirlpool Washers and Dryers\n",
      "Whirlpool Refrigerators \n",
      "Weber Grills\n",
      "Wagner: Paint Sprayers &amp; More\n",
      "Wilsonart at Lowe's\n",
      "YETI\n",
      "\n"
     ]
    }
   ],
   "source": [
    " d=open('aa.txt','r')   # the file should be present in the sme directory\n",
    "print(d.read())   #when we call read it wil print ful file "
   ]
  },
  {
   "cell_type": "code",
   "execution_count": 3,
   "metadata": {},
   "outputs": [
    {
     "ename": "FileNotFoundError",
     "evalue": "[Errno 2] No such file or directory: 'hel'",
     "output_type": "error",
     "traceback": [
      "\u001b[0;31m---------------------------------------------------------------------------\u001b[0m",
      "\u001b[0;31mFileNotFoundError\u001b[0m                         Traceback (most recent call last)",
      "\u001b[0;32m<ipython-input-3-4b9a8b45e4a3>\u001b[0m in \u001b[0;36m<module>\u001b[0;34m\u001b[0m\n\u001b[0;32m----> 1\u001b[0;31m \u001b[0mk\u001b[0m\u001b[0;34m=\u001b[0m\u001b[0mopen\u001b[0m\u001b[0;34m(\u001b[0m\u001b[0;34m'hel'\u001b[0m\u001b[0;34m,\u001b[0m\u001b[0;34m'r'\u001b[0m\u001b[0;34m)\u001b[0m\u001b[0;34m\u001b[0m\u001b[0;34m\u001b[0m\u001b[0m\n\u001b[0m\u001b[1;32m      2\u001b[0m \u001b[0mprint\u001b[0m\u001b[0;34m(\u001b[0m\u001b[0mk\u001b[0m\u001b[0;34m)\u001b[0m\u001b[0;34m\u001b[0m\u001b[0;34m\u001b[0m\u001b[0m\n",
      "\u001b[0;31mFileNotFoundError\u001b[0m: [Errno 2] No such file or directory: 'hel'"
     ]
    }
   ],
   "source": [
    "k=open('hel','r')\n",
    "print(k)"
   ]
  },
  {
   "cell_type": "code",
   "execution_count": 66,
   "metadata": {},
   "outputs": [],
   "source": [
    " d=open('aa.txt','r')                   # r is used to read the data  # it will read from aa.txt to n copy in the d\n",
    "#print(d.readline())                    #readline wil only print the first line"
   ]
  },
  {
   "cell_type": "code",
   "execution_count": 5,
   "metadata": {},
   "outputs": [],
   "source": [
    "# when we want to write any thing that time we wil use write,\n",
    "# if the name of file which we have created is not there than the file wil be create"
   ]
  },
  {
   "cell_type": "code",
   "execution_count": 38,
   "metadata": {},
   "outputs": [
    {
     "data": {
      "text/plain": [
       "13"
      ]
     },
     "execution_count": 38,
     "metadata": {},
     "output_type": "execute_result"
    }
   ],
   "source": [
    "l=open('yahoo','w')\n",
    "l.write(\"this is the method which is used to write inside the file,\\n\")\n",
    "l.write(\"another way,\\n\")#  by using the write command we can write the statement inside the file which we have named the yahoo\n",
    "# by usning \"w\" we wil write it but the data wil be not append\n",
    "# so to append the file we have to used the append "
   ]
  },
  {
   "cell_type": "code",
   "execution_count": 39,
   "metadata": {},
   "outputs": [],
   "source": [
    "yum=open('append','a')  #in append if file name is not there so it wil not create the file , it wil jiust append the value\n",
    "  #as in our directory we don't have the file with name append so it will not create the file with name append\n"
   ]
  },
  {
   "cell_type": "code",
   "execution_count": 40,
   "metadata": {},
   "outputs": [
    {
     "data": {
      "text/plain": [
       "50"
      ]
     },
     "execution_count": 40,
     "metadata": {},
     "output_type": "execute_result"
    }
   ],
   "source": [
    "l=open('yahoo','a')\n",
    "l.write(\"now the value will be append in the bottom of file\")"
   ]
  },
  {
   "cell_type": "code",
   "execution_count": null,
   "metadata": {},
   "outputs": [],
   "source": []
  },
  {
   "cell_type": "markdown",
   "metadata": {},
   "source": [
    "# most important step   #read from one file and write it into another file\n"
   ]
  },
  {
   "cell_type": "markdown",
   "metadata": {},
   "source": [
    "# example we have to file or folder suppose i want to read a data from one file and copy that data to another file(or we can say override that )\n",
    "# here we have two file aa.txt and yahoo\n",
    "# aa.txt is file which we used for read example\n",
    "# yaho is a file which i had created for writing purpose\n",
    "# now i wil read all the informaton from aa.txt to yahoo\n",
    "# so to read and copy one by one we have to use for loop concept"
   ]
  },
  {
   "cell_type": "code",
   "execution_count": 36,
   "metadata": {},
   "outputs": [],
   "source": [
    " d=open('aa.txt','r')   # the file should be present in the sme directory\n",
    "#print(d.read())\n",
    "l=open('yahoo','w')\n"
   ]
  },
  {
   "cell_type": "code",
   "execution_count": 50,
   "metadata": {},
   "outputs": [],
   "source": [
    "for data in d:        # d as i had mentioned in above  that it is a name of file where i had stored all the data of aa.txt file\n",
    "    l.write(data)     #all data copied from aa.txt to l"
   ]
  },
  {
   "cell_type": "code",
   "execution_count": 71,
   "metadata": {},
   "outputs": [
    {
     "data": {
      "text/plain": [
       "31"
      ]
     },
     "execution_count": 71,
     "metadata": {},
     "output_type": "execute_result"
    }
   ],
   "source": [
    "dk=open('deepak','w')                        # here the file deepak will we create in which we write \n",
    "                                             #dk will be the reference of file created whose name is deepak\n",
    "                                             #dk.write is a method which is used to write the code \n",
    "dk.write(\"this is the first program to,\\n \")\n"
   ]
  },
  {
   "cell_type": "code",
   "execution_count": 72,
   "metadata": {},
   "outputs": [
    {
     "name": "stdout",
     "output_type": "stream",
     "text": [
      "this is the first program to,\n",
      " \n"
     ]
    }
   ],
   "source": [
    "lm=open('deepak','r')   # r is used for reading purpose  # it will read a data from the deepak n read on l \n",
    "print(lm.read())  # than l.read is a method which wil used to read a single singleline from file"
   ]
  },
  {
   "cell_type": "code",
   "execution_count": 73,
   "metadata": {},
   "outputs": [],
   "source": [
    "# if i want to copy a data from one file to another\n",
    "for data in d:\n",
    "    dk.write(data)  # so data will be write in dk from the data type\n",
    "     # dk is reference of the folder which i had created wit the name deepak (in the line number71) \n",
    "    "
   ]
  },
  {
   "cell_type": "code",
   "execution_count": null,
   "metadata": {},
   "outputs": [],
   "source": []
  },
  {
   "cell_type": "code",
   "execution_count": null,
   "metadata": {},
   "outputs": [],
   "source": []
  }
 ],
 "metadata": {
  "kernelspec": {
   "display_name": "Python 3",
   "language": "python",
   "name": "python3"
  },
  "language_info": {
   "codemirror_mode": {
    "name": "ipython",
    "version": 3
   },
   "file_extension": ".py",
   "mimetype": "text/x-python",
   "name": "python",
   "nbconvert_exporter": "python",
   "pygments_lexer": "ipython3",
   "version": "3.7.4"
  }
 },
 "nbformat": 4,
 "nbformat_minor": 2
}
