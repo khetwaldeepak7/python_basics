{
 "cells": [
  {
   "cell_type": "code",
   "execution_count": 1,
   "metadata": {},
   "outputs": [],
   "source": [
    "# base of internet\n",
    "# we will be using 2 thing,server and the client\n"
   ]
  },
  {
   "cell_type": "code",
   "execution_count": 2,
   "metadata": {},
   "outputs": [],
   "source": [
    "# to build the connection we required two thing\n",
    "#1) port number = ip address\n",
    "#2) type of connection we are going to build= tcp and udp connection\n"
   ]
  },
  {
   "cell_type": "code",
   "execution_count": 3,
   "metadata": {},
   "outputs": [],
   "source": [
    "# TCP=transmission control protocol ,it is used a connection oriented protocol \n",
    "#    (it simply mean ,we have to first make a connection than we can transmit or transfer the data)\n",
    "# UDP=user datagram protocol ,it used a connection less protocol;;\n",
    "  # in this we dont have to get the connection,, just we have to send the packet based on addres or based on the network it wil reached to the distination\n",
    "# the drawback of udp is,we are not assure where the packet has been reached to the destination"
   ]
  },
  {
   "cell_type": "code",
   "execution_count": 4,
   "metadata": {},
   "outputs": [],
   "source": [
    "# TCP , in this first we will make a connection than only we can share the information"
   ]
  },
  {
   "cell_type": "code",
   "execution_count": 9,
   "metadata": {},
   "outputs": [],
   "source": [
    "# here are build in the server socket"
   ]
  },
  {
   "cell_type": "code",
   "execution_count": 13,
   "metadata": {},
   "outputs": [],
   "source": [
    "# we will make this socket as a server socket \n",
    "# so it wil accept the connection from the user\n"
   ]
  },
  {
   "cell_type": "code",
   "execution_count": 1,
   "metadata": {},
   "outputs": [],
   "source": [
    "import socket\n",
    "s=socket.socket()\n",
    "s.bind(('localhost',9999))     #here it wil create a connection  # we are giving two thing, ip addres and the port number)"
   ]
  },
  {
   "cell_type": "code",
   "execution_count": 2,
   "metadata": {},
   "outputs": [
    {
     "name": "stdout",
     "output_type": "stream",
     "text": [
      "waiting for connections\n"
     ]
    }
   ],
   "source": [
    "# here number of connection we are allowing  to connect to the server\n",
    "s.listen(4)   #so it will allowed only 4 connection, more than 4 will be refused\n",
    "print(\"waiting for connections\")\n"
   ]
  },
  {
   "cell_type": "code",
   "execution_count": null,
   "metadata": {},
   "outputs": [],
   "source": [
    "# now here we wil accept the request from the client\n",
    "# the connection must be in continous form ,so we wil used loop\n",
    "while True:\n",
    "    c,addr=s.accept()      #it will accept the request from the client.. it wil give two thing ,client socket and addres of the client\n",
    "    print(\"connected with \",addr)\n",
    "    c.send(\"welcome to my socket program\")\n",
    "    c.close()"
   ]
  },
  {
   "cell_type": "code",
   "execution_count": null,
   "metadata": {},
   "outputs": [],
   "source": []
  },
  {
   "cell_type": "code",
   "execution_count": null,
   "metadata": {},
   "outputs": [],
   "source": []
  },
  {
   "cell_type": "code",
   "execution_count": null,
   "metadata": {},
   "outputs": [],
   "source": []
  },
  {
   "cell_type": "code",
   "execution_count": null,
   "metadata": {},
   "outputs": [],
   "source": []
  },
  {
   "cell_type": "code",
   "execution_count": null,
   "metadata": {},
   "outputs": [],
   "source": []
  },
  {
   "cell_type": "code",
   "execution_count": null,
   "metadata": {},
   "outputs": [],
   "source": []
  }
 ],
 "metadata": {
  "kernelspec": {
   "display_name": "Python 2",
   "language": "python",
   "name": "python2"
  }
 },
 "nbformat": 4,
 "nbformat_minor": 2
}
