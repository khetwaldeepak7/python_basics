{
 "cells": [
  {
   "cell_type": "code",
   "execution_count": 8,
   "metadata": {},
   "outputs": [
    {
     "name": "stdout",
     "output_type": "stream",
     "text": [
      "[10, 20, 30]\n"
     ]
    }
   ],
   "source": [
    "name=[10,20,30,40]\n",
    "#name[0:3] #its is used to print certain range starting from 0 index and ending at 2 \n",
    "print (name[0:3])# another way to print name="
   ]
  },
  {
   "cell_type": "code",
   "execution_count": 12,
   "metadata": {},
   "outputs": [
    {
     "data": {
      "text/plain": [
       "'y'"
      ]
     },
     "execution_count": 12,
     "metadata": {},
     "output_type": "execute_result"
    }
   ],
   "source": [
    "name='youtube'#to define string in python\n",
    "name[0]#to print the the string "
   ]
  },
  {
   "cell_type": "code",
   "execution_count": 13,
   "metadata": {},
   "outputs": [
    {
     "data": {
      "text/plain": [
       "'ub'"
      ]
     },
     "execution_count": 13,
     "metadata": {},
     "output_type": "execute_result"
    }
   ],
   "source": [
    "name[-3:-1]#it will count in reverse order"
   ]
  },
  {
   "cell_type": "code",
   "execution_count": 65,
   "metadata": {},
   "outputs": [
    {
     "data": {
      "text/plain": [
       "'tube you'"
      ]
     },
     "execution_count": 65,
     "metadata": {},
     "output_type": "execute_result"
    }
   ],
   "source": [
    "name[3:10] + ' you' # to concatinate the string "
   ]
  },
  {
   "cell_type": "code",
   "execution_count": 15,
   "metadata": {},
   "outputs": [
    {
     "data": {
      "text/plain": [
       "7"
      ]
     },
     "execution_count": 15,
     "metadata": {},
     "output_type": "execute_result"
    }
   ],
   "source": [
    "len(name)# it is length function to calculate the length of string"
   ]
  },
  {
   "cell_type": "code",
   "execution_count": 21,
   "metadata": {},
   "outputs": [
    {
     "data": {
      "text/plain": [
       "[23, 3]"
      ]
     },
     "execution_count": 21,
     "metadata": {},
     "output_type": "execute_result"
    }
   ],
   "source": [
    "nums=[1,2,23,3,4]\n",
    "nums#to print the number \n",
    "#nums[2:4]# to print the range"
   ]
  },
  {
   "cell_type": "code",
   "execution_count": null,
   "metadata": {},
   "outputs": [],
   "source": [
    "#array function\n",
    "numer=[20,'deepak',2.4]# in list we can store different different types of data\n",
    "\n",
    "numer.append(7)#it is used to add the value at the end of array\n",
    "\n",
    "numer.insert(2,10)#it is used to insert the value at 2 index of array means we can add to a paticular index\n",
    "\n",
    "numer.remove(20)# to remove the value of the array on the bases of number its take only one arguments it means we can del on;y one value\n",
    " \n",
    "numer.pop(1)#it is used to remove on the bases of indexs here it wil remove the first index value\n",
    "numer.pop()# if we use pop without using index number than it will remove the last number\n",
    " \n",
    "    \n",
    "#to delete the multiple value we use del method\n",
    "del numer[1:]# it will start deleting from index 1 to last\n",
    "del numer[1:2]#it wil start from index 1 and end at index number 2\n",
    " \n",
    "#to add multiple value \n",
    "numer.extend([10,30,50])# it is used to add multiple value in a array [] is used to put the value\n",
    "numer\n",
    "\n",
    "\n"
   ]
  },
  {
   "cell_type": "code",
   "execution_count": 5,
   "metadata": {},
   "outputs": [
    {
     "data": {
      "text/plain": [
       "40"
      ]
     },
     "execution_count": 5,
     "metadata": {},
     "output_type": "execute_result"
    }
   ],
   "source": [
    "#inbuild function ofpython \n",
    "z=[10,20,3,40]\n",
    "#len(z)# ti is  used to calculate the length of array\n",
    "#min(z)# it is used to find the minimun value of aaray\n",
    "#max(z)#it is used to finf the maximun value of aaray\n",
    "#sum(z)#to add the value\n",
    "#z.sort()#it is method which is used to sort the value\n",
    "#z"
   ]
  },
  {
   "cell_type": "markdown",
   "metadata": {},
   "source": []
  },
  {
   "cell_type": "code",
   "execution_count": null,
   "metadata": {},
   "outputs": [],
   "source": []
  }
 ],
 "metadata": {
  "kernelspec": {
   "display_name": "Python 3",
   "language": "python",
   "name": "python3"
  },
  "language_info": {
   "codemirror_mode": {
    "name": "ipython",
    "version": 3
   },
   "file_extension": ".py",
   "mimetype": "text/x-python",
   "name": "python",
   "nbconvert_exporter": "python",
   "pygments_lexer": "ipython3",
   "version": "3.7.4"
  }
 },
 "nbformat": 4,
 "nbformat_minor": 2
}
