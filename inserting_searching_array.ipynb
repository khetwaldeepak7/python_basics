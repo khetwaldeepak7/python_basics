{
 "cells": [
  {
   "cell_type": "markdown",
   "metadata": {},
   "source": [
    "# inserting and searching for element in array"
   ]
  },
  {
   "cell_type": "code",
   "execution_count": 6,
   "metadata": {},
   "outputs": [
    {
     "name": "stdout",
     "output_type": "stream",
     "text": [
      "enter the length of array\n",
      "5\n",
      "enter the value54\n",
      "enter the value1\n",
      "enter the value2\n",
      "enter the value3\n",
      "enter the value4\n",
      "enter the values whose index number you want5\n"
     ]
    },
    {
     "ename": "TypeError",
     "evalue": "'int' object is not subscriptable",
     "output_type": "error",
     "traceback": [
      "\u001b[0;31m---------------------------------------------------------------------------\u001b[0m",
      "\u001b[0;31mTypeError\u001b[0m                                 Traceback (most recent call last)",
      "\u001b[0;32m<ipython-input-6-d322c8538b3c>\u001b[0m in \u001b[0;36m<module>\u001b[0;34m\u001b[0m\n\u001b[1;32m      6\u001b[0m     \u001b[0mc\u001b[0m\u001b[0;34m=\u001b[0m\u001b[0mint\u001b[0m\u001b[0;34m(\u001b[0m\u001b[0minput\u001b[0m\u001b[0;34m(\u001b[0m\u001b[0;34m\"enter the value\"\u001b[0m\u001b[0;34m)\u001b[0m\u001b[0;34m)\u001b[0m\u001b[0;34m\u001b[0m\u001b[0;34m\u001b[0m\u001b[0m\n\u001b[1;32m      7\u001b[0m \u001b[0mz\u001b[0m\u001b[0;34m=\u001b[0m\u001b[0mint\u001b[0m\u001b[0;34m(\u001b[0m\u001b[0minput\u001b[0m\u001b[0;34m(\u001b[0m\u001b[0;34m\"enter the values whose index number you want\"\u001b[0m\u001b[0;34m)\u001b[0m\u001b[0;34m)\u001b[0m\u001b[0;34m\u001b[0m\u001b[0;34m\u001b[0m\u001b[0m\n\u001b[0;32m----> 8\u001b[0;31m \u001b[0;32mif\u001b[0m\u001b[0;34m(\u001b[0m\u001b[0mz\u001b[0m\u001b[0;34m==\u001b[0m\u001b[0mc\u001b[0m\u001b[0;34m[\u001b[0m\u001b[0mi\u001b[0m\u001b[0;34m]\u001b[0m\u001b[0;34m)\u001b[0m\u001b[0;34m:\u001b[0m\u001b[0;34m\u001b[0m\u001b[0;34m\u001b[0m\u001b[0m\n\u001b[0m\u001b[1;32m      9\u001b[0m     \u001b[0mprint\u001b[0m\u001b[0;34m(\u001b[0m\u001b[0;34m\"the index values of number is\"\u001b[0m\u001b[0;34m+\u001b[0m\u001b[0mi\u001b[0m\u001b[0;34m)\u001b[0m\u001b[0;34m\u001b[0m\u001b[0;34m\u001b[0m\u001b[0m\n\u001b[1;32m     10\u001b[0m \u001b[0;34m\u001b[0m\u001b[0m\n",
      "\u001b[0;31mTypeError\u001b[0m: 'int' object is not subscriptable"
     ]
    }
   ],
   "source": [
    "#we will take input from the user \n",
    "from array import *\n",
    "arr=array('i',[])# so i will be define what type of array it is\n",
    "n=int(input(\"enter the length of array\\n\"))\n",
    "for i in range(5):\n",
    "    c=int(input(\"enter the value\"))\n",
    "z=int(input(\"enter the values whose index number you want\"))\n",
    "if(z==c[i]):\n",
    "    print(\"the index values of number is\")\n",
    "    "
   ]
  },
  {
   "cell_type": "code",
   "execution_count": 9,
   "metadata": {},
   "outputs": [
    {
     "name": "stdout",
     "output_type": "stream",
     "text": [
      "10\n",
      "20\n",
      "30\n",
      "40\n"
     ]
    }
   ],
   "source": [
    "from array import *\n",
    "s=array('i',[10,20,30,40])\n",
    "newArray=array(s.typecode,(a for a in s))# it is method through which we can copy one array to anotherarray\n",
    "for i in newArray:\n",
    "    print(i)"
   ]
  },
  {
   "cell_type": "code",
   "execution_count": 2,
   "metadata": {},
   "outputs": [
    {
     "name": "stdout",
     "output_type": "stream",
     "text": [
      "enter the lenght of array5\n",
      "enter the values\n",
      "12\n",
      "enter the values\n",
      "1\n",
      "enter the values\n",
      "2\n",
      "enter the values\n",
      "3\n",
      "enter the values\n",
      "4\n"
     ]
    }
   ],
   "source": [
    "from array import *\n",
    "arr=array('i',[])# defining a array  of type i n the user will put the input\n",
    "n=int(input(\"enter the lenght of array\"))\n",
    "\n",
    "for i in range(n):\n",
    "    y=int(input(\"enter the values\\n\"))\n",
    "    arr.append(y)# so everytime the value will get append\n",
    "    \n",
    "     \n",
    "    \n",
    "    "
   ]
  },
  {
   "cell_type": "code",
   "execution_count": 10,
   "metadata": {},
   "outputs": [
    {
     "name": "stdout",
     "output_type": "stream",
     "text": [
      "enter the length of array 2\n",
      "enter the next values12\n",
      "enter the next values1\n",
      "array('i', [12, 1])\n",
      "enter the values whose index number user want1\n",
      "1\n"
     ]
    }
   ],
   "source": [
    "#user method to findout the index number of array\n",
    "from array import *\n",
    "arr=array('i',[])# first defining the array\n",
    "length=int(input(\"enter the length of array \"))\n",
    "for i in range(length):\n",
    "    y=int(input(\"enter the next values\"))\n",
    "    arr.append(y)# it is used to append the userinput values in the array\n",
    "    \n",
    "print(arr)# printing array values\n",
    "index=int(input(\"enter the values whose index number user want\"))\n",
    "count=0\n",
    "for i in arr:#here i will be holding the values of arr which is user input\n",
    "        if(index==i):\n",
    "            print(count)# we have took an extra variable K which weill\n",
    "            break;\n",
    "        count+=1\n",
    "            \n",
    "\n"
   ]
  },
  {
   "cell_type": "code",
   "execution_count": 4,
   "metadata": {},
   "outputs": [
    {
     "name": "stdout",
     "output_type": "stream",
     "text": [
      "enter the length of array 3\n",
      "enter the next values1\n",
      "enter the next values2\n",
      "enter the next values3\n",
      "array('i', [1, 2, 3])\n",
      "enter the value to find the index number 2\n",
      "1\n"
     ]
    }
   ],
   "source": [
    "#inbuild function through which we can find the index number of a value\n",
    "from array import *\n",
    "arr=array('i',[])# arr is a variable which we hold  a integer type of array\n",
    "size=int(input(\"enter the length of array \"))\n",
    "#after entering the size of array now we have to take the values  from the user\n",
    "for i in range(size):# in range we have passed the (size) because the array should itterate till the length user have provided\n",
    "    values=int(input(\"enter the next values\"))\n",
    "    arr.append(values)# using append method we can append (add)the values to array which we will take from the user\n",
    "print(arr)\n",
    "y=int(input(\"enter the value to find the index number \"))\n",
    "#if(y==arr):\n",
    "print(arr.index(y))# direct we can call the index in build funtion\n",
    "\n",
    "\n",
    "\n",
    "\n"
   ]
  },
  {
   "cell_type": "code",
   "execution_count": 15,
   "metadata": {},
   "outputs": [
    {
     "name": "stdout",
     "output_type": "stream",
     "text": [
      "enter the values from the user4\n",
      "enter the values from the user1\n",
      "enter the values from the user2\n",
      "enter the values from the user3\n",
      "enter the values from the user5\n",
      "array('i', [4, 1, 2, 3, 5])\n",
      "array('i', [4, 1, 3, 5])\n"
     ]
    }
   ],
   "source": [
    "#create a array with 5 values and delete the values which is at index number 2 using inbuild function\n",
    "from array import *\n",
    "ar=array('i',[])# user taking input\n",
    "#x=int(input(\"enter the length of array\"))\n",
    "for i in range(5):#because the range is mentioned in the question\n",
    "    value=int(input(\"enter the values from the user\"))\n",
    "    ar.append(value)# this line means append (add ) the element(values) to (ar) type of array variable\n",
    "print(ar)\n",
    "del ar[2]#by using inbuild function we can delete the values\n",
    "print(ar)# printing the array after deleting the second index values\n",
    "    \n",
    "\n",
    " \n",
    "    "
   ]
  },
  {
   "cell_type": "code",
   "execution_count": 25,
   "metadata": {},
   "outputs": [
    {
     "name": "stdout",
     "output_type": "stream",
     "text": [
      "enter the values from the user1\n",
      "enter the values from the user2\n",
      "enter the values from the user3\n",
      "enter the values from the user4\n",
      "enter the values from the user5\n",
      "array('i', [1, 2, 3, 4, 5])\n",
      "enter the index number which you want to delete3\n",
      "1\n",
      "2\n",
      "3\n",
      "5\n"
     ]
    }
   ],
   "source": [
    "#create a array with 5 values and delete the values which is at index number by user without using inbuild function\n",
    "from array import *\n",
    "arr=array('i',[])\n",
    "for i in range(5):\n",
    "    value=int(input(\"enter the values from the user\"))\n",
    "    arr.append(value)        # it will append the values to the array\n",
    "print(arr)                   # here it will print the array\n",
    "count=0                      #\n",
    "user=int(input(\"enter the index number which you want to delete\"))\n",
    "for e in arr:              #the value of arr wil be assigned to the e\n",
    "#    print(e)\n",
    "    if(count==user):\n",
    "        count=count+1\n",
    "        continue\n",
    "    else:\n",
    "        print(e)\n",
    "        count=count+1\n",
    "    \n"
   ]
  },
  {
   "cell_type": "code",
   "execution_count": 36,
   "metadata": {},
   "outputs": [
    {
     "name": "stdout",
     "output_type": "stream",
     "text": [
      "enter the values 1\n",
      "enter the values 2\n",
      "enter the values 3\n",
      "enter the values 4\n",
      "enter the values 5\n",
      "array('i', [1, 2, 3, 4, 5])\n",
      "1\n",
      "2\n",
      "3\n",
      "4\n",
      "5\n"
     ]
    },
    {
     "ename": "AttributeError",
     "evalue": "'int' object has no attribute 'reverse'",
     "output_type": "error",
     "traceback": [
      "\u001b[0;31m---------------------------------------------------------------------------\u001b[0m",
      "\u001b[0;31mAttributeError\u001b[0m                            Traceback (most recent call last)",
      "\u001b[0;32m<ipython-input-36-7e38d3c57a59>\u001b[0m in \u001b[0;36m<module>\u001b[0;34m\u001b[0m\n\u001b[1;32m     10\u001b[0m     \u001b[0mprint\u001b[0m\u001b[0;34m(\u001b[0m\u001b[0mi\u001b[0m\u001b[0;34m)\u001b[0m\u001b[0;34m\u001b[0m\u001b[0;34m\u001b[0m\u001b[0m\n\u001b[1;32m     11\u001b[0m \u001b[0;34m\u001b[0m\u001b[0m\n\u001b[0;32m---> 12\u001b[0;31m \u001b[0mi\u001b[0m\u001b[0;34m.\u001b[0m\u001b[0mreverse\u001b[0m\u001b[0;34m(\u001b[0m\u001b[0;34m)\u001b[0m\u001b[0;34m\u001b[0m\u001b[0;34m\u001b[0m\u001b[0m\n\u001b[0m\u001b[1;32m     13\u001b[0m \u001b[0mprint\u001b[0m\u001b[0;34m(\u001b[0m\u001b[0marr\u001b[0m\u001b[0;34m)\u001b[0m\u001b[0;34m\u001b[0m\u001b[0;34m\u001b[0m\u001b[0m\n",
      "\u001b[0;31mAttributeError\u001b[0m: 'int' object has no attribute 'reverse'"
     ]
    }
   ],
   "source": [
    "#reverse the array without using the inbuild function\n",
    "from array import *\n",
    "arr=array('i',[])\n",
    "for i in range(5):\n",
    "    value=int(input(\"enter the values \"))\n",
    "    arr.append(value)\n",
    "print(arr)\n",
    "#now reverse the value\n",
    "arr.length()\n",
    "    \n",
    "\n"
   ]
  },
  {
   "cell_type": "code",
   "execution_count": null,
   "metadata": {},
   "outputs": [],
   "source": []
  }
 ],
 "metadata": {
  "kernelspec": {
   "display_name": "Python 3",
   "language": "python",
   "name": "python3"
  },
  "language_info": {
   "codemirror_mode": {
    "name": "ipython",
    "version": 3
   },
   "file_extension": ".py",
   "mimetype": "text/x-python",
   "name": "python",
   "nbconvert_exporter": "python",
   "pygments_lexer": "ipython3",
   "version": "3.7.4"
  }
 },
 "nbformat": 4,
 "nbformat_minor": 2
}
