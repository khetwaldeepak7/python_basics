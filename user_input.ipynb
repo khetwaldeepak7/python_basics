{
 "cells": [
  {
   "cell_type": "code",
   "execution_count": 1,
   "metadata": {},
   "outputs": [
    {
     "name": "stdout",
     "output_type": "stream",
     "text": [
      "enter 1 number14\n",
      "enter 2 number5\n",
      "19\n"
     ]
    },
    {
     "data": {
      "text/plain": [
       "int"
      ]
     },
     "execution_count": 1,
     "metadata": {},
     "output_type": "execute_result"
    }
   ],
   "source": [
    "a=input(\"enter 1 number\")#whenever we take input it always take in sting format\n",
    "x=int(a)      #to convertung into int\n",
    "b=input(\"enter 2 number\")\n",
    "y=int(b)#conerting into int\n",
    "c=x+y\n",
    "print(c)\n",
    "type(c)"
   ]
  },
  {
   "cell_type": "code",
   "execution_count": 5,
   "metadata": {},
   "outputs": [
    {
     "name": "stdout",
     "output_type": "stream",
     "text": [
      "enter the 1 value12\n",
      "enter the second value11\n",
      "23\n"
     ]
    },
    {
     "data": {
      "text/plain": [
       "int"
      ]
     },
     "execution_count": 5,
     "metadata": {},
     "output_type": "execute_result"
    }
   ],
   "source": [
    "#another way to convert it into integer\n",
    "a=int(input(\"enter the 1 value\"))\n",
    "b=int(input(\"enter the second value\"))\n",
    "c=a+b\n",
    "print (c)\n",
    "type(c)\n"
   ]
  },
  {
   "cell_type": "markdown",
   "metadata": {},
   "source": [
    "we dont have characters in python  but if we want to take a char in python than"
   ]
  },
  {
   "cell_type": "code",
   "execution_count": 6,
   "metadata": {},
   "outputs": [
    {
     "name": "stdout",
     "output_type": "stream",
     "text": [
      "enter a charpwr\n",
      "pwr\n"
     ]
    }
   ],
   "source": [
    "ch=input(\"enter a char\")#here we want onl single char\n",
    "print(ch)\n",
    "#but it is printing string (means whole characters)"
   ]
  },
  {
   "cell_type": "code",
   "execution_count": 7,
   "metadata": {},
   "outputs": [
    {
     "name": "stdout",
     "output_type": "stream",
     "text": [
      "p\n"
     ]
    }
   ],
   "source": [
    "#so we can use index  to fetch the single char\n",
    "print(ch[0])# so it will print the single char"
   ]
  },
  {
   "cell_type": "code",
   "execution_count": 8,
   "metadata": {},
   "outputs": [
    {
     "name": "stdout",
     "output_type": "stream",
     "text": [
      "enter the charpwr\n",
      "p\n"
     ]
    }
   ],
   "source": [
    "#another way to fetch the values\n",
    "ch=input('enter the char')[0]#here it will assign only the first characteres of the string as we have mentioned the index number\n",
    "print(ch)\n",
    "#below u can see the output"
   ]
  },
  {
   "cell_type": "code",
   "execution_count": null,
   "metadata": {},
   "outputs": [],
   "source": []
  }
 ],
 "metadata": {
  "kernelspec": {
   "display_name": "Python 3",
   "language": "python",
   "name": "python3"
  },
  "language_info": {
   "codemirror_mode": {
    "name": "ipython",
    "version": 3
   },
   "file_extension": ".py",
   "mimetype": "text/x-python",
   "name": "python",
   "nbconvert_exporter": "python",
   "pygments_lexer": "ipython3",
   "version": "3.7.4"
  }
 },
 "nbformat": 4,
 "nbformat_minor": 2
}
