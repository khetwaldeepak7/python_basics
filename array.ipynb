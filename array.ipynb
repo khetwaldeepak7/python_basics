{
 "cells": [
  {
   "cell_type": "code",
   "execution_count": 27,
   "metadata": {},
   "outputs": [
    {
     "name": "stdout",
     "output_type": "stream",
     "text": [
      "enter the number\n",
      "3\n",
      "prime\n",
      " 3\n"
     ]
    }
   ],
   "source": [
    "num=int(input(\"enter the number\\n\"))\n",
    "#print(type(num))\n",
    "for i in range(2,num):\n",
    "    if(num%2==0):\n",
    "        print(\"not prime\\n\",+num)\n",
    "        break\n",
    "        \n",
    "else:\n",
    "    print(\"prime\\n\", num)\n"
   ]
  },
  {
   "cell_type": "code",
   "execution_count": null,
   "metadata": {},
   "outputs": [],
   "source": [
    "#in array we need all the value of same type"
   ]
  },
  {
   "cell_type": "code",
   "execution_count": 4,
   "metadata": {},
   "outputs": [
    {
     "name": "stdout",
     "output_type": "stream",
     "text": [
      "[10, 20, 30, 50, 60, 70]\n"
     ]
    }
   ],
   "source": [
    "a=[10,20,30]\n",
    "a.extend([50,60,70])\n",
    "print (a)"
   ]
  },
  {
   "cell_type": "code",
   "execution_count": 23,
   "metadata": {},
   "outputs": [
    {
     "name": "stdout",
     "output_type": "stream",
     "text": [
      "array('i', [10, 20, 30, 0, 40])\n"
     ]
    }
   ],
   "source": [
    "from array import *     # by using (*) we can import array all method\n",
    "ar=array('i',[10,20,30,0,40])# small i indicate it is a signed (int) so it will take   positive as well as negative value in a array\n",
    "print(ar)"
   ]
  },
  {
   "cell_type": "code",
   "execution_count": null,
   "metadata": {},
   "outputs": [],
   "source": [
    "ar=array('I',[10,-4,20,30,0,40])# big I indicate it is a signed (int) so it will take only positive values\n",
    "print(ar)# it is giving error because the id negative unsigned int so it will tske only positive values in a array"
   ]
  },
  {
   "cell_type": "markdown",
   "metadata": {},
   "source": [
    "# buffer_info is a method which will give the size of array"
   ]
  },
  {
   "cell_type": "code",
   "execution_count": 24,
   "metadata": {},
   "outputs": [
    {
     "data": {
      "text/plain": [
       "(140640979178208, 3)"
      ]
     },
     "execution_count": 24,
     "metadata": {},
     "output_type": "execute_result"
    }
   ],
   "source": [
    "a=array('i',[20,30,40])\n",
    "type(a)\n",
    "a.buffer_info()# first value is  the address and 2 value is the length of the array"
   ]
  },
  {
   "cell_type": "code",
   "execution_count": 19,
   "metadata": {},
   "outputs": [
    {
     "data": {
      "text/plain": [
       "list"
      ]
     },
     "execution_count": 19,
     "metadata": {},
     "output_type": "execute_result"
    }
   ],
   "source": [
    "array=[10,20,30]\n",
    "type(array)# without declaring array"
   ]
  },
  {
   "cell_type": "code",
   "execution_count": 20,
   "metadata": {},
   "outputs": [
    {
     "ename": "TypeError",
     "evalue": "list indices must be integers or slices, not tuple",
     "output_type": "error",
     "traceback": [
      "\u001b[0;31m---------------------------------------------------------------------------\u001b[0m",
      "\u001b[0;31mTypeError\u001b[0m                                 Traceback (most recent call last)",
      "\u001b[0;32m<ipython-input-20-81e83b93a73f>\u001b[0m in \u001b[0;36m<module>\u001b[0;34m\u001b[0m\n\u001b[0;32m----> 1\u001b[0;31m \u001b[0mar\u001b[0m\u001b[0;34m=\u001b[0m\u001b[0marray\u001b[0m\u001b[0;34m[\u001b[0m\u001b[0;36m20\u001b[0m\u001b[0;34m,\u001b[0m\u001b[0;36m20\u001b[0m\u001b[0;34m,\u001b[0m\u001b[0;36m30\u001b[0m\u001b[0;34m]\u001b[0m\u001b[0;34m\u001b[0m\u001b[0;34m\u001b[0m\u001b[0m\n\u001b[0m",
      "\u001b[0;31mTypeError\u001b[0m: list indices must be integers or slices, not tuple"
     ]
    }
   ],
   "source": [
    "ar=array[20,20,30]# without defining the typecode(datatype)"
   ]
  },
  {
   "cell_type": "code",
   "execution_count": 35,
   "metadata": {},
   "outputs": [
    {
     "name": "stdout",
     "output_type": "stream",
     "text": [
      "array('i', [20, 30, 40])\n"
     ]
    },
    {
     "data": {
      "text/plain": [
       "array.array"
      ]
     },
     "execution_count": 35,
     "metadata": {},
     "output_type": "execute_result"
    }
   ],
   "source": [
    " ar=array('i',[20,30,40])\n",
    "print (ar)\n",
    "type(ar)# it will tell the type of variable it is"
   ]
  },
  {
   "cell_type": "code",
   "execution_count": 34,
   "metadata": {},
   "outputs": [
    {
     "name": "stdout",
     "output_type": "stream",
     "text": [
      "array('i', [40, 30, 20])\n"
     ]
    }
   ],
   "source": [
    "ar.reverse()\n",
    "print (ar)# prinrting values in reverse order"
   ]
  },
  {
   "cell_type": "code",
   "execution_count": 38,
   "metadata": {},
   "outputs": [
    {
     "data": {
      "text/plain": [
       "140640574051056"
      ]
     },
     "execution_count": 38,
     "metadata": {},
     "output_type": "execute_result"
    }
   ],
   "source": [
    "# but if we want reverse some specific number than\n",
    "a=array('i',[10,20,30,40])\n",
    "id(a)"
   ]
  },
  {
   "cell_type": "code",
   "execution_count": 59,
   "metadata": {},
   "outputs": [
    {
     "data": {
      "text/plain": [
       "140640574053168"
      ]
     },
     "execution_count": 59,
     "metadata": {},
     "output_type": "execute_result"
    }
   ],
   "source": [
    "a=array('i',[10,20,30,40])\n",
    "id(a)# evrytime a new addres is assign to array while creating a new array"
   ]
  },
  {
   "cell_type": "markdown",
   "metadata": {},
   "source": [
    "# here we know the length "
   ]
  },
  {
   "cell_type": "code",
   "execution_count": 57,
   "metadata": {},
   "outputs": [
    {
     "name": "stdout",
     "output_type": "stream",
     "text": [
      "10\n",
      "20\n",
      "30\n",
      "40\n"
     ]
    }
   ],
   "source": [
    "for i in range(4):\n",
    "     print (a[i])#to print to the specific range"
   ]
  },
  {
   "cell_type": "markdown",
   "metadata": {},
   "source": [
    "# if we dont know the length than we can used len()method to determine the lenght of array"
   ]
  },
  {
   "cell_type": "code",
   "execution_count": 61,
   "metadata": {},
   "outputs": [
    {
     "name": "stdout",
     "output_type": "stream",
     "text": [
      "10\n",
      "20\n",
      "30\n",
      "40\n"
     ]
    }
   ],
   "source": [
    "for i in range(len(a)):# by using range it will go for the index values of array ,\n",
    "    print (a[i])# printing here a(i) specify that the a(i) a of index i value is"
   ]
  },
  {
   "cell_type": "code",
   "execution_count": 63,
   "metadata": {},
   "outputs": [
    {
     "name": "stdout",
     "output_type": "stream",
     "text": [
      "10\n",
      "20\n",
      "30\n",
      "40\n"
     ]
    }
   ],
   "source": [
    " #but we dont want to print using the index values ,it means direct we wil print the values \n",
    "for i in a:\n",
    "     print(i)# so directly it will print the values which will be stored in the array"
   ]
  },
  {
   "cell_type": "code",
   "execution_count": 64,
   "metadata": {},
   "outputs": [
    {
     "name": "stdout",
     "output_type": "stream",
     "text": [
      "[array('i', [10, 20, 30, 40])]\n"
     ]
    }
   ],
   "source": [
    "ar=[a]\n",
    "print (ar)# easy way to copy one array to another array"
   ]
  },
  {
   "cell_type": "code",
   "execution_count": 84,
   "metadata": {
    "scrolled": true
   },
   "outputs": [
    {
     "ename": "TypeError",
     "evalue": "an integer is required (got type array.array)",
     "output_type": "error",
     "traceback": [
      "\u001b[0;31m---------------------------------------------------------------------------\u001b[0m",
      "\u001b[0;31mTypeError\u001b[0m                                 Traceback (most recent call last)",
      "\u001b[0;32m<ipython-input-84-2d05a77cb5d1>\u001b[0m in \u001b[0;36m<module>\u001b[0;34m\u001b[0m\n\u001b[1;32m      3\u001b[0m \u001b[0;31m#creating new array n copy single single values from one array to another\u001b[0m\u001b[0;34m\u001b[0m\u001b[0;34m\u001b[0m\u001b[0;34m\u001b[0m\u001b[0m\n\u001b[1;32m      4\u001b[0m \u001b[0;31m#array()inside the bracket type  mention we dont know the types so take the types from (dk) array as i had mentioned before insted of sayinh I we are just saying typecode\u001b[0m\u001b[0;34m\u001b[0m\u001b[0;34m\u001b[0m\u001b[0;34m\u001b[0m\u001b[0m\n\u001b[0;32m----> 5\u001b[0;31m \u001b[0mnewArry\u001b[0m\u001b[0;34m=\u001b[0m\u001b[0marray\u001b[0m\u001b[0;34m(\u001b[0m\u001b[0mdk\u001b[0m\u001b[0;34m.\u001b[0m\u001b[0mtypecode\u001b[0m\u001b[0;34m,\u001b[0m\u001b[0;34m(\u001b[0m\u001b[0ma\u001b[0m \u001b[0;32mfor\u001b[0m \u001b[0mi\u001b[0m \u001b[0;32min\u001b[0m \u001b[0mdk\u001b[0m\u001b[0;34m)\u001b[0m\u001b[0;34m)\u001b[0m\u001b[0;34m\u001b[0m\u001b[0;34m\u001b[0m\u001b[0m\n\u001b[0m\u001b[1;32m      6\u001b[0m \u001b[0;32mfor\u001b[0m \u001b[0me\u001b[0m \u001b[0;32min\u001b[0m \u001b[0mnewArry\u001b[0m\u001b[0;34m(\u001b[0m\u001b[0;34m)\u001b[0m\u001b[0;34m:\u001b[0m\u001b[0;34m\u001b[0m\u001b[0;34m\u001b[0m\u001b[0m\n\u001b[1;32m      7\u001b[0m \u001b[0;31m# explanation ! it will tell newArray is type of dk array (a for i in dk) a means take a single single value from dk and assign that value to newArray\u001b[0m\u001b[0;34m\u001b[0m\u001b[0;34m\u001b[0m\u001b[0;34m\u001b[0m\u001b[0m\n",
      "\u001b[0;31mTypeError\u001b[0m: an integer is required (got type array.array)"
     ]
    }
   ],
   "source": [
    "from array import *\n",
    "dk=array('i',[10,2,3,4,5])\n",
    "#creating new array n copy single single values from one array to another\n",
    "#array()inside the bracket type  mention we dont know the types so take the types from (dk) array as i had mentioned before insted of sayinh I we are just saying typecode\n",
    "newArry=array(dk.typecode,(a for i in dk))\n",
    "for e in newArry():\n",
    "# explanation ! it will tell newArray is type of dk array (a for i in dk) a means take a single single value from dk and assign that value to newArray,here it will give an error because the syntax is compulsory of a               \n",
    "    print (newArry)\n",
    "\n",
    "              \n",
    "    "
   ]
  },
  {
   "cell_type": "code",
   "execution_count": 91,
   "metadata": {},
   "outputs": [
    {
     "name": "stdout",
     "output_type": "stream",
     "text": [
      "10\n",
      "2\n",
      "3\n",
      "4\n",
      "5\n"
     ]
    }
   ],
   "source": [
    "#copy one array to another array\n",
    "from array import *\n",
    "dk=array('i',[10,2,3,4,5])\n",
    "newAr=array(dk.typecode,(a for a in dk))# this tag is compularsory we have to write it is in the same way\n",
    "for e in newAr:\n",
    "    print(e)"
   ]
  },
  {
   "cell_type": "code",
   "execution_count": 93,
   "metadata": {},
   "outputs": [
    {
     "name": "stdout",
     "output_type": "stream",
     "text": [
      "4\n",
      "16\n",
      "25\n",
      "36\n",
      "9\n"
     ]
    }
   ],
   "source": [
    "# if we want to print the square of previous number to new array \n",
    "dk=array('i',[2,4,5,6,3])\n",
    "square=array(dk.typecode,(a*a for a in dk))# a= value of dk and a*a means multiplying the values\n",
    "for l in square:# for will print value one by one\n",
    "    print(l)# here it will print the square of first array\n"
   ]
  },
  {
   "cell_type": "code",
   "execution_count": 108,
   "metadata": {},
   "outputs": [
    {
     "name": "stdout",
     "output_type": "stream",
     "text": [
      "4\n",
      "16\n",
      "25\n",
      "36\n",
      "9\n"
     ]
    }
   ],
   "source": [
    "#using while loop\n",
    "dk=array('i',[2,4,5,6,3])\n",
    "square=array(dk.typecode,(a*a for a in dk))\n",
    "i = 0\n",
    "while i<len(square):\n",
    "    print (square[i]) #by using while loop we can also print \n",
    "    i=i+1\n",
    "    \n",
    "\n",
    "   \n",
    "    \n",
    "    "
   ]
  },
  {
   "cell_type": "code",
   "execution_count": 123,
   "metadata": {},
   "outputs": [
    {
     "name": "stdout",
     "output_type": "stream",
     "text": [
      "20\n",
      "10\n",
      "10\n",
      "20\n",
      "20\n",
      "4\n"
     ]
    }
   ],
   "source": [
    "a=array('i',[10,20,3,4])\n",
    "for i in range(0,len (a)):\n",
    "    for j in range(i+1,len(a)):\n",
    "        if(a[j]>a[i]):\n",
    "            print(a[j])\n",
    "        else:\n",
    "            print(a[i])\n",
    "            continue\n",
    "        \n",
    "         "
   ]
  },
  {
   "cell_type": "code",
   "execution_count": 6,
   "metadata": {},
   "outputs": [
    {
     "name": "stdout",
     "output_type": "stream",
     "text": [
      "2\n",
      "3\n",
      "4\n",
      "4\n"
     ]
    }
   ],
   "source": [
    "from array import *\n",
    "ab=array('i',[2,3,4,4])\n",
    "#for i in ab:\n",
    " #   print(i,end=\"\")\n",
    "ab1=array(ab.typecode,[a for a in ab])  # the syntax is same eg=array(typeofarray,[value to put])\n",
    "for  i in ab1:\n",
    "        print(i) # here the values copies"
   ]
  },
  {
   "cell_type": "code",
   "execution_count": null,
   "metadata": {},
   "outputs": [],
   "source": []
  }
 ],
 "metadata": {
  "kernelspec": {
   "display_name": "Python 3",
   "language": "python",
   "name": "python3"
  },
  "language_info": {
   "codemirror_mode": {
    "name": "ipython",
    "version": 3
   },
   "file_extension": ".py",
   "mimetype": "text/x-python",
   "name": "python",
   "nbconvert_exporter": "python",
   "pygments_lexer": "ipython3",
   "version": "3.7.4"
  }
 },
 "nbformat": 4,
 "nbformat_minor": 2
}
