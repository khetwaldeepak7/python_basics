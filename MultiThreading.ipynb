{
 "cells": [
  {
   "cell_type": "markdown",
   "metadata": {},
   "source": [
    "# MultiThreading"
   ]
  },
  {
   "cell_type": "code",
   "execution_count": 1,
   "metadata": {},
   "outputs": [
    {
     "name": "stdout",
     "output_type": "stream",
     "text": [
      "hello deepak\n",
      "hello deepak\n",
      "hello deepak\n",
      "hello deepak\n",
      "hello deepak\n",
      "HI deepak\n",
      "HI deepak\n",
      "HI deepak\n",
      "HI deepak\n",
      "HI deepak\n"
     ]
    }
   ],
   "source": [
    "# simple example printing value without using thread\n",
    "# this wil run on same process so first one hello  method wil run n than hi method as we had called it\n",
    "class Hello:\n",
    "    def run(self):\n",
    "        for i in range(5):\n",
    "            print(\"hello deepak\")\n",
    "class Hi:\n",
    "    def run(self):\n",
    "        for i in range(5):\n",
    "            print(\"HI deepak\")\n",
    "obj1=Hello()\n",
    "obj2=Hi()\n",
    "obj1.run()\n",
    "obj2.run()"
   ]
  },
  {
   "cell_type": "code",
   "execution_count": 5,
   "metadata": {},
   "outputs": [
    {
     "name": "stdout",
     "output_type": "stream",
     "text": [
      "hello deepak\n",
      "hello deepak\n",
      "hello deepak\n",
      "hello deepak\n",
      "hello deepak\n",
      "HI deepak\n",
      "HI deepak\n",
      "HI deepak\n",
      "HI deepak\n",
      "HI deepak\n"
     ]
    }
   ],
   "source": [
    "# but when we want to print answer simultaneously that time we will used the concept of thread\n",
    "# by importing thread  we wil make this two method to run on 2 different process  \n",
    "#to make any class thread that class have to inheritage the thread\n",
    "from threading import *\n",
    "class Hello(Thread):    \n",
    "    def run(self):\n",
    "        for i in range(5):\n",
    "            print(\"hello deepak\")\n",
    "class Hi(Thread):\n",
    "    def run(self):\n",
    "        for i in range(5):\n",
    "            print(\"HI deepak\")\n",
    "obj1=Hello()\n",
    "obj2=Hi()\n",
    "obj1.run() # still it is not running simultaneously (it mean both the method is not calling simultaneously,means first helo than hi than again hello and than again hi print because we used thread together )\n",
    "obj2.run()   #insted of calling run method we have to call the start method for thread"
   ]
  },
  {
   "cell_type": "code",
   "execution_count": 16,
   "metadata": {},
   "outputs": [
    {
     "name": "stdout",
     "output_type": "stream",
     "text": [
      "hello deepak\n",
      "HI deepak\n",
      "hello deepak\n",
      "HI deepak\n",
      "hello deepak\n",
      "HI deepak\n",
      "hello deepak\n",
      "HI deepak\n",
      "hello deepak\n",
      "HI deepak\n",
      "hello deepak\n",
      "HI deepak\n",
      "hello deepak\n",
      "HI deepak\n",
      "hello deepak\n",
      "HI deepak\n",
      "hello deepak\n",
      "HI deepak\n",
      "hello deepak\n",
      "HI deepak\n"
     ]
    }
   ],
   "source": [
    "from threading import *\n",
    "from time import sleep   # it will help to sleep the proices for paticular time\n",
    "class Hello(Thread):\n",
    "    def run(self):   #it is the compulsory method for the thread \n",
    "        for i in range(10):\n",
    "            print(\"hello deepak\")\n",
    "            sleep(1)\n",
    "class Hi(Thread):\n",
    "    def run(self):\n",
    "        for i in range(10):\n",
    "            print(\"HI deepak\")\n",
    "            sleep(1)\n",
    "obj1=Hello()\n",
    "obj2=Hi()\n",
    "obj1.start()   # donu simultaneoulsy hoga toh both method object wil  create simultaneously and the method wil be called \n",
    "obj2.start()"
   ]
  },
  {
   "cell_type": "code",
   "execution_count": 14,
   "metadata": {},
   "outputs": [
    {
     "name": "stdout",
     "output_type": "stream",
     "text": [
      "hello deepak\n",
      "HI deepak\n",
      "hello deepak\n",
      "HI deepak\n",
      "hello deepak\n",
      "HI deepak\n",
      "hello deepak\n",
      "HI deepak\n",
      "hello deepak\n",
      "HI deepak\n",
      "hello deepak\n",
      "HI deepak\n",
      "hello deepak\n",
      "HI deepak\n",
      "hello deepak\n",
      "HI deepak\n"
     ]
    }
   ],
   "source": [
    "# sometime they will collide together because when we sleep both thread when they wake up together and they both run came time in cpu\n",
    "# so to avoid that problrm we will make some gap between two process\n",
    "from threading import *\n",
    "from time import sleep   # it will help to sleep the proices for paticular time\n",
    "class Hello(Thread):\n",
    "    def run(self):   #it is the compulsory method for the thread \n",
    "        for i in range(10):\n",
    "            print(\"hello deepak\")\n",
    "            sleep(1)\n",
    "class Hi(Thread):\n",
    "    def run(self):\n",
    "        for i in range(10):\n",
    "            print(\"HI deepak\")\n",
    "            sleep(1)\n",
    "obj1=Hello()\n",
    "obj2=Hi()\n",
    "obj1.start()   # donu simultaneoulsy hoga toh both method object wil  create simultaneously and the method wil be called \n",
    "sleep(0.2)\n",
    "obj2.start()"
   ]
  },
  {
   "cell_type": "code",
   "execution_count": 17,
   "metadata": {},
   "outputs": [
    {
     "name": "stdout",
     "output_type": "stream",
     "text": [
      "hello deepak\n",
      "HI deepak\n",
      "bye\n",
      "hello deepak\n",
      "HI deepak\n",
      "hello deepak\n",
      "HI deepak\n",
      "hello deepak\n",
      "HI deepak\n",
      "hello deepak\n",
      "HI deepak\n"
     ]
    }
   ],
   "source": [
    "from threading import *\n",
    "from time import sleep   # it will help to sleep the proices for paticular time\n",
    "class Hello(Thread):\n",
    "    def run(self):   #it is the compulsory method for the thread \n",
    "        for i in range(5):\n",
    "            print(\"hello deepak\")\n",
    "            sleep(1)\n",
    "class Hi(Thread):\n",
    "    def run(self):\n",
    "        for i in range(5):\n",
    "            print(\"HI deepak\")\n",
    "            sleep(1)\n",
    "obj1=Hello()\n",
    "obj2=Hi()\n",
    "obj1.start()  \n",
    "sleep(0.2)   #between execution of these two thread we have to sleep for some time\n",
    "obj2.start()\n",
    "print(\"bye\")    #here bye print after the first execution of first and seconf object because \"bye\" is join to main thread and oibj1 and obj2 was busy to print there own method so the main method was free so at that time main method wil execute it own statement\n",
    "# but we want that the main method should execute after the finishing of both thread "
   ]
  },
  {
   "cell_type": "code",
   "execution_count": 20,
   "metadata": {},
   "outputs": [
    {
     "name": "stdout",
     "output_type": "stream",
     "text": [
      "hello deepak\n",
      "HI deepak\n",
      "hello deepak\n",
      "HI deepak\n",
      "hello deepak\n",
      "HI deepak\n",
      "hello deepak\n",
      "HI deepak\n",
      "hello deepak\n",
      "HI deepak\n",
      "bye\n"
     ]
    }
   ],
   "source": [
    "# but we want that the main method should execute after the finishing of both thread \n",
    "# so we will use (join) name of method with both thread \n",
    "from threading import *\n",
    "from time import sleep   # it will help to sleep the process for particular time\n",
    "class Hello(Thread):\n",
    "    def run(self):   #it is the compulsory method for the thread \n",
    "        for i in range(5):\n",
    "            print(\"hello deepak\")\n",
    "            sleep(1)\n",
    "class Hi(Thread):\n",
    "    def run(self):\n",
    "        for i in range(5):\n",
    "            print(\"HI deepak\")\n",
    "            sleep(1)\n",
    "obj1=Hello()\n",
    "obj2=Hi()\n",
    "obj1.start()  \n",
    "sleep(0.2)   #between execution of these two thread we have to sleep for some time\n",
    "obj2.start()\n",
    "obj1.join()    # so it will help to execute the all thread and at the end the main thread will execute\n",
    "obj2.join()\n",
    "print(\"bye\")   #this is the statment was outside the thread so it is attach to the main thread by using join method it wil execute at the end"
   ]
  },
  {
   "cell_type": "code",
   "execution_count": 2,
   "metadata": {},
   "outputs": [
    {
     "name": "stdout",
     "output_type": "stream",
     "text": [
      "what is your name?\n",
      "my name is deepak\n",
      "have u done ur lunch\n",
      "yes\n"
     ]
    }
   ],
   "source": [
    "from threading import *\n",
    "from time import sleep \n",
    "class A(Thread):\n",
    "    def run(self):\n",
    "        print(\"what is your name?\")\n",
    "        #sleep(6)   #this sleep method will come in work when there wil be any statement down this sleep method so that statement will sleep for that much paticular time\n",
    "        #print(\"wrong\")\n",
    "class B(Thread):\n",
    "    def run(self):\n",
    "        print(\"my name is deepak\")\n",
    "       # sleep(2)\n",
    "class C(Thread):\n",
    "    def run(self):\n",
    "        print(\"have u done ur lunch\")\n",
    "     #  sleep(3)   #idher sleep ka fayda nhi hai q ki uske niche koe statement hi nhi haijo execute hgi\n",
    "class D(Thread):\n",
    "    def run(self):\n",
    "        print(\"yes\")\n",
    "      # sleep(4)\n",
    "#print(\"work finished\")\n",
    "a=A()\n",
    "b=B()\n",
    "c=C()\n",
    "d=D()\n",
    "a.start()\n",
    "sleep(1)   # ek ek karke method execute hoga means there will certain time gap between two start method\n",
    "b.start()\n",
    "sleep(1)   #this sleep wil work when we want a paticular interval between two thread, mean when we want certain period of interval between 2 thread\n",
    "c.start()\n",
    "sleep(1)\n",
    "d.start()"
   ]
  },
  {
   "cell_type": "code",
   "execution_count": 13,
   "metadata": {},
   "outputs": [
    {
     "name": "stdout",
     "output_type": "stream",
     "text": [
      "hello\n",
      "bye\n",
      "hello\n",
      "bye\n",
      "hello\n",
      "bye\n",
      "hello\n",
      "bye\n",
      "hello\n",
      "bye\n"
     ]
    }
   ],
   "source": [
    "from threading import *\n",
    "from time import sleep\n",
    "class A(Thread):\n",
    "    def run(self):\n",
    "        for i in range(5):\n",
    "            print(\"hello\")\n",
    "            sleep(2)\n",
    "            \n",
    "class B(Thread):\n",
    "    def run(self):\n",
    "        for i in range(5):\n",
    "            print(\"bye\")\n",
    "            sleep(2)\n",
    "a=A()\n",
    "b=B()\n",
    "a.start()\n",
    "sleep(1)  #to make a perfect execution of method the sleep time between 2 method should be half of the sleep time between two run method\n",
    "b.start()"
   ]
  },
  {
   "cell_type": "code",
   "execution_count": null,
   "metadata": {},
   "outputs": [],
   "source": []
  }
 ],
 "metadata": {
  "kernelspec": {
   "display_name": "Python 3",
   "language": "python",
   "name": "python3"
  },
  "language_info": {
   "codemirror_mode": {
    "name": "ipython",
    "version": 3
   },
   "file_extension": ".py",
   "mimetype": "text/x-python",
   "name": "python",
   "nbconvert_exporter": "python",
   "pygments_lexer": "ipython3",
   "version": "3.7.4"
  }
 },
 "nbformat": 4,
 "nbformat_minor": 2
}
