{
 "cells": [
  {
   "cell_type": "code",
   "execution_count": 4,
   "metadata": {},
   "outputs": [
    {
     "name": "stdout",
     "output_type": "stream",
     "text": [
      "12\n",
      "10\n"
     ]
    }
   ],
   "source": [
    "# the variable inside the function is known as local variable\n",
    "#the variable outside the function is known as global variable\n",
    "a=10 #scope of this function is everywhere because it is global function\n",
    "def inside():\n",
    "    a=12\n",
    "    print(a) #it is local because it inside the function\n",
    "inside()\n",
    "print(a)\n",
    "#here first the value of local value get printed so it means it will give preference to the local variable and than to the global variable"
   ]
  },
  {
   "cell_type": "code",
   "execution_count": 5,
   "metadata": {},
   "outputs": [
    {
     "name": "stdout",
     "output_type": "stream",
     "text": [
      "12\n",
      "12\n"
     ]
    }
   ],
   "source": [
    "#we can acces the global variable inside the function\n",
    "a=12\n",
    "def outside():\n",
    "    print (a)    #we can acces the global variable\n",
    "outside()\n",
    "print(a)"
   ]
  },
  {
   "cell_type": "markdown",
   "metadata": {},
   "source": [
    "# to chnage the local variable to local variable"
   ]
  },
  {
   "cell_type": "code",
   "execution_count": 7,
   "metadata": {},
   "outputs": [
    {
     "name": "stdout",
     "output_type": "stream",
     "text": [
      "20\n",
      "20\n"
     ]
    }
   ],
   "source": [
    "# to change the local to global we can use global as a keyword\n",
    "a=23\n",
    "def yaho():\n",
    "    global b\n",
    "    b=20\n",
    "    print(b)\n",
    "yaho()\n",
    "print(b) #by specifying we can make local variable to global variable"
   ]
  },
  {
   "cell_type": "code",
   "execution_count": 10,
   "metadata": {},
   "outputs": [
    {
     "name": "stdout",
     "output_type": "stream",
     "text": [
      "in side the function  20\n",
      "outside the function 20\n"
     ]
    }
   ],
   "source": [
    "a=23\n",
    "def yaho():\n",
    "    global a\n",
    "    a=20       #here the value of a changes\n",
    "    print('in side the function ',a)\n",
    "yaho()\n",
    "print('outside the function',a)  #values changes"
   ]
  },
  {
   "cell_type": "markdown",
   "metadata": {},
   "source": [
    "# use of globals"
   ]
  },
  {
   "cell_type": "code",
   "execution_count": 18,
   "metadata": {},
   "outputs": [
    {
     "name": "stdout",
     "output_type": "stream",
     "text": [
      "94922044098016\n",
      "94922044098016\n",
      "10\n",
      "120\n"
     ]
    }
   ],
   "source": [
    "# to use global and local variable at same function\n",
    "# we use akeyword  globals\n",
    "a=23\n",
    "print(id(a))\n",
    "def yaho():\n",
    "    a=10    #local variable\n",
    "    c=globals()['a']   # globals is keyword\n",
    "    print(id(c)) # the id is same as a\n",
    "    print(a) #the value of (a) will be assigned to c\n",
    "    \n",
    "    #to change the value to global\n",
    "    globals()['a']=120\n",
    "    \n",
    "    \n",
    "yaho()\n",
    "print(a)"
   ]
  },
  {
   "cell_type": "code",
   "execution_count": null,
   "metadata": {},
   "outputs": [],
   "source": []
  }
 ],
 "metadata": {
  "kernelspec": {
   "display_name": "Python 3",
   "language": "python",
   "name": "python3"
  },
  "language_info": {
   "codemirror_mode": {
    "name": "ipython",
    "version": 3
   },
   "file_extension": ".py",
   "mimetype": "text/x-python",
   "name": "python",
   "nbconvert_exporter": "python",
   "pygments_lexer": "ipython3",
   "version": "3.7.4"
  }
 },
 "nbformat": 4,
 "nbformat_minor": 2
}
