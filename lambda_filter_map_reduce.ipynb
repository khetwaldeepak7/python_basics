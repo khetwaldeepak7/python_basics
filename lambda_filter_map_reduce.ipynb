{
 "cells": [
  {
   "cell_type": "markdown",
   "metadata": {},
   "source": [
    "# LAMBDA \n",
    "# Filter\n",
    "# Map\n",
    "# Reduce"
   ]
  },
  {
   "cell_type": "code",
   "execution_count": 4,
   "metadata": {},
   "outputs": [
    {
     "data": {
      "text/plain": [
       "0"
      ]
     },
     "execution_count": 4,
     "metadata": {},
     "output_type": "execute_result"
    }
   ],
   "source": [
    "re=lambda a,b,c:a+b-c\n",
    "r=re(20,10,30)\n",
    "r"
   ]
  },
  {
   "cell_type": "code",
   "execution_count": 5,
   "metadata": {},
   "outputs": [
    {
     "name": "stdout",
     "output_type": "stream",
     "text": [
      "[2, 4, 6, 6, 8]\n"
     ]
    }
   ],
   "source": [
    "#filter take 2 argument \n",
    "#  1) name of function (where the operation will take place)\n",
    "# 2) list,logic or sequence\n",
    "#  find the even number from the list\n",
    "def yaho(n):\n",
    "    return n %2==0   # in the function we have written a condition \n",
    "    \n",
    "even=[1,2,3,4,5,6,6,7,8,9,13]         \n",
    "result=list(filter(yaho,even))        #as mentioned the filter takes 2 argument (1)function name (2) list or logic\n",
    "                                    # we want the result in the form of list so we will make it list\n",
    "print(result)\n"
   ]
  },
  {
   "cell_type": "code",
   "execution_count": 9,
   "metadata": {},
   "outputs": [
    {
     "name": "stdout",
     "output_type": "stream",
     "text": [
      "[2, 4, 6, 6, 8]\n"
     ]
    }
   ],
   "source": [
    "even=[1,2,3,4,5,6,6,7,8,9,13]     #list\n",
    "result=list(filter(lambda n:n%2==0,even))   #with lambda\n",
    "print(result)"
   ]
  },
  {
   "cell_type": "code",
   "execution_count": 12,
   "metadata": {},
   "outputs": [
    {
     "name": "stdout",
     "output_type": "stream",
     "text": [
      "[3, 4, 5, 5, 6, 7, 58, 8, 9, 10]\n"
     ]
    }
   ],
   "source": [
    "#map take 2 argument \n",
    "#1)function\n",
    "#2)argument\n",
    "def fu(n):# declare afunction\n",
    "    return n+2    #here it will return the value so some variable is required to store that value  that y we used result variable\n",
    "number=[1,2,3,3,4,5,56,6,7,8]\n",
    "result=list(map(fu,number))   #map take to argument one name of function in which the operation will take place and other is the variable in which the operation will be perform\n",
    "print(result)"
   ]
  },
  {
   "cell_type": "code",
   "execution_count": 14,
   "metadata": {},
   "outputs": [
    {
     "name": "stdout",
     "output_type": "stream",
     "text": [
      "[3, 4, 5, 5, 6, 7, 58, 8, 9, 10]\n"
     ]
    }
   ],
   "source": [
    " #let try using lambda function\n",
    "    \n",
    "number=[1,2,3,3,4,5,56,6,7,8]\n",
    "result=list(map(lambda a:a+2,number))\n",
    "print(result)"
   ]
  },
  {
   "cell_type": "code",
   "execution_count": 17,
   "metadata": {},
   "outputs": [
    {
     "name": "stdout",
     "output_type": "stream",
     "text": [
      "95\n"
     ]
    }
   ],
   "source": [
    "# reduce :this is a module which is inside the functools \n",
    "# it take 2 argument (1) function  2)  sequence\n",
    "# reduce is always done with 2 number so while passing the the value to function we have to give 2 parameter to it\n",
    "from functools import *   # because we have to import the reduce\n",
    "def ft(a,b):\n",
    "    return a+b\n",
    "number=[1,2,3,3,4,5,56,6,7,8]\n",
    "result=reduce(ft,number)\n",
    "print(result)\n",
    "\n"
   ]
  },
  {
   "cell_type": "code",
   "execution_count": 19,
   "metadata": {},
   "outputs": [
    {
     "name": "stdout",
     "output_type": "stream",
     "text": [
      "95\n"
     ]
    }
   ],
   "source": [
    "#using lambda function\n",
    "number=[1,2,3,3,4,5,56,6,7,8]\n",
    "result=reduce(lambda a,b:a+b,number)\n",
    "print(result)"
   ]
  },
  {
   "cell_type": "code",
   "execution_count": null,
   "metadata": {},
   "outputs": [],
   "source": []
  }
 ],
 "metadata": {
  "kernelspec": {
   "display_name": "Python 3",
   "language": "python",
   "name": "python3"
  },
  "language_info": {
   "codemirror_mode": {
    "name": "ipython",
    "version": 3
   },
   "file_extension": ".py",
   "mimetype": "text/x-python",
   "name": "python",
   "nbconvert_exporter": "python",
   "pygments_lexer": "ipython3",
   "version": "3.7.4"
  }
 },
 "nbformat": 4,
 "nbformat_minor": 2
}
