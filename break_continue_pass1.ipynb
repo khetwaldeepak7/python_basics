{
 "cells": [
  {
   "cell_type": "code",
   "execution_count": 8,
   "metadata": {},
   "outputs": [
    {
     "name": "stdout",
     "output_type": "stream",
     "text": [
      "hi deepak 4\n"
     ]
    }
   ],
   "source": [
    "#here we  print only 4 by putting condition\n",
    "for i in range(1,10):\n",
    "    if i!=4:\n",
    "        continue\n",
    "    else:\n",
    "        print (\"hi deepak\" ,i)"
   ]
  },
  {
   "cell_type": "code",
   "execution_count": 9,
   "metadata": {},
   "outputs": [
    {
     "name": "stdout",
     "output_type": "stream",
     "text": [
      "another way  1\n",
      "another way  2\n",
      "another way  3\n",
      "another way  5\n",
      "another way  6\n",
      "another way  7\n",
      "another way  8\n",
      "another way  9\n",
      "another way  10\n"
     ]
    }
   ],
   "source": [
    "# here we will exclude the number 4\n",
    "for i in range(1,11):\n",
    "    if i==4:\n",
    "        continue\n",
    "    else:\n",
    "        print(\"another way \",i)"
   ]
  },
  {
   "cell_type": "code",
   "execution_count": 10,
   "metadata": {},
   "outputs": [
    {
     "name": "stdout",
     "output_type": "stream",
     "text": [
      "another way  1\n",
      "another way  2\n",
      "another way  3\n",
      "another way  5\n",
      "another way  6\n",
      "another way  7\n",
      "another way  8\n",
      "another way  9\n",
      "another way  10\n"
     ]
    }
   ],
   "source": [
    "for i in range(1,11):\n",
    "    if i==4:\n",
    "        pass\n",
    "    else:\n",
    "        print(\"another way \",i)"
   ]
  },
  {
   "cell_type": "markdown",
   "metadata": {},
   "source": [
    "# pass is used when we are not sure what operation get perform , "
   ]
  },
  {
   "cell_type": "code",
   "execution_count": null,
   "metadata": {},
   "outputs": [],
   "source": [
    "#use of pass with function\n",
    "def fun():# def is used to define the function\n",
    "    pass"
   ]
  },
  {
   "cell_type": "code",
   "execution_count": null,
   "metadata": {},
   "outputs": [],
   "source": []
  }
 ],
 "metadata": {
  "kernelspec": {
   "display_name": "Python 3",
   "language": "python",
   "name": "python3"
  },
  "language_info": {
   "codemirror_mode": {
    "name": "ipython",
    "version": 3
   },
   "file_extension": ".py",
   "mimetype": "text/x-python",
   "name": "python",
   "nbconvert_exporter": "python",
   "pygments_lexer": "ipython3",
   "version": "3.7.4"
  }
 },
 "nbformat": 4,
 "nbformat_minor": 2
}
