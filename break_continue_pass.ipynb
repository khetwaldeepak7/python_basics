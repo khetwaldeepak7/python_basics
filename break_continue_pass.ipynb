{
 "cells": [
  {
   "cell_type": "code",
   "execution_count": 22,
   "metadata": {},
   "outputs": [
    {
     "name": "stdout",
     "output_type": "stream",
     "text": [
      "enter the number of candy in vending machine\n",
      "10\n",
      "number of candy customer want\n",
      "9\n",
      "candy\n",
      "candy\n",
      "candy\n",
      "candy\n",
      "candy\n",
      "candy\n",
      "candy\n",
      "candy\n",
      "candy\n"
     ]
    }
   ],
   "source": [
    "#candy vending machine\n",
    "y=int(input(\"enter the number of candy in vending machine\\n\"))\n",
    "#print(\"number of candy added by customer \" + y)\n",
    "x=int(input(\"number of candy customer want\\n\")) # we have return int because while taking input it take in the form of string\n",
    "if y<x:\n",
    "    print(\"out of stock\")\n",
    "else:\n",
    "    i=1\n",
    "    while i<=x:\n",
    "     print(\"candy\")\n",
    "     i=i+1\n",
    "    \n"
   ]
  },
  {
   "cell_type": "markdown",
   "metadata": {},
   "source": [
    "# using of break loop"
   ]
  },
  {
   "cell_type": "code",
   "execution_count": 5,
   "metadata": {},
   "outputs": [
    {
     "name": "stdout",
     "output_type": "stream",
     "text": [
      "enter the number of candy in machine\n",
      "10\n",
      "number of candy\n",
      "5\n",
      "candy\n",
      "candy\n",
      "candy\n",
      "candy\n",
      "candy\n"
     ]
    }
   ],
   "source": [
    "# break will break the loop n jump u out of loo\n",
    "x=int(input(\"enter the number of candy in machine\\n\"))\n",
    "y=int(input(\"number of candy\\n\"))\n",
    "i=1\n",
    "while i<=y:\n",
    "    if y>x: \n",
    "        print(\"out of stock\")\n",
    "        break\n",
    "    else:\n",
    "      print(\"candy\")\n",
    "      i=i+1"
   ]
  },
  {
   "cell_type": "code",
   "execution_count": 30,
   "metadata": {},
   "outputs": [
    {
     "name": "stdout",
     "output_type": "stream",
     "text": [
      "3\n",
      "6\n",
      "9\n",
      "12\n",
      "15\n",
      "18\n",
      "21\n",
      "24\n",
      "27\n",
      "30\n",
      "33\n",
      "36\n",
      "39\n",
      "42\n",
      "45\n",
      "48\n",
      "51\n",
      "54\n",
      "57\n",
      "60\n",
      "63\n",
      "66\n",
      "69\n",
      "72\n",
      "75\n",
      "78\n",
      "81\n",
      "84\n",
      "87\n",
      "90\n",
      "93\n",
      "96\n",
      "99\n"
     ]
    }
   ],
   "source": [
    "#print(range(100))\n",
    "x=list((range(1,101)))# range will print number and list will convert it into single array ,in which it will hold single single value and perform a operation\n",
    "type(x)\n",
    "for i in x:\n",
    "    if i%3==0:#& x%5==0:\n",
    "     print(i)"
   ]
  },
  {
   "cell_type": "markdown",
   "metadata": {},
   "source": [
    "# use of CONTINUE"
   ]
  },
  {
   "cell_type": "code",
   "execution_count": 40,
   "metadata": {},
   "outputs": [
    {
     "name": "stdout",
     "output_type": "stream",
     "text": [
      "1\n",
      "2\n",
      "4\n",
      "5\n",
      "7\n",
      "8\n",
      "10\n",
      "11\n",
      "13\n",
      "14\n",
      "16\n",
      "17\n",
      "19\n",
      "20\n",
      "22\n",
      "23\n",
      "25\n",
      "26\n",
      "28\n",
      "29\n",
      "31\n",
      "32\n",
      "34\n",
      "35\n",
      "37\n",
      "38\n",
      "40\n",
      "41\n",
      "43\n",
      "44\n",
      "46\n",
      "47\n",
      "49\n",
      "50\n",
      "52\n",
      "53\n",
      "55\n",
      "56\n",
      "58\n",
      "59\n",
      "61\n",
      "62\n",
      "64\n",
      "65\n",
      "67\n",
      "68\n",
      "70\n",
      "71\n",
      "73\n",
      "74\n",
      "76\n",
      "77\n",
      "79\n",
      "80\n",
      "82\n",
      "83\n",
      "85\n",
      "86\n",
      "88\n",
      "89\n",
      "91\n",
      "92\n",
      "94\n",
      "95\n",
      "97\n",
      "98\n",
      "100\n"
     ]
    }
   ],
   "source": [
    "#  PRINT THE NUMBER WHICH ARE NOT DIVISIBLE BY 3\n",
    "for i in range(1,101):\n",
    "    if i%3==0:\n",
    "        continue\n",
    "    print(i)"
   ]
  },
  {
   "cell_type": "code",
   "execution_count": 41,
   "metadata": {},
   "outputs": [
    {
     "name": "stdout",
     "output_type": "stream",
     "text": [
      "3\n",
      "6\n",
      "9\n",
      "12\n",
      "15\n",
      "18\n",
      "21\n",
      "24\n",
      "27\n",
      "30\n",
      "33\n",
      "36\n",
      "39\n",
      "42\n",
      "45\n",
      "48\n",
      "51\n",
      "54\n",
      "57\n",
      "60\n",
      "63\n",
      "66\n",
      "69\n",
      "72\n",
      "75\n",
      "78\n",
      "81\n",
      "84\n",
      "87\n",
      "90\n",
      "93\n",
      "96\n",
      "99\n"
     ]
    }
   ],
   "source": [
    "#number which are divisible by 3\n",
    "for i in range(1,101):\n",
    "    if i%3==0:\n",
    "        print(i)\n",
    "    else:\n",
    "        continue\n"
   ]
  },
  {
   "cell_type": "markdown",
   "metadata": {},
   "source": [
    "# use of pass"
   ]
  },
  {
   "cell_type": "code",
   "execution_count": 43,
   "metadata": {},
   "outputs": [
    {
     "name": "stdout",
     "output_type": "stream",
     "text": [
      "bye\n"
     ]
    }
   ],
   "source": [
    "# pass is use when we dont want to give body\n",
    "for i in range(1,4):\n",
    "    if i%2!=0:\n",
    "        #print(\"hi\")\n",
    "        pass\n",
    "    else:\n",
    "        print(\"bye\")"
   ]
  },
  {
   "cell_type": "code",
   "execution_count": null,
   "metadata": {},
   "outputs": [],
   "source": []
  }
 ],
 "metadata": {
  "kernelspec": {
   "display_name": "Python 3",
   "language": "python",
   "name": "python3"
  },
  "language_info": {
   "codemirror_mode": {
    "name": "ipython",
    "version": 3
   },
   "file_extension": ".py",
   "mimetype": "text/x-python",
   "name": "python",
   "nbconvert_exporter": "python",
   "pygments_lexer": "ipython3",
   "version": "3.7.4"
  }
 },
 "nbformat": 4,
 "nbformat_minor": 2
}
