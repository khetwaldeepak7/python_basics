{
 "cells": [
  {
   "cell_type": "code",
   "execution_count": 1,
   "metadata": {},
   "outputs": [],
   "source": [
    "# bubble sort: which  is used for sorting purpose"
   ]
  },
  {
   "cell_type": "code",
   "execution_count": 6,
   "metadata": {},
   "outputs": [
    {
     "name": "stdout",
     "output_type": "stream",
     "text": [
      "[1, 2, 3, 5, 8, 10]\n"
     ]
    }
   ],
   "source": [
    "def bubble(num):\n",
    "    b=len(num)\n",
    "    #size=len(num)\n",
    "    for i in range(b):\n",
    "        for j in range(i):\n",
    "            if(num[j]>num[j+1]):\n",
    "                temp=num[j]\n",
    "                num[j]=num[j+1]\n",
    "                num[j+1]=temp \n",
    "                size=size-1\n",
    "\n",
    "number=[1,3,5,2,10,8]\n",
    "bubble(number)\n",
    "print(number)"
   ]
  },
  {
   "cell_type": "markdown",
   "metadata": {},
   "source": [
    "# bubble sorting using user input"
   ]
  },
  {
   "cell_type": "code",
   "execution_count": 10,
   "metadata": {},
   "outputs": [
    {
     "name": "stdout",
     "output_type": "stream",
     "text": [
      "enter the length of number5\n",
      "12\n",
      "4\n",
      "2\n",
      "75\n",
      "34\n",
      "[12, 4, 2, 75, 34]\n",
      "[2, 4, 12, 34, 75]\n"
     ]
    }
   ],
   "source": [
    "def bubble(num):\n",
    "    size=len(num)\n",
    "    for i  in range(size):\n",
    "        for j in range(i):\n",
    "            if(num[j]>num[j+1]):\n",
    "                temp=num[j]\n",
    "                num[j]=num[j+1]\n",
    "                num[j+1]=temp\n",
    "                size=size-1\n",
    "    \n",
    "number=[]\n",
    "length=int(input(\"enter the length of number\"))\n",
    "for i in range(length):\n",
    "    x=int(input(\"\"))\n",
    "    number.append(x)\n",
    "print(number) \n",
    "bubble(number)\n",
    "print(number)"
   ]
  },
  {
   "cell_type": "code",
   "execution_count": null,
   "metadata": {},
   "outputs": [],
   "source": []
  }
 ],
 "metadata": {
  "kernelspec": {
   "display_name": "Python 3",
   "language": "python",
   "name": "python3"
  },
  "language_info": {
   "codemirror_mode": {
    "name": "ipython",
    "version": 3
   },
   "file_extension": ".py",
   "mimetype": "text/x-python",
   "name": "python",
   "nbconvert_exporter": "python",
   "pygments_lexer": "ipython3",
   "version": "3.7.4"
  }
 },
 "nbformat": 4,
 "nbformat_minor": 2
}
