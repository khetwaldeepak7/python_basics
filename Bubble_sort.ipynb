{
 "cells": [
  {
   "cell_type": "code",
   "execution_count": 1,
   "metadata": {},
   "outputs": [],
   "source": [
    "# bubble sort: which  is used for sorting purpose"
   ]
  },
  {
   "cell_type": "code",
   "execution_count": null,
   "metadata": {},
   "outputs": [],
   "source": [
    "# in the bubble sort we will get the maximun values at the end of each itteration"
   ]
  },
  {
   "cell_type": "code",
   "execution_count": 6,
   "metadata": {},
   "outputs": [
    {
     "name": "stdout",
     "output_type": "stream",
     "text": [
      "[1, 2, 3, 5, 8, 10]\n"
     ]
    }
   ],
   "source": [
    "def bubble(num):\n",
    "    b=len(num)\n",
    "    #size=len(num)\n",
    "    for i in range(b):\n",
    "        for j in range(i):\n",
    "            if(num[j]>num[j+1]):\n",
    "                temp=num[j]\n",
    "                num[j]=num[j+1]\n",
    "                num[j+1]=temp \n",
    "                size=size-1\n",
    "\n",
    "number=[1,3,5,2,10,8]\n",
    "bubble(number)\n",
    "print(number)"
   ]
  },
  {
   "cell_type": "markdown",
   "metadata": {},
   "source": [
    "# bubble sorting using user input"
   ]
  },
  {
   "cell_type": "code",
   "execution_count": 26,
   "metadata": {},
   "outputs": [
    {
     "name": "stdout",
     "output_type": "stream",
     "text": [
      "enter the length of number3\n",
      "12\n",
      "4\n",
      "54\n",
      "[12, 4, 54]\n",
      "[4, 12, 54]\n"
     ]
    }
   ],
   "source": [
    "def bubble(num):\n",
    "    size=len(num)\n",
    "    for i  in range(size):  #here the size will goes on decreasing because at one repitetation we will get one maximum value at end so we dont want to repeat that process again\n",
    "       \n",
    "        for j in range(i):\n",
    "            if(num[j]>num[j+1]):\n",
    "                temp=num[j]\n",
    "                num[j]=num[j+1]\n",
    "                num[j+1]=temp\n",
    "                size=size-1\n",
    "    \n",
    "number=[]\n",
    "length=int(input(\"enter the length of number\"))\n",
    "for i in range(length):     #taking input from the user n putting it into the list\n",
    "    x=int(input(\"\"))\n",
    "    number.append(x)\n",
    "print(number) \n",
    "bubble(number)\n",
    "print(number)"
   ]
  },
  {
   "cell_type": "code",
   "execution_count": 25,
   "metadata": {},
   "outputs": [
    {
     "name": "stdout",
     "output_type": "stream",
     "text": [
      "enter the length of list 3\n",
      "12\n",
      "1\n",
      "45\n",
      "[12, 1, 45]\n",
      "[1, 12, 45]\n"
     ]
    }
   ],
   "source": [
    "# in the bubble sorting we will perform the operation\n",
    "\n",
    "def solution(l):\n",
    "    r=len(l)\n",
    "    for i in range(r):\n",
    "        for j in range(i):\n",
    "            if(l[j]>l[j+1]):\n",
    "                temp=l[j]\n",
    "                l[j]=l[j+1]\n",
    "                l[j+1]=temp\n",
    "                r=r-1\n",
    "    #return l\n",
    "\n",
    "l=[]\n",
    "length=int(input(\"enter the length of list \"))\n",
    "for i in range(length):\n",
    "    y=int(input())\n",
    "    l.append(y)\n",
    "print(l)\n",
    "solution(l)\n",
    "print(l)\n"
   ]
  },
  {
   "cell_type": "code",
   "execution_count": null,
   "metadata": {},
   "outputs": [],
   "source": []
  }
 ],
 "metadata": {
  "kernelspec": {
   "display_name": "Python 3",
   "language": "python",
   "name": "python3"
  },
  "language_info": {
   "codemirror_mode": {
    "name": "ipython",
    "version": 3
   },
   "file_extension": ".py",
   "mimetype": "text/x-python",
   "name": "python",
   "nbconvert_exporter": "python",
   "pygments_lexer": "ipython3",
   "version": "3.7.4"
  }
 },
 "nbformat": 4,
 "nbformat_minor": 2
}
