{
 "cells": [
  {
   "cell_type": "markdown",
   "metadata": {},
   "source": [
    "# 1)instance method\n",
    "# 2)class method\n",
    "# 3)static method"
   ]
  },
  {
   "cell_type": "code",
   "execution_count": 16,
   "metadata": {},
   "outputs": [
    {
     "name": "stdout",
     "output_type": "stream",
     "text": [
      "2.5\n",
      "4.0\n"
     ]
    }
   ],
   "source": [
    " class School:\n",
    "        school=\"dk\"\n",
    "        def __init__(self,m1,m2):\n",
    "#            print(m1)\n",
    "            self.m1=m1\n",
    "            self.m2=m2\n",
    "            #print(m1)\n",
    "        def average(self):   #this is instance method because we are using self\n",
    "            return (self.m1+self.m2)/2\n",
    "s1=School(2,3)\n",
    "s2=School(5,3)\n",
    "print(s1.average())    #we can called by the reference variable\n",
    "print(s2.average())"
   ]
  },
  {
   "cell_type": "markdown",
   "metadata": {},
   "source": [
    "# instance method are of 2 type\n",
    "# 1)Accessor : get method\n",
    "# 2)Mutator : set method"
   ]
  },
  {
   "cell_type": "code",
   "execution_count": 19,
   "metadata": {},
   "outputs": [
    {
     "name": "stdout",
     "output_type": "stream",
     "text": [
      "2.5\n",
      "5\n"
     ]
    }
   ],
   "source": [
    " class School:\n",
    "        school=\"dk\"\n",
    "        def __init__(self,m1,m2):\n",
    "#            print(m1)\n",
    "            self.m1=m1\n",
    "            self.m2=m2\n",
    "            #print(m1)\n",
    "        def average(self):  \n",
    "            return (self.m1+self.m2)/2\n",
    "        def get_m1(self):\n",
    "            return (self.m1)    #here the value of m1 will be passes to s2\n",
    "s1=School(2,3)\n",
    "s2=School(5,3)\n",
    "print(s1.average())    \n",
    "print(s2.get_m1())   # as we had called the s2 get method"
   ]
  },
  {
   "cell_type": "markdown",
   "metadata": {},
   "source": [
    "# class mathod"
   ]
  },
  {
   "cell_type": "code",
   "execution_count": 20,
   "metadata": {},
   "outputs": [
    {
     "ename": "TypeError",
     "evalue": "info() missing 1 required positional argument: 'cls'",
     "output_type": "error",
     "traceback": [
      "\u001b[0;31m---------------------------------------------------------------------------\u001b[0m",
      "\u001b[0;31mTypeError\u001b[0m                                 Traceback (most recent call last)",
      "\u001b[0;32m<ipython-input-20-3ed59bd8f0a6>\u001b[0m in \u001b[0;36m<module>\u001b[0;34m\u001b[0m\n\u001b[1;32m      9\u001b[0m         \u001b[0;32mdef\u001b[0m \u001b[0minfo\u001b[0m\u001b[0;34m(\u001b[0m\u001b[0mcls\u001b[0m\u001b[0;34m)\u001b[0m\u001b[0;34m:\u001b[0m  \u001b[0;31m#insted ofself we have to use cls\u001b[0m\u001b[0;34m\u001b[0m\u001b[0;34m\u001b[0m\u001b[0m\n\u001b[1;32m     10\u001b[0m             \u001b[0;32mreturn\u001b[0m \u001b[0mcls\u001b[0m\u001b[0;34m.\u001b[0m\u001b[0mschool\u001b[0m\u001b[0;34m\u001b[0m\u001b[0;34m\u001b[0m\u001b[0m\n\u001b[0;32m---> 11\u001b[0;31m \u001b[0mprint\u001b[0m\u001b[0;34m(\u001b[0m\u001b[0mSchool\u001b[0m\u001b[0;34m.\u001b[0m\u001b[0minfo\u001b[0m\u001b[0;34m(\u001b[0m\u001b[0;34m)\u001b[0m\u001b[0;34m)\u001b[0m\u001b[0;34m\u001b[0m\u001b[0;34m\u001b[0m\u001b[0m\n\u001b[0m",
      "\u001b[0;31mTypeError\u001b[0m: info() missing 1 required positional argument: 'cls'"
     ]
    }
   ],
   "source": [
    "# we have to work with class than we will use class variable\n",
    "# if we want to use any method as a class method than we can use decorators\n",
    "#@classmethod\n",
    "class School:\n",
    "        school=\"dk\"\n",
    "        def __init__(self,m1,m2):\n",
    "            self.m1=m1\n",
    "            self.m2=m2\n",
    "            #if we are not using the decorator that time we will get this error\n",
    "        def info(cls):  #insted ofself we have to use cls\n",
    "            return cls.school\n",
    "print(School.info())"
   ]
  },
  {
   "cell_type": "code",
   "execution_count": 22,
   "metadata": {},
   "outputs": [
    {
     "name": "stdout",
     "output_type": "stream",
     "text": [
      "dk\n"
     ]
    }
   ],
   "source": [
    "class School:\n",
    "        school=\"dk\"\n",
    "        def __init__(self,m1,m2):\n",
    "            self.m1=m1\n",
    "            self.m2=m2\n",
    "        @classmethod     #after using decorator the error solve   #for class method we will be using classmethod decorator\n",
    "        def getschool(cls):  #insted of self we have to use cls\n",
    "            return cls.school\n",
    "print(School.getschool())"
   ]
  },
  {
   "cell_type": "code",
   "execution_count": 23,
   "metadata": {},
   "outputs": [
    {
     "data": {
      "text/plain": [
       "<function __main__.School.info()>"
      ]
     },
     "execution_count": 23,
     "metadata": {},
     "output_type": "execute_result"
    }
   ],
   "source": [
    "# static variable\n",
    "#for static method we will not pass anything in the parathesis bracket\n",
    "class School:\n",
    "        school=\"dk\"\n",
    "        def __init__(self,m1,m2):\n",
    "            self.m1=m1\n",
    "            self.m2=m2\n",
    "        @staticmethod   #an for static method we will be using static method decorator\n",
    "        def info():    #in the static method we will keep the bracket empty\n",
    "               print(\"hiii\")\n",
    "        \n",
    "School.info"
   ]
  },
  {
   "cell_type": "code",
   "execution_count": 2,
   "metadata": {},
   "outputs": [
    {
     "name": "stdout",
     "output_type": "stream",
     "text": [
      "3.0\n"
     ]
    }
   ],
   "source": [
    "class D:\n",
    "    def __init__(self,m1,m2):\n",
    "        s3=m1+m2/2\n",
    "        return s3\n",
    "    \n",
    "d1=D(1,4)\n",
    "\n",
    "\n"
   ]
  },
  {
   "cell_type": "code",
   "execution_count": 14,
   "metadata": {},
   "outputs": [
    {
     "name": "stdout",
     "output_type": "stream",
     "text": [
      "<class 'type'>\n",
      "6.333333333333333\n"
     ]
    },
    {
     "data": {
      "text/plain": [
       "NoneType"
      ]
     },
     "execution_count": 14,
     "metadata": {},
     "output_type": "execute_result"
    }
   ],
   "source": [
    "class Dk:\n",
    "    @classmethod\n",
    "    def it(cls,m1,m2,m3):   #class method\n",
    "        d=m1+m2+m3/3\n",
    "        print(d)\n",
    "\n",
    "s1=Dk()\n",
    "print(type(Dk))\n",
    "type(s1.it(2,3,4))"
   ]
  },
  {
   "cell_type": "code",
   "execution_count": 22,
   "metadata": {},
   "outputs": [
    {
     "name": "stdout",
     "output_type": "stream",
     "text": [
      "deepak 20\n"
     ]
    }
   ],
   "source": [
    "class Student:\n",
    "    def __init__(self,name,rollnu):\n",
    "        self.name=name\n",
    "        self.rollnu=rollnu\n",
    "    def show(self):      #method for displaying the result\n",
    "        print(self.name,self.rollnu)    #\n",
    "s1=Student(\"deepak\",20)\n",
    "s1.show()\n",
    "#print(s1.name,s1.rollnu)  #we can also make a function inwhich we can ntake and print the result"
   ]
  },
  {
   "cell_type": "code",
   "execution_count": null,
   "metadata": {},
   "outputs": [],
   "source": []
  }
 ],
 "metadata": {
  "kernelspec": {
   "display_name": "Python 3",
   "language": "python",
   "name": "python3"
  },
  "language_info": {
   "codemirror_mode": {
    "name": "ipython",
    "version": 3
   },
   "file_extension": ".py",
   "mimetype": "text/x-python",
   "name": "python",
   "nbconvert_exporter": "python",
   "pygments_lexer": "ipython3",
   "version": "3.7.4"
  }
 },
 "nbformat": 4,
 "nbformat_minor": 2
}
