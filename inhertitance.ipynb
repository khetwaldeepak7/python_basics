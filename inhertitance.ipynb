{
 "cells": [
  {
   "cell_type": "code",
   "execution_count": 6,
   "metadata": {},
   "outputs": [
    {
     "name": "stdout",
     "output_type": "stream",
     "text": [
      "feature 1 is working\n"
     ]
    }
   ],
   "source": [
    "class A:\n",
    "    def feature1(self):\n",
    "        print(\"feature 1 is working\")\n",
    "    def feature2(self):\n",
    "        print(\"feawture 2 is working\")\n",
    "a1=A()\n",
    "a1.feature1()   #printing the value one by one\n",
    "    "
   ]
  },
  {
   "cell_type": "code",
   "execution_count": 7,
   "metadata": {},
   "outputs": [
    {
     "name": "stdout",
     "output_type": "stream",
     "text": [
      "feawture 2 is working\n"
     ]
    }
   ],
   "source": [
    "a1.feature2()    #printing the value one by one"
   ]
  },
  {
   "cell_type": "code",
   "execution_count": 8,
   "metadata": {},
   "outputs": [],
   "source": [
    "# way to define the child class in pyhton  (inheritance method)"
   ]
  },
  {
   "cell_type": "code",
   "execution_count": 20,
   "metadata": {},
   "outputs": [
    {
     "name": "stdout",
     "output_type": "stream",
     "text": [
      "feature 3 is working\n",
      "feature 1 is working\n"
     ]
    }
   ],
   "source": [
    "class B(A):   #this is the way to define inheritance class it is single inheritance\n",
    "    def feature3(self):\n",
    "        print(\"feature 3 is working\")\n",
    "    def feature4(self):\n",
    "        print(\"feawture 4 is working\")\n",
    "a2=B()\n",
    "a2.feature3()   \n",
    "a2.feature1()  #now we can inheritance the behaviour of parentass"
   ]
  },
  {
   "cell_type": "markdown",
   "metadata": {},
   "source": [
    "# multiple inheritance class"
   ]
  },
  {
   "cell_type": "code",
   "execution_count": 33,
   "metadata": {},
   "outputs": [
    {
     "name": "stdout",
     "output_type": "stream",
     "text": [
      "feature 1 is working\n",
      "None\n",
      "feature 3 is working\n",
      "feature 5 is working\n",
      "None\n"
     ]
    }
   ],
   "source": [
    "#multiple inheritance class\n",
    "#eg. class a inheritage clas b and class b inheritage class c\n",
    "class A:\n",
    "    def feature1(self):\n",
    "        print(\"feature 1 is working\")\n",
    "    def feature2(self):\n",
    "        print(\"feawture 2 is working\")\n",
    "#a1=A()\n",
    "#a1.feature1()   \n",
    "class B(A):  \n",
    "    def feature3(self):\n",
    "        print(\"feature 3 is working\")\n",
    "    def feature4(self):\n",
    "        print(\"feawture 4 is working\")\n",
    "class C(B):  \n",
    "    def feature5(self):\n",
    "        print(\"feature 5 is working\")\n",
    "    def feature6(self):\n",
    "        print(\"feawture 6 is working\")\n",
    "#a2=B()\n",
    "#a2.feature3()   \n",
    "#a2.feature1()\n",
    "c1=C()\n",
    "print(c1.feature1())\n",
    "c1.feature3()\n",
    "print(c1.feature5())"
   ]
  },
  {
   "cell_type": "code",
   "execution_count": null,
   "metadata": {},
   "outputs": [],
   "source": []
  }
 ],
 "metadata": {
  "kernelspec": {
   "display_name": "Python 3",
   "language": "python",
   "name": "python3"
  },
  "language_info": {
   "codemirror_mode": {
    "name": "ipython",
    "version": 3
   },
   "file_extension": ".py",
   "mimetype": "text/x-python",
   "name": "python",
   "nbconvert_exporter": "python",
   "pygments_lexer": "ipython3",
   "version": "3.7.4"
  }
 },
 "nbformat": 4,
 "nbformat_minor": 2
}
