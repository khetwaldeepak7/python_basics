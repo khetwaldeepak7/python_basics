{
 "cells": [
  {
   "cell_type": "markdown",
   "metadata": {},
   "source": [
    "# way to create array in numpy"
   ]
  },
  {
   "cell_type": "markdown",
   "metadata": {},
   "source": [
    "1)array 2)linspace() 3)logspace() 4)arange() 5)zeros() 6)ones()"
   ]
  },
  {
   "cell_type": "markdown",
   "metadata": {},
   "source": [
    "# array"
   ]
  },
  {
   "cell_type": "code",
   "execution_count": 14,
   "metadata": {},
   "outputs": [
    {
     "name": "stdout",
     "output_type": "stream",
     "text": [
      "int64\n"
     ]
    }
   ],
   "source": [
    "from numpy import *\n",
    "arr=array([1,2,3,4])# no need to specify the typecode(datatype) of array\n",
    "print(arr.dtype)# it will check the datatype of array"
   ]
  },
  {
   "cell_type": "code",
   "execution_count": 13,
   "metadata": {},
   "outputs": [
    {
     "name": "stdout",
     "output_type": "stream",
     "text": [
      "[ 1  2  3 56]\n",
      "enter the number2\n",
      "1\n",
      "2\n",
      "56\n"
     ]
    }
   ],
   "source": [
    "from numpy import *#using numpy removing the number on the bases of index number\n",
    "arr=array([1,2,3,56])\n",
    "print(arr)\n",
    "c=0\n",
    "user=int(input(\"enter the index number\"))\n",
    "for i in arr:#here the value of arr(array)will be assigned to i not the index number:\n",
    "    if(c==user):#if block execute the condition \n",
    "        c=c+1\n",
    "        continue\n",
    "    else:\n",
    "        print(i)#printing \n",
    "        c=c+1  #it will increment the value of c after that it wil again cal for loop because the loop repeate not the if else condition"
   ]
  },
  {
   "cell_type": "code",
   "execution_count": 19,
   "metadata": {},
   "outputs": [
    {
     "name": "stdout",
     "output_type": "stream",
     "text": [
      "float64\n",
      "[10.   20.   30.   40.   50.45]\n"
     ]
    }
   ],
   "source": [
    "# using numoy we can assign different type of value to array\n",
    "from numpy import *\n",
    "b=array([10,20,30,40,50.45])#here i used a float value with integer\n",
    "print(b.dtype)# so wil check the datattype\n",
    "print(b)#printed the values in the formof float\n"
   ]
  },
  {
   "cell_type": "code",
   "execution_count": 21,
   "metadata": {},
   "outputs": [
    {
     "name": "stdout",
     "output_type": "stream",
     "text": [
      "int64\n",
      "[10 20 30 40 50]\n"
     ]
    }
   ],
   "source": [
    "from numpy import *\n",
    "b=array([10,20,30,40,50.45],int)#we can specify which type datatype we want so that we can print \n",
    "print(b.dtype)# \n",
    "print(b)#printed"
   ]
  },
  {
   "cell_type": "markdown",
   "metadata": {},
   "source": [
    "# linspace"
   ]
  },
  {
   "cell_type": "code",
   "execution_count": 45,
   "metadata": {},
   "outputs": [
    {
     "name": "stdout",
     "output_type": "stream",
     "text": [
      "[ 0.  1.  2.  3.  4.  5.  6.  7.  8.  9. 10. 11. 12. 13. 14. 15.]\n"
     ]
    }
   ],
   "source": [
    "#it take 3 argument 1.starting point ,ending point n 3 is used to tell how many parts u wants that number should divided\n",
    "a= linspace(0,15,16)# linspace with 3 argument\n",
    "print(a)\n",
    "#printing the values"
   ]
  },
  {
   "cell_type": "code",
   "execution_count": 47,
   "metadata": {},
   "outputs": [
    {
     "name": "stdout",
     "output_type": "stream",
     "text": [
      "[ 0.          0.30612245  0.6122449   0.91836735  1.2244898   1.53061224\n",
      "  1.83673469  2.14285714  2.44897959  2.75510204  3.06122449  3.36734694\n",
      "  3.67346939  3.97959184  4.28571429  4.59183673  4.89795918  5.20408163\n",
      "  5.51020408  5.81632653  6.12244898  6.42857143  6.73469388  7.04081633\n",
      "  7.34693878  7.65306122  7.95918367  8.26530612  8.57142857  8.87755102\n",
      "  9.18367347  9.48979592  9.79591837 10.10204082 10.40816327 10.71428571\n",
      " 11.02040816 11.32653061 11.63265306 11.93877551 12.24489796 12.55102041\n",
      " 12.85714286 13.16326531 13.46938776 13.7755102  14.08163265 14.3877551\n",
      " 14.69387755 15.        ]\n"
     ]
    }
   ],
   "source": [
    "#but if we dont specify the 3 element so by defalt it will take 50 \n",
    "a=linspace(0,15)# linspace with 3 argument\n",
    "print(a)"
   ]
  },
  {
   "cell_type": "code",
   "execution_count": 28,
   "metadata": {},
   "outputs": [
    {
     "name": "stdout",
     "output_type": "stream",
     "text": [
      "[ 0. 10.]\n"
     ]
    }
   ],
   "source": [
    "from numpy import *\n",
    "a=linspace(0,10,2)# so it will start from 0 and end at 10 but as we had specify it will divide into 2 parts\n",
    "print(a)"
   ]
  },
  {
   "cell_type": "markdown",
   "metadata": {},
   "source": [
    "# Arange\n"
   ]
  },
  {
   "cell_type": "code",
   "execution_count": 30,
   "metadata": {},
   "outputs": [
    {
     "name": "stdout",
     "output_type": "stream",
     "text": [
      "[ 1  4  7 10 13 16 19]\n"
     ]
    }
   ],
   "source": [
    "c=arange(1,20,3)# so it start from 1 and end at 20 and the 3 argument which it will take will decide the difference between number\n",
    "print(c)#eg=1+3=4,4+3=7,7+3=10 ..."
   ]
  },
  {
   "cell_type": "markdown",
   "metadata": {},
   "source": [
    "# logspace"
   ]
  },
  {
   "cell_type": "code",
   "execution_count": 31,
   "metadata": {},
   "outputs": [
    {
     "name": "stdout",
     "output_type": "stream",
     "text": [
      "[1.00000000e+01 5.62341325e+10 3.16227766e+20 1.77827941e+30\n",
      " 1.00000000e+40]\n"
     ]
    }
   ],
   "source": [
    "#it 3 argument .same as linspace but in the ratio of 10\n",
    "c=logspace(1,40,5)# it will print in the form of log that is in the raised of 10 measn 10e(10 raised to number)\n",
    "print(c)# it will divide in 5 parts but in the ratio of 10"
   ]
  },
  {
   "cell_type": "markdown",
   "metadata": {},
   "source": [
    "# zeros()"
   ]
  },
  {
   "cell_type": "code",
   "execution_count": 35,
   "metadata": {},
   "outputs": [
    {
     "name": "stdout",
     "output_type": "stream",
     "text": [
      "[0. 0. 0. 0. 0.]\n"
     ]
    }
   ],
   "source": [
    "#zero ,if we want to create a array but the values should be zero at that time we can use this:\n",
    "#a=zeros(5)# it take only 1 values\n",
    "a=zeros(5)#here i have declare 5 it mean it will make a array of size 5\n",
    "print(a)"
   ]
  },
  {
   "cell_type": "markdown",
   "metadata": {},
   "source": [
    "# ones()"
   ]
  },
  {
   "cell_type": "code",
   "execution_count": 42,
   "metadata": {},
   "outputs": [
    {
     "name": "stdout",
     "output_type": "stream",
     "text": [
      "[1. 1. 1. 1. 1. 1. 1. 1. 1. 1.]\n"
     ]
    }
   ],
   "source": [
    "from numpy import *\n",
    "a=ones(10)# it same as zeros it wil create a array of size 10 but the values will be 1 for all\n",
    "print(a)\n",
    "#print(a.dtype())"
   ]
  },
  {
   "cell_type": "code",
   "execution_count": null,
   "metadata": {},
   "outputs": [],
   "source": []
  }
 ],
 "metadata": {
  "kernelspec": {
   "display_name": "Python 3",
   "language": "python",
   "name": "python3"
  },
  "language_info": {
   "codemirror_mode": {
    "name": "ipython",
    "version": 3
   },
   "file_extension": ".py",
   "mimetype": "text/x-python",
   "name": "python",
   "nbconvert_exporter": "python",
   "pygments_lexer": "ipython3",
   "version": "3.7.4"
  }
 },
 "nbformat": 4,
 "nbformat_minor": 2
}
