{
 "cells": [
  {
   "cell_type": "code",
   "execution_count": 3,
   "metadata": {},
   "outputs": [
    {
     "name": "stdout",
     "output_type": "stream",
     "text": [
      "enter the value\n",
      "80\n",
      "enter the value\n",
      "80\n",
      "total addition is 160\n"
     ]
    }
   ],
   "source": [
    "def add(a,b):\n",
    "    c=a+b\n",
    "    print(\"total addition is\",c)\n",
    "x=int(input(\"enter the value\\n\"))#user define input\n",
    "y=int(input(\"enter the value\\n\"))\n",
    "add(x,y)"
   ]
  },
  {
   "cell_type": "code",
   "execution_count": 4,
   "metadata": {},
   "outputs": [
    {
     "name": "stdout",
     "output_type": "stream",
     "text": [
      "33\n"
     ]
    }
   ],
   "source": [
    "def add(x,y):# it is known as formal argument\n",
    "    c=x+y\n",
    "    print(c)\n",
    "add(10,23)# it is known as actual argument(actuall arguement is called calling function ,from where we call the function)\n"
   ]
  },
  {
   "cell_type": "markdown",
   "metadata": {},
   "source": [
    "# Actual argument are 4 types\n",
    "1) position   2) keyword  3) default  4) variable length"
   ]
  },
  {
   "cell_type": "code",
   "execution_count": 7,
   "metadata": {},
   "outputs": [
    {
     "name": "stdout",
     "output_type": "stream",
     "text": [
      "deepak\n",
      "23\n"
     ]
    }
   ],
   "source": [
    "#1)position\n",
    "def person(name,age):\n",
    "    print(name)\n",
    "    print(age) \n",
    "person('deepak',23)"
   ]
  },
  {
   "cell_type": "code",
   "execution_count": 8,
   "metadata": {},
   "outputs": [
    {
     "name": "stdout",
     "output_type": "stream",
     "text": [
      "deepak\n",
      "23\n"
     ]
    }
   ],
   "source": [
    "#2 keyword argument\n",
    "def person(name,age):\n",
    "    print(name)\n",
    "    print(age) \n",
    "person(age=23,name='deepak') #here we are assigning the values by passing keyword"
   ]
  },
  {
   "cell_type": "code",
   "execution_count": 9,
   "metadata": {},
   "outputs": [
    {
     "name": "stdout",
     "output_type": "stream",
     "text": [
      "deepak\n",
      "23\n"
     ]
    }
   ],
   "source": [
    "# default\n",
    "def person(name,age=23): #assigning the value by default in the formal argument\n",
    "    print(name)\n",
    "    print(age) \n",
    "person('deepak')# im not passing the values while calling the function"
   ]
  },
  {
   "cell_type": "code",
   "execution_count": 11,
   "metadata": {},
   "outputs": [
    {
     "ename": "TypeError",
     "evalue": "add() takes 2 positional arguments but 5 were given",
     "output_type": "error",
     "traceback": [
      "\u001b[0;31m---------------------------------------------------------------------------\u001b[0m",
      "\u001b[0;31mTypeError\u001b[0m                                 Traceback (most recent call last)",
      "\u001b[0;32m<ipython-input-11-9036e86ddff3>\u001b[0m in \u001b[0;36m<module>\u001b[0;34m\u001b[0m\n\u001b[1;32m      3\u001b[0m     \u001b[0mc\u001b[0m\u001b[0;34m=\u001b[0m\u001b[0mx\u001b[0m\u001b[0;34m+\u001b[0m\u001b[0my\u001b[0m\u001b[0;34m\u001b[0m\u001b[0;34m\u001b[0m\u001b[0m\n\u001b[1;32m      4\u001b[0m     \u001b[0mprint\u001b[0m\u001b[0;34m(\u001b[0m\u001b[0mc\u001b[0m\u001b[0;34m)\u001b[0m\u001b[0;34m\u001b[0m\u001b[0;34m\u001b[0m\u001b[0m\n\u001b[0;32m----> 5\u001b[0;31m \u001b[0madd\u001b[0m\u001b[0;34m(\u001b[0m\u001b[0;36m10\u001b[0m\u001b[0;34m,\u001b[0m\u001b[0;36m23\u001b[0m\u001b[0;34m,\u001b[0m\u001b[0;36m1\u001b[0m\u001b[0;34m,\u001b[0m\u001b[0;36m2\u001b[0m\u001b[0;34m,\u001b[0m\u001b[0;36m3\u001b[0m\u001b[0;34m)\u001b[0m\u001b[0;34m\u001b[0m\u001b[0;34m\u001b[0m\u001b[0m\n\u001b[0m",
      "\u001b[0;31mTypeError\u001b[0m: add() takes 2 positional arguments but 5 were given"
     ]
    }
   ],
   "source": [
    "#variable length argument\n",
    "def add(x,y):\n",
    "    c=x+y\n",
    "    print(c)\n",
    "add(10,23,1,2,3)  #here we are passing many values"
   ]
  },
  {
   "cell_type": "code",
   "execution_count": 16,
   "metadata": {},
   "outputs": [
    {
     "name": "stdout",
     "output_type": "stream",
     "text": [
      "10\n",
      "(23, 1, 2, 3)\n",
      "39\n"
     ]
    }
   ],
   "source": [
    "# so it that we will use * with second argument becausenthe first argemnt \n",
    "def add(x,*y):#*y is a length of variable\n",
    "    c=x\n",
    "    print(c)         #is a variable\n",
    "    print(y)          # it is in the form of tuple\n",
    "    for i in y:       # so work on single single value we will take for loop\n",
    "        c=c+i        # here we want the values should be added in c\n",
    "    print(c)\n",
    "add(10,23,1,2,3)"
   ]
  },
  {
   "cell_type": "code",
   "execution_count": null,
   "metadata": {},
   "outputs": [],
   "source": []
  }
 ],
 "metadata": {
  "kernelspec": {
   "display_name": "Python 3",
   "language": "python",
   "name": "python3"
  },
  "language_info": {
   "codemirror_mode": {
    "name": "ipython",
    "version": 3
   },
   "file_extension": ".py",
   "mimetype": "text/x-python",
   "name": "python",
   "nbconvert_exporter": "python",
   "pygments_lexer": "ipython3",
   "version": "3.7.4"
  }
 },
 "nbformat": 4,
 "nbformat_minor": 2
}
