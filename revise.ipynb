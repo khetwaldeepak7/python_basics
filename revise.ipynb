{
 "cells": [
  {
   "cell_type": "code",
   "execution_count": 52,
   "metadata": {},
   "outputs": [
    {
     "name": "stdout",
     "output_type": "stream",
     "text": [
      "{'dee': 'pak', 'khet': 'wal'}\n"
     ]
    }
   ],
   "source": [
    "#declaring a dictionary\n",
    "d={'dee':'pak','khet':'wal'}# declaration of dictionary\n",
    "print(d)"
   ]
  },
  {
   "cell_type": "code",
   "execution_count": null,
   "metadata": {},
   "outputs": [],
   "source": [
    "type(d.keys())# to print only keys"
   ]
  },
  {
   "cell_type": "code",
   "execution_count": 6,
   "metadata": {},
   "outputs": [
    {
     "data": {
      "text/plain": [
       "dict_values(['pak', 'wal'])"
      ]
     },
     "execution_count": 6,
     "metadata": {},
     "output_type": "execute_result"
    }
   ],
   "source": [
    "d.values()# to print values of keys"
   ]
  },
  {
   "cell_type": "code",
   "execution_count": null,
   "metadata": {},
   "outputs": [],
   "source": [
    "# to print multiple values of keys\n",
    "# convert the dictionary to list\n",
    "l=(list(d['dee'])[1:])\n",
    "for i in l:\n",
    " print (i)# converting list into array n with the help of for loop printing one by one\n",
    "\n"
   ]
  },
  {
   "cell_type": "code",
   "execution_count": 99,
   "metadata": {},
   "outputs": [
    {
     "name": "stdout",
     "output_type": "stream",
     "text": [
      "{'dee': 'pak', 'khet': 'wal'}\n",
      "['dee', 'khet']\n"
     ]
    }
   ],
   "source": [
    "print(d)\n",
    "print(list(d.keys())[0:])# printing values \n"
   ]
  },
  {
   "cell_type": "code",
   "execution_count": 58,
   "metadata": {},
   "outputs": [
    {
     "data": {
      "text/plain": [
       "'pak'"
      ]
     },
     "execution_count": 58,
     "metadata": {},
     "output_type": "execute_result"
    }
   ],
   "source": [
    "d['dee']"
   ]
  },
  {
   "cell_type": "code",
   "execution_count": 66,
   "metadata": {},
   "outputs": [
    {
     "data": {
      "text/plain": [
       "str"
      ]
     },
     "execution_count": 66,
     "metadata": {},
     "output_type": "execute_result"
    }
   ],
   "source": [
    "type(d.get('dee'))# by calling get method we can get the values of key "
   ]
  },
  {
   "cell_type": "code",
   "execution_count": 81,
   "metadata": {},
   "outputs": [
    {
     "name": "stdout",
     "output_type": "stream",
     "text": [
      "['p', 'a', 'k']\n"
     ]
    }
   ],
   "source": [
    "c=list(d.get('dee'))[:3]# converting it to list n than priting the values one by one\n",
    "print(c)\n"
   ]
  },
  {
   "cell_type": "code",
   "execution_count": 84,
   "metadata": {},
   "outputs": [
    {
     "name": "stdout",
     "output_type": "stream",
     "text": [
      "p\n",
      "a\n",
      "k\n"
     ]
    }
   ],
   "source": [
    "#from list ro array\n",
    "for i in c:\n",
    " print(i)# printing into array format"
   ]
  },
  {
   "cell_type": "code",
   "execution_count": 48,
   "metadata": {},
   "outputs": [
    {
     "data": {
      "text/plain": [
       "['deepak', 'khetwal']"
      ]
     },
     "execution_count": 48,
     "metadata": {},
     "output_type": "execute_result"
    }
   ],
   "source": [
    "d={'1':'deepak','2':'khetwal','3':'buddy','4':'deva','5':'bhargav'}\n",
    "#d['1'],d['2']# simple way to print to get the values of keys\n",
    "#one way\n",
    "#(list(d.values())[0:3])# converting into list and getting the values \n",
    "d['1'],d['2']# way to get the values by entering one by one\n",
    "#another way\n",
    "list(d.values())[0:2]\n"
   ]
  },
  {
   "cell_type": "code",
   "execution_count": 9,
   "metadata": {},
   "outputs": [
    {
     "name": "stdout",
     "output_type": "stream",
     "text": [
      "enter the number5\n",
      "1\n",
      "12\n",
      "123\n",
      "1234\n",
      "12345\n"
     ]
    }
   ],
   "source": [
    "number=int(input(\"enter the number\"))\n",
    "for i in range(1,number+1):\n",
    "    for j in  range(1,i+1):\n",
    "        print(j,end=\"\")\n",
    "    print(  )\n",
    "    "
   ]
  },
  {
   "cell_type": "code",
   "execution_count": null,
   "metadata": {},
   "outputs": [],
   "source": []
  }
 ],
 "metadata": {
  "kernelspec": {
   "display_name": "Python 3",
   "language": "python",
   "name": "python3"
  },
  "language_info": {
   "codemirror_mode": {
    "name": "ipython",
    "version": 3
   },
   "file_extension": ".py",
   "mimetype": "text/x-python",
   "name": "python",
   "nbconvert_exporter": "python",
   "pygments_lexer": "ipython3",
   "version": "3.7.4"
  }
 },
 "nbformat": 4,
 "nbformat_minor": 2
}
