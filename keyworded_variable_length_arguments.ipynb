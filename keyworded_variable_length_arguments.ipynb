{
 "cells": [
  {
   "cell_type": "code",
   "execution_count": 4,
   "metadata": {},
   "outputs": [
    {
     "ename": "TypeError",
     "evalue": "person() got an unexpected keyword argument 'age'",
     "output_type": "error",
     "traceback": [
      "\u001b[0;31m---------------------------------------------------------------------------\u001b[0m",
      "\u001b[0;31mTypeError\u001b[0m                                 Traceback (most recent call last)",
      "\u001b[0;32m<ipython-input-4-16b1877ad22e>\u001b[0m in \u001b[0;36m<module>\u001b[0;34m\u001b[0m\n\u001b[1;32m      5\u001b[0m \u001b[0;34m\u001b[0m\u001b[0m\n\u001b[1;32m      6\u001b[0m \u001b[0;34m\u001b[0m\u001b[0m\n\u001b[0;32m----> 7\u001b[0;31m \u001b[0mperson\u001b[0m\u001b[0;34m(\u001b[0m\u001b[0mname\u001b[0m\u001b[0;34m=\u001b[0m\u001b[0;34m'deepak'\u001b[0m\u001b[0;34m,\u001b[0m\u001b[0mage\u001b[0m\u001b[0;34m=\u001b[0m\u001b[0;36m23\u001b[0m\u001b[0;34m,\u001b[0m\u001b[0mcity\u001b[0m\u001b[0;34m=\u001b[0m\u001b[0;34m'mumbai'\u001b[0m\u001b[0;34m)\u001b[0m\u001b[0;34m\u001b[0m\u001b[0;34m\u001b[0m\u001b[0m\n\u001b[0m",
      "\u001b[0;31mTypeError\u001b[0m: person() got an unexpected keyword argument 'age'"
     ]
    }
   ],
   "source": [
    "# passing the value with the help of keys\n",
    "def person(name,*data): # here if we use single * so it will take not take values \n",
    "    print(name)\n",
    "    print(data)\n",
    "\n",
    "\n",
    "person(name='deepak',age=23,city='mumbai')"
   ]
  },
  {
   "cell_type": "code",
   "execution_count": 5,
   "metadata": {},
   "outputs": [
    {
     "name": "stdout",
     "output_type": "stream",
     "text": [
      "deepak\n",
      "{'age': 23, 'city': 'mumbai'}\n"
     ]
    }
   ],
   "source": [
    "def person(name,**data): # to print on the bases of keyword we have to use double ** \n",
    "    print(name)\n",
    "    print(data)# it will print whole values in the set format\n",
    "\n",
    "\n",
    "person(name='deepak',age=23,city='mumbai')"
   ]
  },
  {
   "cell_type": "code",
   "execution_count": 18,
   "metadata": {},
   "outputs": [
    {
     "name": "stdout",
     "output_type": "stream",
     "text": [
      "name deepak\n",
      "age 23\n",
      "city mumbai\n"
     ]
    }
   ],
   "source": [
    "# to print in the hashform\n",
    "def person(**data): # here if we use single * so it will take not take values \n",
    "    #print(name)\n",
    "    #print(data)\n",
    "    for i ,j in data.items():\n",
    "         print(i,j)\n",
    "\n",
    "person(name='deepak',age=23,city='mumbai')"
   ]
  },
  {
   "cell_type": "code",
   "execution_count": 15,
   "metadata": {},
   "outputs": [
    {
     "name": "stdout",
     "output_type": "stream",
     "text": [
      "deepak\n",
      "age\n",
      "city\n"
     ]
    }
   ],
   "source": [
    "def hi(a,**b):\n",
    "    print(a)\n",
    "    #print(b)\n",
    "    for i in b:\n",
    "        print(i)\n",
    "hi('deepak',age=23,city='mumbai') #here in the actual variable we are assigning the value that values we have to pass"
   ]
  },
  {
   "cell_type": "code",
   "execution_count": null,
   "metadata": {},
   "outputs": [],
   "source": []
  }
 ],
 "metadata": {
  "kernelspec": {
   "display_name": "Python 3",
   "language": "python",
   "name": "python3"
  },
  "language_info": {
   "codemirror_mode": {
    "name": "ipython",
    "version": 3
   },
   "file_extension": ".py",
   "mimetype": "text/x-python",
   "name": "python",
   "nbconvert_exporter": "python",
   "pygments_lexer": "ipython3",
   "version": "3.7.4"
  }
 },
 "nbformat": 4,
 "nbformat_minor": 2
}
