{
 "cells": [
  {
   "cell_type": "markdown",
   "metadata": {},
   "source": [
    "# 4 types of Polymorphism in python\n"
   ]
  },
  {
   "cell_type": "markdown",
   "metadata": {},
   "source": [
    "# 1) Duck Typing\n",
    "# 2) operator overloading\n",
    "# 3) method Overloading\n",
    "# 4) method overriding"
   ]
  },
  {
   "cell_type": "markdown",
   "metadata": {},
   "source": [
    "# DUCK TYPING"
   ]
  },
  {
   "cell_type": "code",
   "execution_count": null,
   "metadata": {},
   "outputs": [],
   "source": [
    "# in the duck typing the,, in\n",
    "class Pycharm:\n",
    "    def ex(self):\n",
    "        print(\"hello deepak\")\n",
    "class Laptop:\n",
    "    def m1(self,d1):   #here we will pass the reference of object of class whose method we want to in otherclass\n",
    "        d1.ex()\n",
    "d1=Pycharm()       #d1 is the refernce of Pycharm class \n",
    "l1=Laptop()\n",
    "l1.m1(d1\n"
   ]
  },
  {
   "cell_type": "code",
   "execution_count": null,
   "metadata": {},
   "outputs": [],
   "source": []
  },
  {
   "cell_type": "code",
   "execution_count": null,
   "metadata": {},
   "outputs": [],
   "source": []
  }
 ],
 "metadata": {
  "kernelspec": {
   "display_name": "Python 3",
   "language": "python",
   "name": "python3"
  },
  "language_info": {
   "codemirror_mode": {
    "name": "ipython",
    "version": 3
   },
   "file_extension": ".py",
   "mimetype": "text/x-python",
   "name": "python",
   "nbconvert_exporter": "python",
   "pygments_lexer": "ipython3",
   "version": "3.7.4"
  }
 },
 "nbformat": 4,
 "nbformat_minor": 2
}
