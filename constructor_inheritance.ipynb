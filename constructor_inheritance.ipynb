{
 "cells": [
  {
   "cell_type": "code",
   "execution_count": 6,
   "metadata": {},
   "outputs": [
    {
     "name": "stdout",
     "output_type": "stream",
     "text": [
      "feature 1 is working\n"
     ]
    }
   ],
   "source": [
    "class A:\n",
    "    def feature1(self):\n",
    "        print(\"feature 1 is working\")\n",
    "    def feature2(self):\n",
    "        print(\"feawture 2 is working\")\n",
    "a1=A()\n",
    "a1.feature1()   #printing the value one by one\n",
    "    "
   ]
  },
  {
   "cell_type": "code",
   "execution_count": 7,
   "metadata": {},
   "outputs": [
    {
     "name": "stdout",
     "output_type": "stream",
     "text": [
      "feawture 2 is working\n"
     ]
    }
   ],
   "source": [
    "a1.feature2()    #printing the value one by one"
   ]
  },
  {
   "cell_type": "code",
   "execution_count": 8,
   "metadata": {},
   "outputs": [],
   "source": [
    "# way to define the child class in pyhton  (inheritance method)"
   ]
  },
  {
   "cell_type": "code",
   "execution_count": 20,
   "metadata": {},
   "outputs": [
    {
     "name": "stdout",
     "output_type": "stream",
     "text": [
      "feature 3 is working\n",
      "feature 1 is working\n"
     ]
    }
   ],
   "source": [
    "class B(A):   #this is the way to define inheritance class it is single inheritance\n",
    "    def feature3(self):\n",
    "        print(\"feature 3 is working\")\n",
    "    def feature4(self):\n",
    "        print(\"feawture 4 is working\")\n",
    "a2=B()\n",
    "a2.feature3()   \n",
    "a2.feature1()  #now we can inheritance the behaviour of parentass"
   ]
  },
  {
   "cell_type": "markdown",
   "metadata": {},
   "source": [
    "# multiple inheritance class"
   ]
  },
  {
   "cell_type": "code",
   "execution_count": 33,
   "metadata": {},
   "outputs": [
    {
     "name": "stdout",
     "output_type": "stream",
     "text": [
      "feature 1 is working\n",
      "None\n",
      "feature 3 is working\n",
      "feature 5 is working\n",
      "None\n"
     ]
    }
   ],
   "source": [
    "#multiple inheritance class\n",
    "#eg. class a inheritage clas b and class b inheritage class c\n",
    "class A:\n",
    "    def feature1(self):\n",
    "        print(\"feature 1 is working\")\n",
    "    def feature2(self):\n",
    "        print(\"feawture 2 is working\")\n",
    "#a1=A()\n",
    "#a1.feature1()   \n",
    "class B(A):  \n",
    "    def feature3(self):\n",
    "        print(\"feature 3 is working\")\n",
    "    def feature4(self):\n",
    "        print(\"feawture 4 is working\")\n",
    "class C(B):  \n",
    "    def feature5(self):\n",
    "        print(\"feature 5 is working\")\n",
    "    def feature6(self):\n",
    "        print(\"feawture 6 is working\")\n",
    "#a2=B()\n",
    "#a2.feature3()   \n",
    "#a2.feature1()\n",
    "c1=C()\n",
    "print(c1.feature1())\n",
    "c1.feature3()\n",
    "print(c1.feature5())"
   ]
  },
  {
   "cell_type": "markdown",
   "metadata": {},
   "source": [
    "# main feature of constructor inheritance "
   ]
  },
  {
   "cell_type": "code",
   "execution_count": 2,
   "metadata": {},
   "outputs": [
    {
     "name": "stdout",
     "output_type": "stream",
     "text": [
      "bye\n"
     ]
    }
   ],
   "source": [
    "#super\n",
    "class A:\n",
    "    def __init__(self):\n",
    "        print(\"hi\")\n",
    "class B(A):\n",
    "    def __init__(self):\n",
    "        print(\"bye\")\n",
    "b1=B()   #when we create the object of B first it will try to call the the init method of class b \n"
   ]
  },
  {
   "cell_type": "code",
   "execution_count": 4,
   "metadata": {},
   "outputs": [
    {
     "name": "stdout",
     "output_type": "stream",
     "text": [
      "hi\n",
      "bye\n"
     ]
    }
   ],
   "source": [
    "# but if we want to print the init method of class A also that time we will use  keyword super\n",
    "class A:\n",
    "    def __init__(self):\n",
    "        print(\"hi\")\n",
    "class B(A):\n",
    "    def __init__(self):\n",
    "        super().__init__()    #by using the keyword super we will call the super class init method\n",
    "        print(\"bye\")\n",
    "b1=B()  # as we have created the object of B so first it wil call the init method of b and inside the B we will try to cal the function of A"
   ]
  },
  {
   "cell_type": "code",
   "execution_count": 12,
   "metadata": {},
   "outputs": [
    {
     "name": "stdout",
     "output_type": "stream",
     "text": [
      "another\n"
     ]
    }
   ],
   "source": [
    "class A:\n",
    "    def __init__(self):\n",
    "        print(\"hi\")\n",
    "class B():\n",
    "    def __init__(self):\n",
    "        print(\"bye\")\n",
    "class C(A,B):\n",
    "    def __init__(self):\n",
    "        print(\"another\")\n",
    "c=C()   #here the object of c created so first it will call the function of C, \n"
   ]
  },
  {
   "cell_type": "code",
   "execution_count": 10,
   "metadata": {},
   "outputs": [],
   "source": [
    "# but if we call super class than it will call the init of which class\n",
    "#here than comes the MRO concept MRO stand for method resolution order\n",
    "#which mean it wil call the init function of left hand side"
   ]
  },
  {
   "cell_type": "code",
   "execution_count": 14,
   "metadata": {},
   "outputs": [
    {
     "name": "stdout",
     "output_type": "stream",
     "text": [
      "hi\n",
      "another\n"
     ]
    }
   ],
   "source": [
    "class A:\n",
    "    def __init__(self):\n",
    "        print(\"hi\")\n",
    "class B():\n",
    "    def __init__(self):\n",
    "        print(\"bye\")\n",
    "class C(A,B):\n",
    "    def __init__(self):\n",
    "        super().__init__()      #so as per the mro method it will call first the left hand side\n",
    "        print(\"another\")\n",
    "c1=C()\n",
    "    "
   ]
  },
  {
   "cell_type": "code",
   "execution_count": 17,
   "metadata": {},
   "outputs": [
    {
     "name": "stdout",
     "output_type": "stream",
     "text": [
      "hi\n",
      "another\n",
      "A same name\n"
     ]
    }
   ],
   "source": [
    "# if we want to call the method ,it mean we have two method of same name in two different class than\n",
    "class A:\n",
    "    def __init__(self):\n",
    "        print(\"hi\")\n",
    "    def m1(self):\n",
    "        print(\"A same name\")\n",
    "class B():\n",
    "    def __init__(self):\n",
    "        print(\"bye\")\n",
    "    def m1(self):\n",
    "        print(\"B same name\")   \n",
    "class C(A,B):\n",
    "    def __init__(self):\n",
    "        super().__init__()      #so as per the mro method it will call first the left hand side\n",
    "        print(\"another\")\n",
    "c1=C()\n",
    "c1.m1()  # if we call the method of same name in two different classes that time it will also follow the mro rules"
   ]
  },
  {
   "cell_type": "code",
   "execution_count": 20,
   "metadata": {},
   "outputs": [
    {
     "name": "stdout",
     "output_type": "stream",
     "text": [
      "another\n",
      "A same name\n"
     ]
    }
   ],
   "source": [
    "#with the help of super we can call the method also\n",
    "class A:\n",
    "    def __init__(self):\n",
    "        print(\"hi\")\n",
    "    def m1(self):\n",
    "        print(\"A same name\")\n",
    "class B():\n",
    "    def __init__(self):\n",
    "        print(\"bye\")\n",
    "    def m1(self):\n",
    "        print(\"B same name\")   \n",
    "class C(A,B):\n",
    "    def __init__(self):     \n",
    "        print(\"another\")\n",
    "    #def m3(self):\n",
    "        super().m1()   #with the help of siper function we can call the method of super class\n",
    "c1=C()\n",
    "#c1.m3()\n"
   ]
  },
  {
   "cell_type": "code",
   "execution_count": null,
   "metadata": {},
   "outputs": [],
   "source": []
  }
 ],
 "metadata": {
  "kernelspec": {
   "display_name": "Python 3",
   "language": "python",
   "name": "python3"
  },
  "language_info": {
   "codemirror_mode": {
    "name": "ipython",
    "version": 3
   },
   "file_extension": ".py",
   "mimetype": "text/x-python",
   "name": "python",
   "nbconvert_exporter": "python",
   "pygments_lexer": "ipython3",
   "version": "3.7.4"
  }
 },
 "nbformat": 4,
 "nbformat_minor": 2
}
