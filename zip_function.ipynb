{
 "cells": [
  {
   "cell_type": "code",
   "execution_count": 1,
   "metadata": {},
   "outputs": [],
   "source": [
    "# zip is used to connect two thing or two part, it work as our zip work,which  is used to connect two thing"
   ]
  },
  {
   "cell_type": "code",
   "execution_count": 11,
   "metadata": {},
   "outputs": [],
   "source": [
    "name=[\"deepak\",\"prapunj\",\"santosh\",\"priyanka\"]"
   ]
  },
  {
   "cell_type": "code",
   "execution_count": 12,
   "metadata": {},
   "outputs": [],
   "source": [
    "company=[\"tcs\",\"wipro\",\"intelli\",\"hcl\"]"
   ]
  },
  {
   "cell_type": "code",
   "execution_count": 20,
   "metadata": {},
   "outputs": [
    {
     "name": "stdout",
     "output_type": "stream",
     "text": [
      "[('deepak', 'tcs'), ('prapunj', 'wipro'), ('santosh', 'intelli'), ('priyanka', 'hcl')]\n"
     ]
    }
   ],
   "source": [
    "# with the help of zip ,i will join this two list together\n",
    "zipped=zip(name,company)      #stored in a object\n",
    "print(zipped)    "
   ]
  },
  {
   "cell_type": "code",
   "execution_count": 17,
   "metadata": {},
   "outputs": [
    {
     "name": "stdout",
     "output_type": "stream",
     "text": [
      "set([('priyanka', 'hcl'), ('santosh', 'intelli'), ('deepak', 'tcs'), ('prapunj', 'wipro')])\n"
     ]
    }
   ],
   "source": [
    "# to get value in set we have to used set  , #set it in unsorted format, and in the set we will not get the repited values\n",
    "zipped=set(zip(name,company))      #here we get the value in set format\n",
    "print(zipped) "
   ]
  },
  {
   "cell_type": "markdown",
   "metadata": {},
   "source": [
    "# to print using for loop"
   ]
  },
  {
   "cell_type": "code",
   "execution_count": 21,
   "metadata": {},
   "outputs": [
    {
     "name": "stdout",
     "output_type": "stream",
     "text": [
      "('deepak', 'tcs')\n",
      "('prapunj', 'wipro')\n",
      "('santosh', 'intelli')\n",
      "('priyanka', 'hcl')\n"
     ]
    }
   ],
   "source": [
    "for (a,b) in zipped:                    # two list we are passing ,using zip method w wil concantinate two list together \n",
    "    # that y we took two value a and b  \n",
    "    print(a,b)"
   ]
  },
  {
   "cell_type": "code",
   "execution_count": null,
   "metadata": {},
   "outputs": [],
   "source": []
  }
 ],
 "metadata": {
  "kernelspec": {
   "display_name": "Python 2",
   "language": "python",
   "name": "python2"
  },
  "language_info": {
   "codemirror_mode": {
    "name": "ipython",
    "version": 2
   },
   "file_extension": ".py",
   "mimetype": "text/x-python",
   "name": "python",
   "nbconvert_exporter": "python",
   "pygments_lexer": "ipython2",
   "version": "2.7.15"
  }
 },
 "nbformat": 4,
 "nbformat_minor": 2
}
