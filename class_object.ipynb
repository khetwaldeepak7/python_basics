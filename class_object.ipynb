{
 "cells": [
  {
   "cell_type": "code",
   "execution_count": 13,
   "metadata": {},
   "outputs": [],
   "source": [
    "#class is  a blueprint , it means it will decide what your class willperform a operation\n",
    "class Computer:    #nameofclass     \n",
    "    def config(self):     #nameofmethod   #self means it will called by itself only\n",
    "        print(\"i5,intel,16gb\")\n",
    "\n",
    "Comp1=Computer()    # this is a way to create the object of class,it means the comp1 is the object of computer\n",
    "#print(type(Comp1))   #here comp1 is a type of computer which is a class\n",
    "\n",
    "Comp2=Computer()    # creating another object of computer same class"
   ]
  },
  {
   "cell_type": "code",
   "execution_count": 14,
   "metadata": {},
   "outputs": [
    {
     "name": "stdout",
     "output_type": "stream",
     "text": [
      "i5,intel,16gb\n",
      "i5,intel,16gb\n"
     ]
    }
   ],
   "source": [
    "# here we have mentioned the method inside the class\n",
    "#so access or call that method we have to use first class name and than the method name\n",
    "Computer.config(Comp1)        # tocall the method inside the class and we aslo have to mention the name of object ,which we wil call the method\n",
    "Computer.config(Comp2)       # here "
   ]
  },
  {
   "cell_type": "code",
   "execution_count": 16,
   "metadata": {},
   "outputs": [
    {
     "name": "stdout",
     "output_type": "stream",
     "text": [
      "i5,intel,16gb\n",
      "i5,intel,16gb\n"
     ]
    }
   ],
   "source": [
    "# directly we can calling function through the object\n",
    "Comp1.config()\n",
    "Comp1.config()"
   ]
  },
  {
   "cell_type": "code",
   "execution_count": null,
   "metadata": {},
   "outputs": [],
   "source": []
  }
 ],
 "metadata": {
  "kernelspec": {
   "display_name": "Python 3",
   "language": "python",
   "name": "python3"
  },
  "language_info": {
   "codemirror_mode": {
    "name": "ipython",
    "version": 3
   },
   "file_extension": ".py",
   "mimetype": "text/x-python",
   "name": "python",
   "nbconvert_exporter": "python",
   "pygments_lexer": "ipython3",
   "version": "3.7.4"
  }
 },
 "nbformat": 4,
 "nbformat_minor": 2
}
