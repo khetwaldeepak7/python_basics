{
 "cells": [
  {
   "cell_type": "code",
   "execution_count": 1,
   "metadata": {},
   "outputs": [],
   "source": [
    "# linear search wil compare the values one by one ,so when we will be having a large number of list ,so it wil take more time to responsed and your answer "
   ]
  },
  {
   "cell_type": "code",
   "execution_count": 2,
   "metadata": {},
   "outputs": [],
   "source": [
    "# so for large amount of data we used binary search"
   ]
  },
  {
   "cell_type": "code",
   "execution_count": 3,
   "metadata": {},
   "outputs": [],
   "source": [
    "# in the binary search the values should alway be in sorted form \n",
    "# and it compulsory"
   ]
  },
  {
   "cell_type": "code",
   "execution_count": 5,
   "metadata": {},
   "outputs": [],
   "source": [
    "# 1) it is in sorting format , so the first find the mid value of that list\n",
    "# 2) that we wil get through lower+upper divided by 2. and we wil get the index values\n",
    "# 3) now check the value on that index,which we get through division\n",
    "# 4) if the value on that index is greater than our search value so mid value will become and upper\n",
    "# 5) if the value on index that is smaller than the index value will become lower"
   ]
  },
  {
   "cell_type": "code",
   "execution_count": 7,
   "metadata": {},
   "outputs": [
    {
     "name": "stdout",
     "output_type": "stream",
     "text": [
      "enter the number3\n",
      "2\n"
     ]
    }
   ],
   "source": [
    "def search(binary,number):\n",
    "    #length=len(binary)\n",
    "    last=len(binary)-1\n",
    "    start=0\n",
    "    #for i in range(length):       # at two scenario we have to stop when the upper bond is greater than upper bond and the second point when we found the value\n",
    "    while last >start:\n",
    "        mid=(start+last)//2     # double slaces will git ouput in integer form   # if we want output in integer form that time we wil use double slace\n",
    "        if(binary[mid]==number):\n",
    "           \n",
    "            return mid\n",
    "            \n",
    "        else:\n",
    "            if(binary[mid]>number):\n",
    "                last=mid\n",
    "    \n",
    "            else:\n",
    "                start=mid\n",
    "\n",
    "\n",
    "    \n",
    "    \n",
    "a=[1,2,3,4,5,6]\n",
    "num=int(input(\"enter the number\"))\n",
    "#make a function in which we will pass the list and the number\n",
    "result=search(a,num)\n",
    "print(result)\n",
    "#if search (a,num):\n",
    " #   print(\"found at\")\n",
    "#else:\n",
    "#    print(\"not found\")\n",
    " \n"
   ]
  },
  {
   "cell_type": "markdown",
   "metadata": {},
   "source": [
    "# testing of binary searching\n",
    "# operation on user input"
   ]
  },
  {
   "cell_type": "code",
   "execution_count": 4,
   "metadata": {},
   "outputs": [
    {
     "name": "stdout",
     "output_type": "stream",
     "text": [
      "enter the length of list3\n",
      "14\n",
      "50\n",
      "2\n",
      "[14, 50, 2]\n",
      "enter the number whose index number we want 14\n",
      "0\n"
     ]
    }
   ],
   "source": [
    "#here i wil take input from the user\n",
    "def solution(number_list,find):\n",
    "    \n",
    "    start=0\n",
    "    end=len(number_list)-1           #the -1 should be outside the braces ()\n",
    "    while end > start:\n",
    "        mid =start+end//2\n",
    "        if number_list[mid] == find:\n",
    "            return mid\n",
    "        else:\n",
    "            if(number_list[mid]> find):\n",
    "                end=mid      #here the en=nd value will change which we reflect the while loops\n",
    "            \n",
    "            else:\n",
    "                start=mid       #mid value is based on the index number\n",
    "\n",
    "number=[]      #accepting input from the user\n",
    "last=int(input(\"enter the length of list\"))\n",
    "for i in range(last):\n",
    "    num=int(input(\"\"))\n",
    "    number.append(num)\n",
    "\n",
    "print(number)\n",
    "\n",
    "\n",
    "find=int(input(\"enter the number whose index number we want \" ))\n",
    "result=solution(number,find)\n",
    "print(result)"
   ]
  },
  {
   "cell_type": "code",
   "execution_count": null,
   "metadata": {},
   "outputs": [],
   "source": []
  },
  {
   "cell_type": "code",
   "execution_count": 13,
   "metadata": {},
   "outputs": [
    {
     "name": "stdout",
     "output_type": "stream",
     "text": [
      "4\n"
     ]
    }
   ],
   "source": [
    "def solve(number,find):\n",
    "    start=0\n",
    "    end=len(number)-1\n",
    "    #print(end)\n",
    "    length=len(number)\n",
    "    for i in range(length):\n",
    "        mid=start+end//2   \n",
    "        if (number[mid]==find):\n",
    "            return mid\n",
    "        else:\n",
    "            if(number[mid]>find):\n",
    "                end=mid\n",
    "            else:\n",
    "                start=mid\n",
    "        \n",
    "a=[1,2,3,4,5]\n",
    "b=5\n",
    "result=solve(a,b)\n",
    "print(result)\n"
   ]
  },
  {
   "cell_type": "markdown",
   "metadata": {},
   "source": [
    "# binary search "
   ]
  },
  {
   "cell_type": "code",
   "execution_count": 2,
   "metadata": {},
   "outputs": [
    {
     "name": "stdout",
     "output_type": "stream",
     "text": [
      "enter the number of value you want in your list3\n",
      "145\n",
      "24\n",
      "15\n",
      "[15, 24, 145]\n",
      "enter the number to find15\n",
      "1\n",
      "0\n"
     ]
    }
   ],
   "source": [
    "def solution(numb,find): \n",
    "    rep=len(numb)\n",
    "    start=0\n",
    "    last=len(numb)-1\n",
    "    mid=start+last//2   # to get the value in integer\n",
    "    print (mid)                # when we are accepting 3 value ,so at that time the mid value that we will get is 1 ,so the operation will be perform from 1 index of array, the 0 index wil be excluded\n",
    "    if mid<=1:                 # to include 0 index in the array i had put this if statement\n",
    "        mid=0\n",
    "        for i in range(rep):\n",
    "            if(numb[mid]==find):\n",
    "                return mid\n",
    "            else:\n",
    "                if((numb[mid]>find)):\n",
    "                    last=mid\n",
    "                else:\n",
    "                    start=mid\n",
    "a=[]\n",
    "b=int(input(\"enter the number of value you want in your list\"))\n",
    "for i in range(b):\n",
    "    num=int(input())\n",
    "    a.append(num)\n",
    "a.sort()    \n",
    "print(a)\n",
    "find=int(input(\"enter the number to find\"))\n",
    "    # used for the sorting purpose\n",
    "#print(a)\n",
    "result=solution(a,find)\n",
    "print(result)"
   ]
  },
  {
   "cell_type": "code",
   "execution_count": null,
   "metadata": {},
   "outputs": [],
   "source": []
  }
 ],
 "metadata": {
  "kernelspec": {
   "display_name": "Python 3",
   "language": "python",
   "name": "python3"
  },
  "language_info": {
   "codemirror_mode": {
    "name": "ipython",
    "version": 3
   },
   "file_extension": ".py",
   "mimetype": "text/x-python",
   "name": "python",
   "nbconvert_exporter": "python",
   "pygments_lexer": "ipython3",
   "version": "3.7.4"
  }
 },
 "nbformat": 4,
 "nbformat_minor": 2
}
