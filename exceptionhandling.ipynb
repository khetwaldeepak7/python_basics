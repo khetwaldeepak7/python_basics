{
 "cells": [
  {
   "cell_type": "markdown",
   "metadata": {},
   "source": [
    "# 3 types of error\n",
    "# 1) Compile =Syntactical errors  (easy)\n",
    "# 2) Logical  = code compile and code give output succesfully (but some logical error occurs) it will be not a correct output\n",
    "# 3) Run Time =error at runtime   (hardest)"
   ]
  },
  {
   "cell_type": "code",
   "execution_count": 5,
   "metadata": {},
   "outputs": [
    {
     "name": "stdout",
     "output_type": "stream",
     "text": [
      "enter the number4\n",
      "entyer the 2 number0\n"
     ]
    },
    {
     "ename": "ZeroDivisionError",
     "evalue": "division by zero",
     "output_type": "error",
     "traceback": [
      "\u001b[0;31m---------------------------------------------------------------------------\u001b[0m",
      "\u001b[0;31mZeroDivisionError\u001b[0m                         Traceback (most recent call last)",
      "\u001b[0;32m<ipython-input-5-9c52582e15f7>\u001b[0m in \u001b[0;36m<module>\u001b[0;34m\u001b[0m\n\u001b[1;32m      1\u001b[0m \u001b[0ma\u001b[0m\u001b[0;34m=\u001b[0m\u001b[0mint\u001b[0m\u001b[0;34m(\u001b[0m\u001b[0minput\u001b[0m\u001b[0;34m(\u001b[0m\u001b[0;34m\"enter the number\"\u001b[0m\u001b[0;34m)\u001b[0m\u001b[0;34m)\u001b[0m\u001b[0;34m\u001b[0m\u001b[0;34m\u001b[0m\u001b[0m\n\u001b[1;32m      2\u001b[0m \u001b[0mb\u001b[0m\u001b[0;34m=\u001b[0m\u001b[0mint\u001b[0m\u001b[0;34m(\u001b[0m\u001b[0minput\u001b[0m\u001b[0;34m(\u001b[0m\u001b[0;34m\"entyer the 2 number\"\u001b[0m\u001b[0;34m)\u001b[0m\u001b[0;34m)\u001b[0m\u001b[0;34m\u001b[0m\u001b[0;34m\u001b[0m\u001b[0m\n\u001b[0;32m----> 3\u001b[0;31m \u001b[0mprint\u001b[0m\u001b[0;34m(\u001b[0m\u001b[0ma\u001b[0m\u001b[0;34m/\u001b[0m\u001b[0mb\u001b[0m\u001b[0;34m)\u001b[0m\u001b[0;34m\u001b[0m\u001b[0;34m\u001b[0m\u001b[0m\n\u001b[0m\u001b[1;32m      4\u001b[0m \u001b[0;31m#except Exception:\u001b[0m\u001b[0;34m\u001b[0m\u001b[0;34m\u001b[0m\u001b[0;34m\u001b[0m\u001b[0m\n",
      "\u001b[0;31mZeroDivisionError\u001b[0m: division by zero"
     ]
    }
   ],
   "source": [
    "#user put wrong input\n",
    "a=int(input(\"enter the number\"))\n",
    "b=int(input(\"entyer the 2 number\"))\n",
    "print(a/b)\n",
    "#except Exception:\n"
   ]
  },
  {
   "cell_type": "code",
   "execution_count": 9,
   "metadata": {},
   "outputs": [
    {
     "name": "stdout",
     "output_type": "stream",
     "text": [
      "enter the number4\n",
      "entyer the 2 number0\n",
      "hello\n"
     ]
    }
   ],
   "source": [
    "# so to avoid this error we will use exception\n",
    "a=int(input(\"enter the number\"))\n",
    "b=int(input(\"entyer the 2 number\"))\n",
    "try:                                 # try we tell as to try the code insiode\n",
    "    print(a/b)\n",
    "except Exception:    #so user put any wrong input than the exception will hold the error and return an output\n",
    "    print(\"hello\")"
   ]
  },
  {
   "cell_type": "code",
   "execution_count": 14,
   "metadata": {},
   "outputs": [
    {
     "name": "stdout",
     "output_type": "stream",
     "text": [
      "number cannot be divisible by Zero\n"
     ]
    }
   ],
   "source": [
    "# our proceese should not stop at between that why we will used exception handling concept\n",
    "a=4\n",
    "b=0 \n",
    "try:\n",
    "    c=a/b  #it simply mean that this  is a code in an critical type ,so i am not sure whether it will excute or not .so try to process on it\n",
    "    print(c)\n",
    "except Exception:  # if there is an error than i wil handle the error by using exception\n",
    "    print(\"number cannot be divisible by Zero\")"
   ]
  },
  {
   "cell_type": "code",
   "execution_count": 18,
   "metadata": {},
   "outputs": [
    {
     "name": "stdout",
     "output_type": "stream",
     "text": [
      "division by zero\n"
     ]
    }
   ],
   "source": [
    "# if i want to represent what type of error it is than we will use (e) as  which will represent type of error it is\n",
    "a=4\n",
    "b=0 \n",
    "try:\n",
    "    c=a/b\n",
    "    print(c)\n",
    "except Exception as e:\n",
    "     print(e)   # e will represent what type of error it is ,     #so the type of error is\n",
    "        #here it is representing the type of error"
   ]
  },
  {
   "cell_type": "markdown",
   "metadata": {},
   "source": [
    "# the line we will get exception it will jump out of the code to execute the exception statement\n"
   ]
  },
  {
   "cell_type": "code",
   "execution_count": 19,
   "metadata": {},
   "outputs": [
    {
     "name": "stdout",
     "output_type": "stream",
     "text": [
      "before getting exception\n",
      "the error problem solve\n"
     ]
    }
   ],
   "source": [
    "a=6\n",
    "b=0\n",
    "try:\n",
    "    print(\"resource open\")    # the statement before getting the error got execute\n",
    "    print(a/b)                           #here we have got the error\n",
    "    print(\"resource close\")       #so this statement will be not get executed\n",
    "except Exception:          # after getting error it will jump here \n",
    "    print(\"the error problem solve\")  #and execute the statement"
   ]
  },
  {
   "cell_type": "code",
   "execution_count": 20,
   "metadata": {},
   "outputs": [],
   "source": [
    "# we want resource close bec once the data resource is open than it is compulsory to close it\n",
    "#so such type of statement is written inside the finally block"
   ]
  },
  {
   "cell_type": "markdown",
   "metadata": {},
   "source": [
    "# finally blocked get executed if we get error as well as if don't get the error"
   ]
  },
  {
   "cell_type": "code",
   "execution_count": 21,
   "metadata": {},
   "outputs": [
    {
     "name": "stdout",
     "output_type": "stream",
     "text": [
      "resource open\n",
      "closed resource\n",
      "the resource closed\n"
     ]
    }
   ],
   "source": [
    "a=6\n",
    "b=0\n",
    "try:\n",
    "    print(\"resource open\")  \n",
    "    print(a/b)                           #here we got error so directly it wil jump outside the try blocked and jump to the exception blocked\n",
    "    print(\"resource close\")       \n",
    "except Exception:          \n",
    "    print(\"closed resource\")\n",
    "finally:\n",
    "    print(\"the resource closed\")"
   ]
  },
  {
   "cell_type": "code",
   "execution_count": 25,
   "metadata": {},
   "outputs": [
    {
     "name": "stdout",
     "output_type": "stream",
     "text": [
      "resource open\n",
      "closed resource division by zero\n",
      "the resource closed\n"
     ]
    }
   ],
   "source": [
    "a=6\n",
    "b=0\n",
    " k=int(input(\"enter the values\"))  \n",
    "try:\n",
    "    print(\"resource open\")  \n",
    "    print(a/b)     # so from here it wil directly jump outside \n",
    "  # this statement will not execute\n",
    "    print(\"resource close\")       \n",
    "except Exception as e:          \n",
    "    print(\"closed resource\",e)\n",
    "finally:\n",
    "    print(\"the resource closed\")"
   ]
  },
  {
   "cell_type": "code",
   "execution_count": 29,
   "metadata": {},
   "outputs": [
    {
     "name": "stdout",
     "output_type": "stream",
     "text": [
      "0.3333333333333333\n",
      "enter the valuer\n",
      "invalid literal for int() with base 10: 'r'\n"
     ]
    }
   ],
   "source": [
    "# for specific error we can mention a specific type of error\n",
    "# for different type we have different error and the general one is exception\n",
    "#to define a paticular error we will name that error name\n",
    "a=1\n",
    "b=3\n",
    "try:\n",
    "    print(a/b)\n",
    "    k=int(input(\"enter the value\"))\n",
    "except ZeroDivisionError as e:      # e is just a name of object it can be anything\n",
    "    print(e)\n",
    "except ValueError as e:\n",
    "    print(e)"
   ]
  },
  {
   "cell_type": "code",
   "execution_count": 31,
   "metadata": {},
   "outputs": [
    {
     "name": "stdout",
     "output_type": "stream",
     "text": [
      "division by zero\n",
      "resoure closed\n"
     ]
    }
   ],
   "source": [
    "# while writing we know this this type of error will occur but when we dont know the type of error than at the end alway use exception error \n",
    "a=1\n",
    "b=0\n",
    "try:\n",
    "    print(a/b)     #first code come here,here we will get an error to the machine wil directly jump to the except block , n than it execi=uted the except block\n",
    "    k=int(input(\"enter the value\"))\n",
    "except ZeroDivisionError as e:      # e is just a name of object it can be anything\n",
    "    print(e)\n",
    "except ValueError as e:\n",
    "    print(e)\n",
    "except Exception as e:\n",
    "    print(\"something went wrong\")\n",
    "finally:                   #this blocked is used when we want to execute the something which we very important or we can say which is compulsory to execute where code throw an exception or not\n",
    "    print(\"resoure closed\")"
   ]
  },
  {
   "cell_type": "code",
   "execution_count": null,
   "metadata": {},
   "outputs": [],
   "source": []
  }
 ],
 "metadata": {
  "kernelspec": {
   "display_name": "Python 3",
   "language": "python",
   "name": "python3"
  },
  "language_info": {
   "codemirror_mode": {
    "name": "ipython",
    "version": 3
   },
   "file_extension": ".py",
   "mimetype": "text/x-python",
   "name": "python",
   "nbconvert_exporter": "python",
   "pygments_lexer": "ipython3",
   "version": "3.7.4"
  }
 },
 "nbformat": 4,
 "nbformat_minor": 2
}
