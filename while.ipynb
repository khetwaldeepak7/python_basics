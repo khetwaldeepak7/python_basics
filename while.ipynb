{
 "cells": [
  {
   "cell_type": "code",
   "execution_count": 10,
   "metadata": {},
   "outputs": [
    {
     "name": "stdout",
     "output_type": "stream",
     "text": [
      "hello\n",
      "hello\n",
      "hello\n",
      "hello\n",
      "hello\n",
      "hello\n",
      "hello\n",
      "hello\n",
      "hello\n",
      "hello\n"
     ]
    }
   ],
   "source": [
    "i=1\n",
    "while i<=10:\n",
    "  print(\"hello\")\n",
    "  i=i+1"
   ]
  },
  {
   "cell_type": "code",
   "execution_count": 2,
   "metadata": {},
   "outputs": [
    {
     "name": "stdout",
     "output_type": "stream",
     "text": [
      "hellodeepakdeepakdeepakdeepak\n",
      "hellodeepakdeepakdeepakdeepak\n",
      "hellodeepakdeepakdeepakdeepak\n",
      "hellodeepakdeepakdeepakdeepak\n",
      "hellodeepakdeepakdeepakdeepak\n"
     ]
    }
   ],
   "source": [
    "i=5 \n",
    "j=1\n",
    "while i>0:\n",
    "    print(\"hello\",end=\"\")# end is used to print the value at same line\n",
    "    while j<=4:\n",
    "      print(\"deepak\",end=\"\")\n",
    "      j=j+1\n",
    "    i=i-1\n",
    "    j=1\n",
    "    print()#used to print at new line"
   ]
  },
  {
   "cell_type": "code",
   "execution_count": null,
   "metadata": {},
   "outputs": [],
   "source": []
  },
  {
   "cell_type": "code",
   "execution_count": null,
   "metadata": {},
   "outputs": [],
   "source": []
  },
  {
   "cell_type": "code",
   "execution_count": null,
   "metadata": {},
   "outputs": [],
   "source": []
  }
 ],
 "metadata": {
  "kernelspec": {
   "display_name": "Python 3",
   "language": "python",
   "name": "python3"
  },
  "language_info": {
   "codemirror_mode": {
    "name": "ipython",
    "version": 3
   },
   "file_extension": ".py",
   "mimetype": "text/x-python",
   "name": "python",
   "nbconvert_exporter": "python",
   "pygments_lexer": "ipython3",
   "version": "3.7.4"
  }
 },
 "nbformat": 4,
 "nbformat_minor": 2
}
