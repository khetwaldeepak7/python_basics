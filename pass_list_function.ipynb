{
 "cells": [
  {
   "cell_type": "code",
   "execution_count": 1,
   "metadata": {},
   "outputs": [
    {
     "name": "stdout",
     "output_type": "stream",
     "text": [
      "enter the length of array4\n",
      "0\n",
      "1\n",
      "2\n",
      "3\n"
     ]
    }
   ],
   "source": [
    "from array import *\n",
    "ls=array('i',[])\n",
    "x=int(input(\"enter the length of array\"))\n",
    "for i in range(x):   # range of x=4 measn it will go it 3 index\n",
    "    print(i)\n",
    "   # y=int(input(\"enter the values\"))\n",
    "   # ls.append(y)\n",
    "#for i in ls:\n",
    "  #  if(i%2==0):\n",
    " #       print(\"even\")\n",
    "   # else:\n",
    "    #    print(\"odd\")"
   ]
  },
  {
   "cell_type": "code",
   "execution_count": 1,
   "metadata": {},
   "outputs": [
    {
     "name": "stdout",
     "output_type": "stream",
     "text": [
      "enter the length of array5\n",
      "enter the values12\n",
      "enter the values5\n",
      "enter the values84\n",
      "enter the values654\n",
      "enter the values4\n",
      "even\n",
      "odd\n",
      "even\n",
      "even\n",
      "even\n"
     ]
    }
   ],
   "source": [
    "from array import *\n",
    "ls=array('i',[])\n",
    "x=int(input(\"enter the length of array\"))\n",
    "for i in range(x):   # range of x=4 measn it will go it 3 index\n",
    "    #print(i)\n",
    "    y=int(input(\"enter the values\"))\n",
    "    ls.append(y)\n",
    "for i in ls:\n",
    "    if(i%2==0):\n",
    "        print(\"even\")\n",
    "    else:\n",
    "        print(\"odd\")"
   ]
  },
  {
   "cell_type": "code",
   "execution_count": 1,
   "metadata": {},
   "outputs": [
    {
     "name": "stdout",
     "output_type": "stream",
     "text": [
      "length of array4\n",
      "enter the value1\n",
      "enter the value2\n",
      "enter the value3\n",
      "enter the value4\n",
      "array('i', [1, 2, 3, 4])\n",
      "2 2\n"
     ]
    }
   ],
   "source": [
    "#user input \n",
    "from array import *\n",
    "def coun(lis):\n",
    "    even=0\n",
    "    odd=0\n",
    "    for re in lis:\n",
    "        if(re%2==0):\n",
    "            even=even+1\n",
    "        else:\n",
    "            odd=odd+1\n",
    "    return even,odd\n",
    "    \n",
    "lis=array('i',[])\n",
    "x=int(input(\"length of array\"))\n",
    "for i in range(x):\n",
    "    y=int(input('enter the value'))\n",
    "    lis.append(y)  # inside the loop we will do append because we have accept value one by one and assign that value to array\n",
    "#if we will append the value outside the loop than the ony single value that we have assigned at the end to (y) wil be assigned to the array\n",
    "print(lis)\n",
    "even,odd=coun(lis)\n",
    "print(even,odd)\n"
   ]
  },
  {
   "cell_type": "code",
   "execution_count": 3,
   "metadata": {},
   "outputs": [
    {
     "name": "stdout",
     "output_type": "stream",
     "text": [
      "5 0\n"
     ]
    }
   ],
   "source": [
    "#user define value\n",
    "def count(lst):\n",
    "    even=0\n",
    "    odd=0\n",
    "    for i in lst:\n",
    "        if i%2==0:\n",
    "            even=even+1\n",
    "        else:\n",
    "            odd=odd+1\n",
    "    return even,odd\n",
    "    \n",
    "lst = [10,20,30,40,50]\n",
    "even , odd=count(lst)\n",
    "print(even,odd)"
   ]
  },
  {
   "cell_type": "code",
   "execution_count": null,
   "metadata": {},
   "outputs": [],
   "source": []
  },
  {
   "cell_type": "code",
   "execution_count": 32,
   "metadata": {},
   "outputs": [
    {
     "name": "stdout",
     "output_type": "stream",
     "text": [
      "enter the length of number8\n",
      "0\n",
      "1\n",
      "1\n",
      "2\n",
      "3\n",
      "5\n",
      "8\n",
      "13\n",
      "21\n",
      "34\n"
     ]
    }
   ],
   "source": [
    "# printing fibonacci  series without function call\n",
    "x=int(input(\"enter the length of number\"))\n",
    "su=0\n",
    "t1=0\n",
    "t2=1\n",
    "print(t1)\n",
    "print(t2)\n",
    "for i in range(x):\n",
    "    t3=t1+t2\n",
    "    temp=t1\n",
    "    t1=t2\n",
    "    t2=t3\n",
    "    \n",
    "    \n",
    "    #print(t3)\n",
    "   \n",
    "    print(t3)\n",
    "    "
   ]
  },
  {
   "cell_type": "code",
   "execution_count": 34,
   "metadata": {},
   "outputs": [
    {
     "name": "stdout",
     "output_type": "stream",
     "text": [
      "enter the value till which we want to print the number5\n",
      "0\n",
      "1\n",
      "1\n",
      "2\n",
      "3\n",
      "5\n",
      "8\n"
     ]
    }
   ],
   "source": [
    "# using function \n",
    "def fib(n):\n",
    "    t1=0\n",
    "    t2=1\n",
    "    print(t1) \n",
    "    print(t2)\n",
    "    for i in range(n):\n",
    "        res=t1+t2\n",
    "        temp=t1\n",
    "        t1=t2\n",
    "        t2=res\n",
    "        print(res)\n",
    "\n",
    "n=int(input(\"enter the value till which we want to print the number\"))\n",
    "fib(n)"
   ]
  },
  {
   "cell_type": "code",
   "execution_count": null,
   "metadata": {},
   "outputs": [],
   "source": []
  }
 ],
 "metadata": {
  "kernelspec": {
   "display_name": "Python 3",
   "language": "python",
   "name": "python3"
  },
  "language_info": {
   "codemirror_mode": {
    "name": "ipython",
    "version": 3
   },
   "file_extension": ".py",
   "mimetype": "text/x-python",
   "name": "python",
   "nbconvert_exporter": "python",
   "pygments_lexer": "ipython3",
   "version": "3.7.4"
  }
 },
 "nbformat": 4,
 "nbformat_minor": 2
}
