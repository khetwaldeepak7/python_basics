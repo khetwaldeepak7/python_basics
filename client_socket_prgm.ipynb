{
 "cells": [
  {
   "cell_type": "code",
   "execution_count": 3,
   "metadata": {},
   "outputs": [],
   "source": [
    "#notes =once the port number we have allocated after running once ,if we will run again server than that time we have to change the port number\n",
    "\n",
    "\n",
    "import socket\n",
    "c=socket.socket()\n",
    "# client wil not bind a port number\n",
    "# it will simply connect\n",
    "c.connect((\"localhost\",1222))     #it will take 2 thing     #1) mention the ip addres of server\n",
    "                                         #2) and the port number which we want to connect with"
   ]
  },
  {
   "cell_type": "code",
   "execution_count": 5,
   "metadata": {},
   "outputs": [
    {
     "name": "stdout",
     "output_type": "stream",
     "text": [
      "welcome to my socket program\n"
     ]
    }
   ],
   "source": [
    "print(c.recv(1023))   #here we have received the message that client had sended"
   ]
  },
  {
   "cell_type": "code",
   "execution_count": null,
   "metadata": {},
   "outputs": [],
   "source": []
  }
 ],
 "metadata": {
  "kernelspec": {
   "display_name": "Python 2",
   "language": "python",
   "name": "python2"
  },
  "language_info": {
   "codemirror_mode": {
    "name": "ipython",
    "version": 2
   },
   "file_extension": ".py",
   "mimetype": "text/x-python",
   "name": "python",
   "nbconvert_exporter": "python",
   "pygments_lexer": "ipython2",
   "version": "2.7.15"
  }
 },
 "nbformat": 4,
 "nbformat_minor": 2
}
