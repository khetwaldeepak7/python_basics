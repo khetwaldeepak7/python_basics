{
 "cells": [
  {
   "cell_type": "code",
   "execution_count": 2,
   "metadata": {},
   "outputs": [
    {
     "name": "stdout",
     "output_type": "stream",
     "text": [
      "6\n",
      "7\n",
      "8\n",
      "9\n",
      "10\n"
     ]
    }
   ],
   "source": [
    "#using for loop  manually adding values\n",
    "from numpy import *\n",
    "arr=array([1,2,3,4,5])\n",
    "for i in arr:\n",
    "    i=i+5\n",
    "    print(i)"
   ]
  },
  {
   "cell_type": "code",
   "execution_count": 3,
   "metadata": {},
   "outputs": [
    {
     "name": "stdout",
     "output_type": "stream",
     "text": [
      "[ 6  7  8  9 10]\n"
     ]
    }
   ],
   "source": [
    "#simple way to add by module\n",
    "from numpy import *\n",
    "arr=array([1,2,3,4,5])\n",
    "ar=arr+5                # simple way to add just by importing numpy\n",
    "print(ar)"
   ]
  },
  {
   "cell_type": "code",
   "execution_count": 4,
   "metadata": {},
   "outputs": [
    {
     "name": "stdout",
     "output_type": "stream",
     "text": [
      "[ 7  9 11 13 15]\n"
     ]
    }
   ],
   "source": [
    "#addining two array \n",
    "from numpy import *\n",
    "a1=array([1,2,3,4,5])\n",
    "a2=array([6,7,8,9,10]) #adding two array knows as vectorized operation\n",
    "a3=a1+a2         # simple way to add 2 array\n",
    "print(a3)   #printing two array"
   ]
  },
  {
   "cell_type": "code",
   "execution_count": 7,
   "metadata": {},
   "outputs": [
    {
     "name": "stdout",
     "output_type": "stream",
     "text": [
      "[1.         1.41421356 1.73205081 2.         2.23606798]\n"
     ]
    }
   ],
   "source": [
    "#numpy provide many predefine function to perform certain operation\n",
    "from numpy import *\n",
    "\n",
    "a1=array([1,2,3,4,5]) \n",
    "#print (log(a1))# to find the log of the number\n",
    "#print(sin(a1))# sin VAlues \n",
    "print(sqrt(a1))# square root of number"
   ]
  },
  {
   "cell_type": "code",
   "execution_count": 9,
   "metadata": {},
   "outputs": [
    {
     "name": "stdout",
     "output_type": "stream",
     "text": [
      "[1 2 3 4 5 7 8]\n"
     ]
    }
   ],
   "source": [
    "from numpy import *\n",
    "\n",
    "a1=array([1,2,3,4,5,8,7])\n",
    "print (sort(a1))# we can directly sort the array"
   ]
  },
  {
   "cell_type": "code",
   "execution_count": 13,
   "metadata": {},
   "outputs": [
    {
     "name": "stdout",
     "output_type": "stream",
     "text": [
      "[ 1  2  3  4  5  7  8 23]\n"
     ]
    }
   ],
   "source": [
    "from numpy import *\n",
    "\n",
    "a1=array([1,2,3,4,5,5,8,23,23,7])\n",
    "print (unique(a1))# does not allowed the duplicate"
   ]
  },
  {
   "cell_type": "code",
   "execution_count": 17,
   "metadata": {},
   "outputs": [
    {
     "name": "stdout",
     "output_type": "stream",
     "text": [
      "(array([ 1,  2,  3,  4,  5,  5,  8, 23, 23,  7]), array([ 6,  7,  8,  9, 10]))\n"
     ]
    }
   ],
   "source": [
    " a3=(a1,a2)               # we can concatenate two array\n",
    "print(a3)"
   ]
  },
  {
   "cell_type": "markdown",
   "metadata": {},
   "source": [
    "# we can concatenate two array"
   ]
  },
  {
   "cell_type": "code",
   "execution_count": 19,
   "metadata": {},
   "outputs": [
    {
     "name": "stdout",
     "output_type": "stream",
     "text": [
      "[ 1  2  3  4  5  5  8 23 23  7  6  7  8  9 10]\n"
     ]
    }
   ],
   "source": [
    "a3=concatenate([a1,a2])        # added two array together\n",
    "print(a3)"
   ]
  },
  {
   "cell_type": "code",
   "execution_count": 28,
   "metadata": {},
   "outputs": [
    {
     "name": "stdout",
     "output_type": "stream",
     "text": [
      "[2 3 4 5]\n",
      "[2 3 4 5]\n",
      "140574485775424\n",
      "140574485775424\n"
     ]
    }
   ],
   "source": [
    "# assigning one array to another array\n",
    "a1=array([2,3,4,5])\n",
    "\n",
    "a2=a1\n",
    "print(a1)\n",
    "print(a2) \n",
    "#but the memory allocation addres is same to both the array because the both array holding the same memory adddress\n",
    "print(id(a1))\n",
    "print(id(a2))"
   ]
  },
  {
   "cell_type": "code",
   "execution_count": 29,
   "metadata": {},
   "outputs": [
    {
     "name": "stdout",
     "output_type": "stream",
     "text": [
      "[2 3 4 5]\n",
      "[2 3 4 5]\n",
      "140574485777904\n",
      "140574485258368\n"
     ]
    }
   ],
   "source": [
    "# view() is a function which will help to create two array with same values but with different memory address\n",
    "from numpy import *\n",
    "a1=array([2,3,4,5])\n",
    "a2=a1.view()\n",
    "print(a1)\n",
    "print(a2) \n",
    "print(id(a1))\n",
    "print(id(a2))   #same values with different memory addres using view()function"
   ]
  },
  {
   "cell_type": "code",
   "execution_count": 30,
   "metadata": {},
   "outputs": [
    {
     "name": "stdout",
     "output_type": "stream",
     "text": [
      "[1 3 3 4 5]\n",
      "[1 3 3 4 5]\n"
     ]
    }
   ],
   "source": [
    "#there are two way by which you can copy the element of array\n",
    "#1)shallow:in this array one array is depended on another array mean i change the values of one array than it automatically reflect the second array\n",
    "\n",
    "#2)deep:no one is depend on any other array .value is independent\n",
    "#shallow\n",
    "a=array([1,2,3,4,5])\n",
    "a2=a\n",
    "a[1]=3   #changed the values of array of index 1 , \n",
    "print(a)\n",
    "print(a2)# changes took places in both array"
   ]
  },
  {
   "cell_type": "code",
   "execution_count": 32,
   "metadata": {},
   "outputs": [
    {
     "name": "stdout",
     "output_type": "stream",
     "text": [
      "[1 3 3 4 5]\n",
      "[1 2 3 4 5]\n"
     ]
    }
   ],
   "source": [
    "# deep\n",
    "a=array([1,2,3,4,5])\n",
    "a2=a.copy()# copy is method which we will create the copy of a\n",
    "a[1]=3    #\n",
    "print(a)  #changing will takeplace on first array\n",
    "print(a2) #it will remain the same  because we have used copy function"
   ]
  },
  {
   "cell_type": "code",
   "execution_count": null,
   "metadata": {},
   "outputs": [],
   "source": []
  }
 ],
 "metadata": {
  "kernelspec": {
   "display_name": "Python 3",
   "language": "python",
   "name": "python3"
  },
  "language_info": {
   "codemirror_mode": {
    "name": "ipython",
    "version": 3
   },
   "file_extension": ".py",
   "mimetype": "text/x-python",
   "name": "python",
   "nbconvert_exporter": "python",
   "pygments_lexer": "ipython3",
   "version": "3.7.4"
  }
 },
 "nbformat": 4,
 "nbformat_minor": 2
}
