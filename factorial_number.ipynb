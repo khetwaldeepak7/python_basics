{
 "cells": [
  {
   "cell_type": "code",
   "execution_count": 6,
   "metadata": {},
   "outputs": [
    {
     "name": "stdout",
     "output_type": "stream",
     "text": [
      "enter the number 5\n",
      "120\n"
     ]
    }
   ],
   "source": [
    "def fact(n):\n",
    "    result=1\n",
    "    for i in range(1,n+1): #so in the range it take till the the lower value of it but we want to print til the last value that we have entered\n",
    "        result=result*i\n",
    "    return result         #here the result variable will pass to the placed from where we have called the function\n",
    "n=int(input(\"enter the number \"))\n",
    "var=fact(n)       # here we have took a variable bec return will return the value and to store that value we need a variable\n"
   ]
  },
  {
   "cell_type": "code",
   "execution_count": 9,
   "metadata": {},
   "outputs": [
    {
     "name": "stdout",
     "output_type": "stream",
     "text": [
      "abbb\n",
      "aabb\n",
      "aaab\n",
      "aaaa\n"
     ]
    }
   ],
   "source": [
    "\n",
    "for i in range(4):\n",
    "    \n",
    "    for j in range(4):\n",
    "        if(i>=j):\n",
    "            print(v,end=\"\")\n",
    "        else:\n",
    "            print(\"b\",end=\"\")\n",
    "            \n",
    "    print(\"\")"
   ]
  },
  {
   "cell_type": "code",
   "execution_count": null,
   "metadata": {},
   "outputs": [],
   "source": []
  }
 ],
 "metadata": {
  "kernelspec": {
   "display_name": "Python 3",
   "language": "python",
   "name": "python3"
  },
  "language_info": {
   "codemirror_mode": {
    "name": "ipython",
    "version": 3
   },
   "file_extension": ".py",
   "mimetype": "text/x-python",
   "name": "python",
   "nbconvert_exporter": "python",
   "pygments_lexer": "ipython3",
   "version": "3.7.4"
  }
 },
 "nbformat": 4,
 "nbformat_minor": 2
}
