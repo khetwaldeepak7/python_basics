{
 "cells": [
  {
   "cell_type": "code",
   "execution_count": 6,
   "metadata": {},
   "outputs": [
    {
     "name": "stdout",
     "output_type": "stream",
     "text": [
      "enter the number 5\n",
      "120\n"
     ]
    }
   ],
   "source": [
    "def fact(n):\n",
    "    result=1\n",
    "    for i in range(1,n+1): #so in the range it take till the the lower value of it but we want to print til the last value that we have entered\n",
    "        result=result*i\n",
    "    return result         #here the result variable will pass to the placed from where we have called the function\n",
    "n=int(input(\"enter the number \"))\n",
    "var=fact(n)       # here we have took a variable bec return will return the value and to store that value we need a variable\n"
   ]
  },
  {
   "cell_type": "code",
   "execution_count": 15,
   "metadata": {},
   "outputs": [
    {
     "name": "stdout",
     "output_type": "stream",
     "text": [
      "AQRS\n",
      "ABQR\n",
      "ABCQ\n",
      "ABCD\n"
     ]
    }
   ],
   "source": [
    "v=65\n",
    "t=80\n",
    "for i in range(4):\n",
    "    v=65\n",
    "    t=81\n",
    "    for j in range(4):\n",
    "        if(i>=j):\n",
    "            print(chr(v),end=\"\")\n",
    "            v=v+1\n",
    "        else:\n",
    "            print(chr(t),end=\"\")\n",
    "            t=t+1\n",
    "            \n",
    "    print(\"\")"
   ]
  },
  {
   "cell_type": "code",
   "execution_count": 2,
   "metadata": {},
   "outputs": [
    {
     "data": {
      "text/plain": [
       "65"
      ]
     },
     "execution_count": 2,
     "metadata": {},
     "output_type": "execute_result"
    }
   ],
   "source": [
    "#to get the ascii value \n",
    "ord(\"A\")  # to know what will be the ascii value of A"
   ]
  },
  {
   "cell_type": "code",
   "execution_count": 3,
   "metadata": {},
   "outputs": [
    {
     "data": {
      "text/plain": [
       "'A'"
      ]
     },
     "execution_count": 3,
     "metadata": {},
     "output_type": "execute_result"
    }
   ],
   "source": [
    "# n to get the value of characters \n",
    "chr(65)  # from ascii value to know the original value of that characters"
   ]
  },
  {
   "cell_type": "code",
   "execution_count": 9,
   "metadata": {},
   "outputs": [
    {
     "data": {
      "text/plain": [
       "80"
      ]
     },
     "execution_count": 9,
     "metadata": {},
     "output_type": "execute_result"
    }
   ],
   "source": [
    "ord(\"P\")"
   ]
  },
  {
   "cell_type": "code",
   "execution_count": null,
   "metadata": {},
   "outputs": [],
   "source": []
  }
 ],
 "metadata": {
  "kernelspec": {
   "display_name": "Python 3",
   "language": "python",
   "name": "python3"
  },
  "language_info": {
   "codemirror_mode": {
    "name": "ipython",
    "version": 3
   },
   "file_extension": ".py",
   "mimetype": "text/x-python",
   "name": "python",
   "nbconvert_exporter": "python",
   "pygments_lexer": "ipython3",
   "version": "3.7.4"
  }
 },
 "nbformat": 4,
 "nbformat_minor": 2
}
