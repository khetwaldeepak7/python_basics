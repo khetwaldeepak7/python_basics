{
 "cells": [
  {
   "cell_type": "code",
   "execution_count": 15,
   "metadata": {},
   "outputs": [
    {
     "name": "stdout",
     "output_type": "stream",
     "text": [
      "[10, 'deepak', 'hello', 10.23]\n"
     ]
    }
   ],
   "source": [
    "num=[10,'deepak',10.23]\n",
    "num.insert(2,'hello')# insert is used to insert the value on the bases of index number\n",
    "print (num)"
   ]
  },
  {
   "cell_type": "code",
   "execution_count": 16,
   "metadata": {},
   "outputs": [
    {
     "name": "stdout",
     "output_type": "stream",
     "text": [
      "['deepak', 'hello', 10.23]\n"
     ]
    }
   ],
   "source": [
    "num.remove(10)# remove is used to remove\n",
    "\n",
    "print (num)"
   ]
  },
  {
   "cell_type": "code",
   "execution_count": 24,
   "metadata": {},
   "outputs": [
    {
     "name": "stdout",
     "output_type": "stream",
     "text": [
      "1234\n",
      "234\n",
      "34\n",
      "4\n"
     ]
    }
   ],
   "source": [
    "# print pattern \n",
    "for i in range(1,5):#i is used for rows\n",
    "    for j in  range(i,5):# j is used for column \n",
    "        print (j,end=\"\")\n",
    "        \n",
    "    print ()\n",
    "        "
   ]
  },
  {
   "cell_type": "code",
   "execution_count": 25,
   "metadata": {},
   "outputs": [],
   "source": [
    "# pattern to draw\n"
   ]
  },
  {
   "cell_type": "code",
   "execution_count": 59,
   "metadata": {},
   "outputs": [
    {
     "name": "stdout",
     "output_type": "stream",
     "text": [
      "APQR\n",
      "ABQR\n",
      "ABCR\n",
      "ABCD\n"
     ]
    }
   ],
   "source": [
    "v=65\n",
    "d=15\n",
    "for i in range(4):\n",
    "    t=0\n",
    "    v=65\n",
    "    for j in range(4):\n",
    "        if(j<=i):\n",
    "            print (chr(v),end=\"\")\n",
    "            v=v+1\n",
    "        else:\n",
    "            k=d-1+t\n",
    "            result=v+k# main logic\n",
    "            print(chr(result),end=\"\")\n",
    "            t=t+1\n",
    "            \n",
    "    print()"
   ]
  },
  {
   "cell_type": "code",
   "execution_count": null,
   "metadata": {},
   "outputs": [],
   "source": []
  }
 ],
 "metadata": {
  "kernelspec": {
   "display_name": "Python 3",
   "language": "python",
   "name": "python3"
  },
  "language_info": {
   "codemirror_mode": {
    "name": "ipython",
    "version": 3
   },
   "file_extension": ".py",
   "mimetype": "text/x-python",
   "name": "python",
   "nbconvert_exporter": "python",
   "pygments_lexer": "ipython3",
   "version": "3.7.4"
  }
 },
 "nbformat": 4,
 "nbformat_minor": 2
}
