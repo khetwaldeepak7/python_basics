{
 "cells": [
  {
   "cell_type": "code",
   "execution_count": 3,
   "metadata": {},
   "outputs": [
    {
     "name": "stdout",
     "output_type": "stream",
     "text": [
      "2.0\n"
     ]
    }
   ],
   "source": [
    " #with the help of decorators we can add extra line of code to the existing function\n",
    "\n",
    "#for eg i have to divide a number .this operation will only take place when the numerator is greater than dinomerator\n",
    "def div(a,b):\n",
    "    if a<b:    # it means the numerators should alway be greater than dinominator\n",
    "        a,b=b,a  #swapping in python\n",
    "    return a/b\n",
    "result=div(2,4)\n",
    "print(result)\n"
   ]
  },
  {
   "cell_type": "code",
   "execution_count": 4,
   "metadata": {},
   "outputs": [
    {
     "name": "stdout",
     "output_type": "stream",
     "text": [
      "2.0\n"
     ]
    }
   ],
   "source": [
    "#image the division code mentined is not with me , the code it in some other folder\n",
    "# i have to check the division without making any changes in the code\n",
    "# so that we can do by using decorators \n",
    "# using decorator we can add extra feature to our function,,using decorators we ca change the behaviour of existing function\n",
    " #with the help of decorators we can add extra line of code to the existing function\n",
    "\n",
    "def div(a,b):  \n",
    "    print(a/b) \n",
    "def smart(fuc):  # we wil create another function in which we will pass the existing function\n",
    "    \n",
    "    def inner(a,b):  # in python we can create a function inside the function\n",
    "        if a<b:\n",
    "            a,b=b,a\n",
    "            return(fuc)\n",
    "    return(inner)\n",
    "div1=smart(div)   #here we have passed the existing function as a parameter to the new created function\n",
    "div1(2,5)\n",
    "#result=div(2,4)\n",
    "\n",
    "print(result)"
   ]
  },
  {
   "cell_type": "code",
   "execution_count": null,
   "metadata": {},
   "outputs": [],
   "source": []
  }
 ],
 "metadata": {
  "kernelspec": {
   "display_name": "Python 3",
   "language": "python",
   "name": "python3"
  },
  "language_info": {
   "codemirror_mode": {
    "name": "ipython",
    "version": 3
   },
   "file_extension": ".py",
   "mimetype": "text/x-python",
   "name": "python",
   "nbconvert_exporter": "python",
   "pygments_lexer": "ipython3",
   "version": "3.7.4"
  }
 },
 "nbformat": 4,
 "nbformat_minor": 2
}
